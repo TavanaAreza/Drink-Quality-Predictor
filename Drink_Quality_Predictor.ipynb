{
  "cells": [
    {
      "cell_type": "code",
      "execution_count": 142,
      "id": "28db6d40",
      "metadata": {
        "execution": {
          "iopub.execute_input": "2022-06-11T12:25:22.765530Z",
          "iopub.status.busy": "2022-06-11T12:25:22.764462Z",
          "iopub.status.idle": "2022-06-11T12:25:24.378725Z",
          "shell.execute_reply": "2022-06-11T12:25:24.378037Z"
        },
        "papermill": {
          "duration": 1.710759,
          "end_time": "2022-06-11T12:25:24.381145",
          "exception": false,
          "start_time": "2022-06-11T12:25:22.670386",
          "status": "completed"
        },
        "tags": [],
        "id": "28db6d40"
      },
      "outputs": [],
      "source": [
        "import pandas as pd\n",
        "import seaborn as sns\n",
        "import matplotlib.pyplot as plt\n",
        "from sklearn.preprocessing import StandardScaler, LabelEncoder\n",
        "from sklearn.model_selection import train_test_split, GridSearchCV, cross_val_score\n",
        "from sklearn.metrics import confusion_matrix, classification_report\n",
        "from sklearn.linear_model import LogisticRegression\n",
        "from sklearn.model_selection import GridSearchCV\n",
        "from sklearn.linear_model import LogisticRegressionCV\n",
        "from sklearn.discriminant_analysis import LinearDiscriminantAnalysis\n",
        "from sklearn.discriminant_analysis import QuadraticDiscriminantAnalysis\n",
        "from sklearn.neighbors import KNeighborsClassifier\n",
        "from sklearn.feature_selection import SelectKBest\n",
        "from sklearn.feature_selection import chi2\n",
        "from sklearn.feature_selection import SelectKBest,chi2,mutual_info_classif,SelectPercentile,SequentialFeatureSelector,RFE,RFECV,SelectFromModel\n",
        "from sklearn import feature_selection\n",
        "from sklearn.ensemble import RandomForestClassifier\n",
        "import numpy as np\n",
        "from sklearn.preprocessing import PolynomialFeatures\n",
        "from statsmodels.stats.outliers_influence import variance_inflation_factor\n",
        "from sklearn.model_selection import GridSearchCV\n",
        "from sklearn.metrics import roc_auc_score\n",
        "from sklearn.metrics import roc_curve\n",
        "from sklearn.feature_selection import SequentialFeatureSelector\n",
        "from sklearn.metrics import accuracy_score\n",
        "from sklearn import tree\n",
        "from sklearn.ensemble import RandomForestClassifier\n",
        "from sklearn import svm"
      ]
    },
    {
      "cell_type": "code",
      "execution_count": 3,
      "id": "23bf5847",
      "metadata": {
        "execution": {
          "iopub.execute_input": "2022-06-11T12:25:24.570312Z",
          "iopub.status.busy": "2022-06-11T12:25:24.569398Z",
          "iopub.status.idle": "2022-06-11T12:25:24.618033Z",
          "shell.execute_reply": "2022-06-11T12:25:24.617389Z"
        },
        "papermill": {
          "duration": 0.146832,
          "end_time": "2022-06-11T12:25:24.620766",
          "exception": false,
          "start_time": "2022-06-11T12:25:24.473934",
          "status": "completed"
        },
        "tags": [],
        "id": "23bf5847",
        "outputId": "1dddaa66-0d59-40ed-fba0-c8c6c1b2f4bb",
        "colab": {
          "base_uri": "https://localhost:8080/",
          "height": 267
        }
      },
      "outputs": [
        {
          "output_type": "execute_result",
          "data": {
            "text/plain": [
              "   fixed acidity  volatile acidity  citric acid  residual sugar  chlorides  \\\n",
              "0            7.4              0.70         0.00             1.9      0.076   \n",
              "1            7.8              0.88         0.00             2.6      0.098   \n",
              "2            7.8              0.76         0.04             2.3      0.092   \n",
              "3           11.2              0.28         0.56             1.9      0.075   \n",
              "4            7.4              0.70         0.00             1.9      0.076   \n",
              "\n",
              "   free sulfur dioxide  total sulfur dioxide  density    pH  sulphates  \\\n",
              "0                 11.0                  34.0   0.9978  3.51       0.56   \n",
              "1                 25.0                  67.0   0.9968  3.20       0.68   \n",
              "2                 15.0                  54.0   0.9970  3.26       0.65   \n",
              "3                 17.0                  60.0   0.9980  3.16       0.58   \n",
              "4                 11.0                  34.0   0.9978  3.51       0.56   \n",
              "\n",
              "   alcohol  quality  \n",
              "0      9.4        5  \n",
              "1      9.8        5  \n",
              "2      9.8        5  \n",
              "3      9.8        6  \n",
              "4      9.4        5  "
            ],
            "text/html": [
              "\n",
              "  <div id=\"df-34b6e091-815a-4bce-a904-2a28d73de477\">\n",
              "    <div class=\"colab-df-container\">\n",
              "      <div>\n",
              "<style scoped>\n",
              "    .dataframe tbody tr th:only-of-type {\n",
              "        vertical-align: middle;\n",
              "    }\n",
              "\n",
              "    .dataframe tbody tr th {\n",
              "        vertical-align: top;\n",
              "    }\n",
              "\n",
              "    .dataframe thead th {\n",
              "        text-align: right;\n",
              "    }\n",
              "</style>\n",
              "<table border=\"1\" class=\"dataframe\">\n",
              "  <thead>\n",
              "    <tr style=\"text-align: right;\">\n",
              "      <th></th>\n",
              "      <th>fixed acidity</th>\n",
              "      <th>volatile acidity</th>\n",
              "      <th>citric acid</th>\n",
              "      <th>residual sugar</th>\n",
              "      <th>chlorides</th>\n",
              "      <th>free sulfur dioxide</th>\n",
              "      <th>total sulfur dioxide</th>\n",
              "      <th>density</th>\n",
              "      <th>pH</th>\n",
              "      <th>sulphates</th>\n",
              "      <th>alcohol</th>\n",
              "      <th>quality</th>\n",
              "    </tr>\n",
              "  </thead>\n",
              "  <tbody>\n",
              "    <tr>\n",
              "      <th>0</th>\n",
              "      <td>7.4</td>\n",
              "      <td>0.70</td>\n",
              "      <td>0.00</td>\n",
              "      <td>1.9</td>\n",
              "      <td>0.076</td>\n",
              "      <td>11.0</td>\n",
              "      <td>34.0</td>\n",
              "      <td>0.9978</td>\n",
              "      <td>3.51</td>\n",
              "      <td>0.56</td>\n",
              "      <td>9.4</td>\n",
              "      <td>5</td>\n",
              "    </tr>\n",
              "    <tr>\n",
              "      <th>1</th>\n",
              "      <td>7.8</td>\n",
              "      <td>0.88</td>\n",
              "      <td>0.00</td>\n",
              "      <td>2.6</td>\n",
              "      <td>0.098</td>\n",
              "      <td>25.0</td>\n",
              "      <td>67.0</td>\n",
              "      <td>0.9968</td>\n",
              "      <td>3.20</td>\n",
              "      <td>0.68</td>\n",
              "      <td>9.8</td>\n",
              "      <td>5</td>\n",
              "    </tr>\n",
              "    <tr>\n",
              "      <th>2</th>\n",
              "      <td>7.8</td>\n",
              "      <td>0.76</td>\n",
              "      <td>0.04</td>\n",
              "      <td>2.3</td>\n",
              "      <td>0.092</td>\n",
              "      <td>15.0</td>\n",
              "      <td>54.0</td>\n",
              "      <td>0.9970</td>\n",
              "      <td>3.26</td>\n",
              "      <td>0.65</td>\n",
              "      <td>9.8</td>\n",
              "      <td>5</td>\n",
              "    </tr>\n",
              "    <tr>\n",
              "      <th>3</th>\n",
              "      <td>11.2</td>\n",
              "      <td>0.28</td>\n",
              "      <td>0.56</td>\n",
              "      <td>1.9</td>\n",
              "      <td>0.075</td>\n",
              "      <td>17.0</td>\n",
              "      <td>60.0</td>\n",
              "      <td>0.9980</td>\n",
              "      <td>3.16</td>\n",
              "      <td>0.58</td>\n",
              "      <td>9.8</td>\n",
              "      <td>6</td>\n",
              "    </tr>\n",
              "    <tr>\n",
              "      <th>4</th>\n",
              "      <td>7.4</td>\n",
              "      <td>0.70</td>\n",
              "      <td>0.00</td>\n",
              "      <td>1.9</td>\n",
              "      <td>0.076</td>\n",
              "      <td>11.0</td>\n",
              "      <td>34.0</td>\n",
              "      <td>0.9978</td>\n",
              "      <td>3.51</td>\n",
              "      <td>0.56</td>\n",
              "      <td>9.4</td>\n",
              "      <td>5</td>\n",
              "    </tr>\n",
              "  </tbody>\n",
              "</table>\n",
              "</div>\n",
              "      <button class=\"colab-df-convert\" onclick=\"convertToInteractive('df-34b6e091-815a-4bce-a904-2a28d73de477')\"\n",
              "              title=\"Convert this dataframe to an interactive table.\"\n",
              "              style=\"display:none;\">\n",
              "        \n",
              "  <svg xmlns=\"http://www.w3.org/2000/svg\" height=\"24px\"viewBox=\"0 0 24 24\"\n",
              "       width=\"24px\">\n",
              "    <path d=\"M0 0h24v24H0V0z\" fill=\"none\"/>\n",
              "    <path d=\"M18.56 5.44l.94 2.06.94-2.06 2.06-.94-2.06-.94-.94-2.06-.94 2.06-2.06.94zm-11 1L8.5 8.5l.94-2.06 2.06-.94-2.06-.94L8.5 2.5l-.94 2.06-2.06.94zm10 10l.94 2.06.94-2.06 2.06-.94-2.06-.94-.94-2.06-.94 2.06-2.06.94z\"/><path d=\"M17.41 7.96l-1.37-1.37c-.4-.4-.92-.59-1.43-.59-.52 0-1.04.2-1.43.59L10.3 9.45l-7.72 7.72c-.78.78-.78 2.05 0 2.83L4 21.41c.39.39.9.59 1.41.59.51 0 1.02-.2 1.41-.59l7.78-7.78 2.81-2.81c.8-.78.8-2.07 0-2.86zM5.41 20L4 18.59l7.72-7.72 1.47 1.35L5.41 20z\"/>\n",
              "  </svg>\n",
              "      </button>\n",
              "      \n",
              "  <style>\n",
              "    .colab-df-container {\n",
              "      display:flex;\n",
              "      flex-wrap:wrap;\n",
              "      gap: 12px;\n",
              "    }\n",
              "\n",
              "    .colab-df-convert {\n",
              "      background-color: #E8F0FE;\n",
              "      border: none;\n",
              "      border-radius: 50%;\n",
              "      cursor: pointer;\n",
              "      display: none;\n",
              "      fill: #1967D2;\n",
              "      height: 32px;\n",
              "      padding: 0 0 0 0;\n",
              "      width: 32px;\n",
              "    }\n",
              "\n",
              "    .colab-df-convert:hover {\n",
              "      background-color: #E2EBFA;\n",
              "      box-shadow: 0px 1px 2px rgba(60, 64, 67, 0.3), 0px 1px 3px 1px rgba(60, 64, 67, 0.15);\n",
              "      fill: #174EA6;\n",
              "    }\n",
              "\n",
              "    [theme=dark] .colab-df-convert {\n",
              "      background-color: #3B4455;\n",
              "      fill: #D2E3FC;\n",
              "    }\n",
              "\n",
              "    [theme=dark] .colab-df-convert:hover {\n",
              "      background-color: #434B5C;\n",
              "      box-shadow: 0px 1px 3px 1px rgba(0, 0, 0, 0.15);\n",
              "      filter: drop-shadow(0px 1px 2px rgba(0, 0, 0, 0.3));\n",
              "      fill: #FFFFFF;\n",
              "    }\n",
              "  </style>\n",
              "\n",
              "      <script>\n",
              "        const buttonEl =\n",
              "          document.querySelector('#df-34b6e091-815a-4bce-a904-2a28d73de477 button.colab-df-convert');\n",
              "        buttonEl.style.display =\n",
              "          google.colab.kernel.accessAllowed ? 'block' : 'none';\n",
              "\n",
              "        async function convertToInteractive(key) {\n",
              "          const element = document.querySelector('#df-34b6e091-815a-4bce-a904-2a28d73de477');\n",
              "          const dataTable =\n",
              "            await google.colab.kernel.invokeFunction('convertToInteractive',\n",
              "                                                     [key], {});\n",
              "          if (!dataTable) return;\n",
              "\n",
              "          const docLinkHtml = 'Like what you see? Visit the ' +\n",
              "            '<a target=\"_blank\" href=https://colab.research.google.com/notebooks/data_table.ipynb>data table notebook</a>'\n",
              "            + ' to learn more about interactive tables.';\n",
              "          element.innerHTML = '';\n",
              "          dataTable['output_type'] = 'display_data';\n",
              "          await google.colab.output.renderOutput(dataTable, element);\n",
              "          const docLink = document.createElement('div');\n",
              "          docLink.innerHTML = docLinkHtml;\n",
              "          element.appendChild(docLink);\n",
              "        }\n",
              "      </script>\n",
              "    </div>\n",
              "  </div>\n",
              "  "
            ]
          },
          "metadata": {},
          "execution_count": 3
        }
      ],
      "source": [
        "drink = pd.read_csv('/Drink_Dataset.csv')\n",
        "drink.head()"
      ]
    },
    {
      "cell_type": "code",
      "execution_count": 4,
      "id": "3960b943",
      "metadata": {
        "execution": {
          "iopub.execute_input": "2022-06-11T12:25:24.808059Z",
          "iopub.status.busy": "2022-06-11T12:25:24.807765Z",
          "iopub.status.idle": "2022-06-11T12:25:24.832567Z",
          "shell.execute_reply": "2022-06-11T12:25:24.831892Z"
        },
        "papermill": {
          "duration": 0.121964,
          "end_time": "2022-06-11T12:25:24.834802",
          "exception": false,
          "start_time": "2022-06-11T12:25:24.712838",
          "status": "completed"
        },
        "tags": [],
        "id": "3960b943",
        "outputId": "49df05f7-527b-4160-f93b-1fd0ec184059",
        "colab": {
          "base_uri": "https://localhost:8080/"
        }
      },
      "outputs": [
        {
          "output_type": "stream",
          "name": "stdout",
          "text": [
            "<class 'pandas.core.frame.DataFrame'>\n",
            "RangeIndex: 1599 entries, 0 to 1598\n",
            "Data columns (total 12 columns):\n",
            " #   Column                Non-Null Count  Dtype  \n",
            "---  ------                --------------  -----  \n",
            " 0   fixed acidity         1599 non-null   float64\n",
            " 1   volatile acidity      1599 non-null   float64\n",
            " 2   citric acid           1599 non-null   float64\n",
            " 3   residual sugar        1599 non-null   float64\n",
            " 4   chlorides             1599 non-null   float64\n",
            " 5   free sulfur dioxide   1599 non-null   float64\n",
            " 6   total sulfur dioxide  1599 non-null   float64\n",
            " 7   density               1599 non-null   float64\n",
            " 8   pH                    1599 non-null   float64\n",
            " 9   sulphates             1599 non-null   float64\n",
            " 10  alcohol               1599 non-null   float64\n",
            " 11  quality               1599 non-null   int64  \n",
            "dtypes: float64(11), int64(1)\n",
            "memory usage: 150.0 KB\n"
          ]
        }
      ],
      "source": [
        "#checking for null values\n",
        "drink.info()"
      ]
    },
    {
      "cell_type": "code",
      "execution_count": 5,
      "id": "8a557843",
      "metadata": {
        "execution": {
          "iopub.execute_input": "2022-06-11T12:25:25.021346Z",
          "iopub.status.busy": "2022-06-11T12:25:25.020818Z",
          "iopub.status.idle": "2022-06-11T12:25:25.051915Z",
          "shell.execute_reply": "2022-06-11T12:25:25.051286Z"
        },
        "papermill": {
          "duration": 0.12701,
          "end_time": "2022-06-11T12:25:25.053961",
          "exception": false,
          "start_time": "2022-06-11T12:25:24.926951",
          "status": "completed"
        },
        "tags": [],
        "id": "8a557843",
        "outputId": "5ca2392b-e814-4595-faa0-a07e4d92ccd6",
        "colab": {
          "base_uri": "https://localhost:8080/",
          "height": 485
        }
      },
      "outputs": [
        {
          "output_type": "execute_result",
          "data": {
            "text/plain": [
              "      fixed acidity  volatile acidity  citric acid  residual sugar  chlorides  \\\n",
              "4               7.4             0.700         0.00            1.90      0.076   \n",
              "11              7.5             0.500         0.36            6.10      0.071   \n",
              "27              7.9             0.430         0.21            1.60      0.106   \n",
              "40              7.3             0.450         0.36            5.90      0.074   \n",
              "65              7.2             0.725         0.05            4.65      0.086   \n",
              "...             ...               ...          ...             ...        ...   \n",
              "1563            7.2             0.695         0.13            2.00      0.076   \n",
              "1564            7.2             0.695         0.13            2.00      0.076   \n",
              "1567            7.2             0.695         0.13            2.00      0.076   \n",
              "1581            6.2             0.560         0.09            1.70      0.053   \n",
              "1596            6.3             0.510         0.13            2.30      0.076   \n",
              "\n",
              "      free sulfur dioxide  total sulfur dioxide  density    pH  sulphates  \\\n",
              "4                    11.0                  34.0  0.99780  3.51       0.56   \n",
              "11                   17.0                 102.0  0.99780  3.35       0.80   \n",
              "27                   10.0                  37.0  0.99660  3.17       0.91   \n",
              "40                   12.0                  87.0  0.99780  3.33       0.83   \n",
              "65                    4.0                  11.0  0.99620  3.41       0.39   \n",
              "...                   ...                   ...      ...   ...        ...   \n",
              "1563                 12.0                  20.0  0.99546  3.29       0.54   \n",
              "1564                 12.0                  20.0  0.99546  3.29       0.54   \n",
              "1567                 12.0                  20.0  0.99546  3.29       0.54   \n",
              "1581                 24.0                  32.0  0.99402  3.54       0.60   \n",
              "1596                 29.0                  40.0  0.99574  3.42       0.75   \n",
              "\n",
              "      alcohol  quality  \n",
              "4         9.4        5  \n",
              "11       10.5        5  \n",
              "27        9.5        5  \n",
              "40       10.5        5  \n",
              "65       10.9        5  \n",
              "...       ...      ...  \n",
              "1563     10.1        5  \n",
              "1564     10.1        5  \n",
              "1567     10.1        5  \n",
              "1581     11.3        5  \n",
              "1596     11.0        6  \n",
              "\n",
              "[240 rows x 12 columns]"
            ],
            "text/html": [
              "\n",
              "  <div id=\"df-82ebd146-9372-4d51-ad5f-cbd9423b02bf\">\n",
              "    <div class=\"colab-df-container\">\n",
              "      <div>\n",
              "<style scoped>\n",
              "    .dataframe tbody tr th:only-of-type {\n",
              "        vertical-align: middle;\n",
              "    }\n",
              "\n",
              "    .dataframe tbody tr th {\n",
              "        vertical-align: top;\n",
              "    }\n",
              "\n",
              "    .dataframe thead th {\n",
              "        text-align: right;\n",
              "    }\n",
              "</style>\n",
              "<table border=\"1\" class=\"dataframe\">\n",
              "  <thead>\n",
              "    <tr style=\"text-align: right;\">\n",
              "      <th></th>\n",
              "      <th>fixed acidity</th>\n",
              "      <th>volatile acidity</th>\n",
              "      <th>citric acid</th>\n",
              "      <th>residual sugar</th>\n",
              "      <th>chlorides</th>\n",
              "      <th>free sulfur dioxide</th>\n",
              "      <th>total sulfur dioxide</th>\n",
              "      <th>density</th>\n",
              "      <th>pH</th>\n",
              "      <th>sulphates</th>\n",
              "      <th>alcohol</th>\n",
              "      <th>quality</th>\n",
              "    </tr>\n",
              "  </thead>\n",
              "  <tbody>\n",
              "    <tr>\n",
              "      <th>4</th>\n",
              "      <td>7.4</td>\n",
              "      <td>0.700</td>\n",
              "      <td>0.00</td>\n",
              "      <td>1.90</td>\n",
              "      <td>0.076</td>\n",
              "      <td>11.0</td>\n",
              "      <td>34.0</td>\n",
              "      <td>0.99780</td>\n",
              "      <td>3.51</td>\n",
              "      <td>0.56</td>\n",
              "      <td>9.4</td>\n",
              "      <td>5</td>\n",
              "    </tr>\n",
              "    <tr>\n",
              "      <th>11</th>\n",
              "      <td>7.5</td>\n",
              "      <td>0.500</td>\n",
              "      <td>0.36</td>\n",
              "      <td>6.10</td>\n",
              "      <td>0.071</td>\n",
              "      <td>17.0</td>\n",
              "      <td>102.0</td>\n",
              "      <td>0.99780</td>\n",
              "      <td>3.35</td>\n",
              "      <td>0.80</td>\n",
              "      <td>10.5</td>\n",
              "      <td>5</td>\n",
              "    </tr>\n",
              "    <tr>\n",
              "      <th>27</th>\n",
              "      <td>7.9</td>\n",
              "      <td>0.430</td>\n",
              "      <td>0.21</td>\n",
              "      <td>1.60</td>\n",
              "      <td>0.106</td>\n",
              "      <td>10.0</td>\n",
              "      <td>37.0</td>\n",
              "      <td>0.99660</td>\n",
              "      <td>3.17</td>\n",
              "      <td>0.91</td>\n",
              "      <td>9.5</td>\n",
              "      <td>5</td>\n",
              "    </tr>\n",
              "    <tr>\n",
              "      <th>40</th>\n",
              "      <td>7.3</td>\n",
              "      <td>0.450</td>\n",
              "      <td>0.36</td>\n",
              "      <td>5.90</td>\n",
              "      <td>0.074</td>\n",
              "      <td>12.0</td>\n",
              "      <td>87.0</td>\n",
              "      <td>0.99780</td>\n",
              "      <td>3.33</td>\n",
              "      <td>0.83</td>\n",
              "      <td>10.5</td>\n",
              "      <td>5</td>\n",
              "    </tr>\n",
              "    <tr>\n",
              "      <th>65</th>\n",
              "      <td>7.2</td>\n",
              "      <td>0.725</td>\n",
              "      <td>0.05</td>\n",
              "      <td>4.65</td>\n",
              "      <td>0.086</td>\n",
              "      <td>4.0</td>\n",
              "      <td>11.0</td>\n",
              "      <td>0.99620</td>\n",
              "      <td>3.41</td>\n",
              "      <td>0.39</td>\n",
              "      <td>10.9</td>\n",
              "      <td>5</td>\n",
              "    </tr>\n",
              "    <tr>\n",
              "      <th>...</th>\n",
              "      <td>...</td>\n",
              "      <td>...</td>\n",
              "      <td>...</td>\n",
              "      <td>...</td>\n",
              "      <td>...</td>\n",
              "      <td>...</td>\n",
              "      <td>...</td>\n",
              "      <td>...</td>\n",
              "      <td>...</td>\n",
              "      <td>...</td>\n",
              "      <td>...</td>\n",
              "      <td>...</td>\n",
              "    </tr>\n",
              "    <tr>\n",
              "      <th>1563</th>\n",
              "      <td>7.2</td>\n",
              "      <td>0.695</td>\n",
              "      <td>0.13</td>\n",
              "      <td>2.00</td>\n",
              "      <td>0.076</td>\n",
              "      <td>12.0</td>\n",
              "      <td>20.0</td>\n",
              "      <td>0.99546</td>\n",
              "      <td>3.29</td>\n",
              "      <td>0.54</td>\n",
              "      <td>10.1</td>\n",
              "      <td>5</td>\n",
              "    </tr>\n",
              "    <tr>\n",
              "      <th>1564</th>\n",
              "      <td>7.2</td>\n",
              "      <td>0.695</td>\n",
              "      <td>0.13</td>\n",
              "      <td>2.00</td>\n",
              "      <td>0.076</td>\n",
              "      <td>12.0</td>\n",
              "      <td>20.0</td>\n",
              "      <td>0.99546</td>\n",
              "      <td>3.29</td>\n",
              "      <td>0.54</td>\n",
              "      <td>10.1</td>\n",
              "      <td>5</td>\n",
              "    </tr>\n",
              "    <tr>\n",
              "      <th>1567</th>\n",
              "      <td>7.2</td>\n",
              "      <td>0.695</td>\n",
              "      <td>0.13</td>\n",
              "      <td>2.00</td>\n",
              "      <td>0.076</td>\n",
              "      <td>12.0</td>\n",
              "      <td>20.0</td>\n",
              "      <td>0.99546</td>\n",
              "      <td>3.29</td>\n",
              "      <td>0.54</td>\n",
              "      <td>10.1</td>\n",
              "      <td>5</td>\n",
              "    </tr>\n",
              "    <tr>\n",
              "      <th>1581</th>\n",
              "      <td>6.2</td>\n",
              "      <td>0.560</td>\n",
              "      <td>0.09</td>\n",
              "      <td>1.70</td>\n",
              "      <td>0.053</td>\n",
              "      <td>24.0</td>\n",
              "      <td>32.0</td>\n",
              "      <td>0.99402</td>\n",
              "      <td>3.54</td>\n",
              "      <td>0.60</td>\n",
              "      <td>11.3</td>\n",
              "      <td>5</td>\n",
              "    </tr>\n",
              "    <tr>\n",
              "      <th>1596</th>\n",
              "      <td>6.3</td>\n",
              "      <td>0.510</td>\n",
              "      <td>0.13</td>\n",
              "      <td>2.30</td>\n",
              "      <td>0.076</td>\n",
              "      <td>29.0</td>\n",
              "      <td>40.0</td>\n",
              "      <td>0.99574</td>\n",
              "      <td>3.42</td>\n",
              "      <td>0.75</td>\n",
              "      <td>11.0</td>\n",
              "      <td>6</td>\n",
              "    </tr>\n",
              "  </tbody>\n",
              "</table>\n",
              "<p>240 rows × 12 columns</p>\n",
              "</div>\n",
              "      <button class=\"colab-df-convert\" onclick=\"convertToInteractive('df-82ebd146-9372-4d51-ad5f-cbd9423b02bf')\"\n",
              "              title=\"Convert this dataframe to an interactive table.\"\n",
              "              style=\"display:none;\">\n",
              "        \n",
              "  <svg xmlns=\"http://www.w3.org/2000/svg\" height=\"24px\"viewBox=\"0 0 24 24\"\n",
              "       width=\"24px\">\n",
              "    <path d=\"M0 0h24v24H0V0z\" fill=\"none\"/>\n",
              "    <path d=\"M18.56 5.44l.94 2.06.94-2.06 2.06-.94-2.06-.94-.94-2.06-.94 2.06-2.06.94zm-11 1L8.5 8.5l.94-2.06 2.06-.94-2.06-.94L8.5 2.5l-.94 2.06-2.06.94zm10 10l.94 2.06.94-2.06 2.06-.94-2.06-.94-.94-2.06-.94 2.06-2.06.94z\"/><path d=\"M17.41 7.96l-1.37-1.37c-.4-.4-.92-.59-1.43-.59-.52 0-1.04.2-1.43.59L10.3 9.45l-7.72 7.72c-.78.78-.78 2.05 0 2.83L4 21.41c.39.39.9.59 1.41.59.51 0 1.02-.2 1.41-.59l7.78-7.78 2.81-2.81c.8-.78.8-2.07 0-2.86zM5.41 20L4 18.59l7.72-7.72 1.47 1.35L5.41 20z\"/>\n",
              "  </svg>\n",
              "      </button>\n",
              "      \n",
              "  <style>\n",
              "    .colab-df-container {\n",
              "      display:flex;\n",
              "      flex-wrap:wrap;\n",
              "      gap: 12px;\n",
              "    }\n",
              "\n",
              "    .colab-df-convert {\n",
              "      background-color: #E8F0FE;\n",
              "      border: none;\n",
              "      border-radius: 50%;\n",
              "      cursor: pointer;\n",
              "      display: none;\n",
              "      fill: #1967D2;\n",
              "      height: 32px;\n",
              "      padding: 0 0 0 0;\n",
              "      width: 32px;\n",
              "    }\n",
              "\n",
              "    .colab-df-convert:hover {\n",
              "      background-color: #E2EBFA;\n",
              "      box-shadow: 0px 1px 2px rgba(60, 64, 67, 0.3), 0px 1px 3px 1px rgba(60, 64, 67, 0.15);\n",
              "      fill: #174EA6;\n",
              "    }\n",
              "\n",
              "    [theme=dark] .colab-df-convert {\n",
              "      background-color: #3B4455;\n",
              "      fill: #D2E3FC;\n",
              "    }\n",
              "\n",
              "    [theme=dark] .colab-df-convert:hover {\n",
              "      background-color: #434B5C;\n",
              "      box-shadow: 0px 1px 3px 1px rgba(0, 0, 0, 0.15);\n",
              "      filter: drop-shadow(0px 1px 2px rgba(0, 0, 0, 0.3));\n",
              "      fill: #FFFFFF;\n",
              "    }\n",
              "  </style>\n",
              "\n",
              "      <script>\n",
              "        const buttonEl =\n",
              "          document.querySelector('#df-82ebd146-9372-4d51-ad5f-cbd9423b02bf button.colab-df-convert');\n",
              "        buttonEl.style.display =\n",
              "          google.colab.kernel.accessAllowed ? 'block' : 'none';\n",
              "\n",
              "        async function convertToInteractive(key) {\n",
              "          const element = document.querySelector('#df-82ebd146-9372-4d51-ad5f-cbd9423b02bf');\n",
              "          const dataTable =\n",
              "            await google.colab.kernel.invokeFunction('convertToInteractive',\n",
              "                                                     [key], {});\n",
              "          if (!dataTable) return;\n",
              "\n",
              "          const docLinkHtml = 'Like what you see? Visit the ' +\n",
              "            '<a target=\"_blank\" href=https://colab.research.google.com/notebooks/data_table.ipynb>data table notebook</a>'\n",
              "            + ' to learn more about interactive tables.';\n",
              "          element.innerHTML = '';\n",
              "          dataTable['output_type'] = 'display_data';\n",
              "          await google.colab.output.renderOutput(dataTable, element);\n",
              "          const docLink = document.createElement('div');\n",
              "          docLink.innerHTML = docLinkHtml;\n",
              "          element.appendChild(docLink);\n",
              "        }\n",
              "      </script>\n",
              "    </div>\n",
              "  </div>\n",
              "  "
            ]
          },
          "metadata": {},
          "execution_count": 5
        }
      ],
      "source": [
        "#no null values, checking for duplicate rows\n",
        "drink[drink.duplicated()]"
      ]
    },
    {
      "cell_type": "code",
      "execution_count": 6,
      "id": "d96c8fa1",
      "metadata": {
        "execution": {
          "iopub.execute_input": "2022-06-11T12:25:25.251169Z",
          "iopub.status.busy": "2022-06-11T12:25:25.250635Z",
          "iopub.status.idle": "2022-06-11T12:25:25.258458Z",
          "shell.execute_reply": "2022-06-11T12:25:25.257448Z"
        },
        "papermill": {
          "duration": 0.112948,
          "end_time": "2022-06-11T12:25:25.261350",
          "exception": false,
          "start_time": "2022-06-11T12:25:25.148402",
          "status": "completed"
        },
        "tags": [],
        "id": "d96c8fa1"
      },
      "outputs": [],
      "source": [
        "#240 duplicate rows, lets drop them\n",
        "drink.drop_duplicates(inplace=True)"
      ]
    },
    {
      "cell_type": "code",
      "execution_count": 7,
      "id": "2ec08aee",
      "metadata": {
        "execution": {
          "iopub.execute_input": "2022-06-11T12:25:25.488495Z",
          "iopub.status.busy": "2022-06-11T12:25:25.487881Z",
          "iopub.status.idle": "2022-06-11T12:25:25.500929Z",
          "shell.execute_reply": "2022-06-11T12:25:25.500118Z"
        },
        "papermill": {
          "duration": 0.120152,
          "end_time": "2022-06-11T12:25:25.503073",
          "exception": false,
          "start_time": "2022-06-11T12:25:25.382921",
          "status": "completed"
        },
        "tags": [],
        "id": "2ec08aee",
        "outputId": "c751aacf-de2d-480d-da81-0ae18eddadf6",
        "colab": {
          "base_uri": "https://localhost:8080/"
        }
      },
      "outputs": [
        {
          "output_type": "stream",
          "name": "stdout",
          "text": [
            "<class 'pandas.core.frame.DataFrame'>\n",
            "Int64Index: 1359 entries, 0 to 1598\n",
            "Data columns (total 12 columns):\n",
            " #   Column                Non-Null Count  Dtype  \n",
            "---  ------                --------------  -----  \n",
            " 0   fixed acidity         1359 non-null   float64\n",
            " 1   volatile acidity      1359 non-null   float64\n",
            " 2   citric acid           1359 non-null   float64\n",
            " 3   residual sugar        1359 non-null   float64\n",
            " 4   chlorides             1359 non-null   float64\n",
            " 5   free sulfur dioxide   1359 non-null   float64\n",
            " 6   total sulfur dioxide  1359 non-null   float64\n",
            " 7   density               1359 non-null   float64\n",
            " 8   pH                    1359 non-null   float64\n",
            " 9   sulphates             1359 non-null   float64\n",
            " 10  alcohol               1359 non-null   float64\n",
            " 11  quality               1359 non-null   int64  \n",
            "dtypes: float64(11), int64(1)\n",
            "memory usage: 138.0 KB\n"
          ]
        }
      ],
      "source": [
        "drink.info()"
      ]
    },
    {
      "cell_type": "code",
      "execution_count": 8,
      "id": "3a659804",
      "metadata": {
        "execution": {
          "iopub.execute_input": "2022-06-11T12:25:25.707387Z",
          "iopub.status.busy": "2022-06-11T12:25:25.707070Z",
          "iopub.status.idle": "2022-06-11T12:25:26.142175Z",
          "shell.execute_reply": "2022-06-11T12:25:26.141203Z"
        },
        "papermill": {
          "duration": 0.533897,
          "end_time": "2022-06-11T12:25:26.144596",
          "exception": false,
          "start_time": "2022-06-11T12:25:25.610699",
          "status": "completed"
        },
        "tags": [],
        "id": "3a659804",
        "outputId": "14c4bb76-1ea7-446a-edcb-eb16ca1eca0d",
        "colab": {
          "base_uri": "https://localhost:8080/",
          "height": 296
        }
      },
      "outputs": [
        {
          "output_type": "execute_result",
          "data": {
            "text/plain": [
              "<matplotlib.axes._subplots.AxesSubplot at 0x7fb56f8246d0>"
            ]
          },
          "metadata": {},
          "execution_count": 8
        },
        {
          "output_type": "display_data",
          "data": {
            "text/plain": [
              "<Figure size 432x288 with 1 Axes>"
            ],
            "image/png": "[encoded data removed]"
          },
          "metadata": {
            "needs_background": "light"
          }
        }
      ],
      "source": [
        "#duplicate rows have been dropped\n",
        "#lets plot response variable by predictors\n",
        "\n",
        "fig = plt.figure(figsize = (6,4))\n",
        "sns.barplot(x = 'quality', y = 'fixed acidity', data = drink)"
      ]
    },
    {
      "cell_type": "code",
      "execution_count": 9,
      "id": "b80ebb56",
      "metadata": {
        "execution": {
          "iopub.execute_input": "2022-06-11T12:25:26.337607Z",
          "iopub.status.busy": "2022-06-11T12:25:26.337012Z",
          "iopub.status.idle": "2022-06-11T12:25:26.724985Z",
          "shell.execute_reply": "2022-06-11T12:25:26.724190Z"
        },
        "papermill": {
          "duration": 0.487398,
          "end_time": "2022-06-11T12:25:26.727081",
          "exception": false,
          "start_time": "2022-06-11T12:25:26.239683",
          "status": "completed"
        },
        "tags": [],
        "id": "b80ebb56",
        "outputId": "7dc9a529-7535-48bd-e5c4-494389adce31",
        "colab": {
          "base_uri": "https://localhost:8080/",
          "height": 296
        }
      },
      "outputs": [
        {
          "output_type": "execute_result",
          "data": {
            "text/plain": [
              "<matplotlib.axes._subplots.AxesSubplot at 0x7fb56f13ec10>"
            ]
          },
          "metadata": {},
          "execution_count": 9
        },
        {
          "output_type": "display_data",
          "data": {
            "text/plain": [
              "<Figure size 432x288 with 1 Axes>"
            ],
            "image/png": "[encoded data removed]"
          },
          "metadata": {
            "needs_background": "light"
          }
        }
      ],
      "source": [
        "#it seems no relation between quality and fixed acidity\n",
        "#high variance in quality = 3 & 8 and low variance in the middle\n",
        "\n",
        "fig = plt.figure(figsize = (6,4))\n",
        "sns.barplot(x = 'quality', y = 'volatile acidity', data = drink)"
      ]
    },
    {
      "cell_type": "code",
      "execution_count": 10,
      "id": "ef4654b0",
      "metadata": {
        "execution": {
          "iopub.execute_input": "2022-06-11T12:25:26.920637Z",
          "iopub.status.busy": "2022-06-11T12:25:26.920052Z",
          "iopub.status.idle": "2022-06-11T12:25:26.923756Z",
          "shell.execute_reply": "2022-06-11T12:25:26.923147Z"
        },
        "papermill": {
          "duration": 0.102594,
          "end_time": "2022-06-11T12:25:26.925613",
          "exception": false,
          "start_time": "2022-06-11T12:25:26.823019",
          "status": "completed"
        },
        "tags": [],
        "id": "ef4654b0"
      },
      "outputs": [],
      "source": [
        "#by decreasing volatile acidity we see a increasing pattern in quality\n",
        "#high variance in quality = 3"
      ]
    },
    {
      "cell_type": "code",
      "execution_count": 11,
      "id": "21c5ff90",
      "metadata": {
        "execution": {
          "iopub.execute_input": "2022-06-11T12:25:27.119791Z",
          "iopub.status.busy": "2022-06-11T12:25:27.119218Z",
          "iopub.status.idle": "2022-06-11T12:25:27.506321Z",
          "shell.execute_reply": "2022-06-11T12:25:27.505503Z"
        },
        "papermill": {
          "duration": 0.487498,
          "end_time": "2022-06-11T12:25:27.508352",
          "exception": false,
          "start_time": "2022-06-11T12:25:27.020854",
          "status": "completed"
        },
        "tags": [],
        "id": "21c5ff90",
        "outputId": "a862326c-9b6b-448b-e9fe-d286cbdab793",
        "colab": {
          "base_uri": "https://localhost:8080/",
          "height": 296
        }
      },
      "outputs": [
        {
          "output_type": "execute_result",
          "data": {
            "text/plain": [
              "<matplotlib.axes._subplots.AxesSubplot at 0x7fb585d3c1d0>"
            ]
          },
          "metadata": {},
          "execution_count": 11
        },
        {
          "output_type": "display_data",
          "data": {
            "text/plain": [
              "<Figure size 432x288 with 1 Axes>"
            ],
            "image/png": "[encoded data removed]"
          },
          "metadata": {
            "needs_background": "light"
          }
        }
      ],
      "source": [
        "fig = plt.figure(figsize = (6,4))\n",
        "sns.barplot(x = 'quality', y = 'citric acid', data = drink)"
      ]
    },
    {
      "cell_type": "code",
      "execution_count": 12,
      "id": "7f436638",
      "metadata": {
        "execution": {
          "iopub.execute_input": "2022-06-11T12:25:27.703488Z",
          "iopub.status.busy": "2022-06-11T12:25:27.703161Z",
          "iopub.status.idle": "2022-06-11T12:25:27.706945Z",
          "shell.execute_reply": "2022-06-11T12:25:27.706055Z"
        },
        "papermill": {
          "duration": 0.103954,
          "end_time": "2022-06-11T12:25:27.709094",
          "exception": false,
          "start_time": "2022-06-11T12:25:27.605140",
          "status": "completed"
        },
        "tags": [],
        "id": "7f436638"
      },
      "outputs": [],
      "source": [
        "#increasing quality by increasing citric acid\n",
        "#high variance in quality = 3, 8"
      ]
    },
    {
      "cell_type": "code",
      "execution_count": 13,
      "id": "c1776784",
      "metadata": {
        "execution": {
          "iopub.execute_input": "2022-06-11T12:25:27.906765Z",
          "iopub.status.busy": "2022-06-11T12:25:27.906499Z",
          "iopub.status.idle": "2022-06-11T12:25:28.315170Z",
          "shell.execute_reply": "2022-06-11T12:25:28.314273Z"
        },
        "papermill": {
          "duration": 0.509561,
          "end_time": "2022-06-11T12:25:28.317480",
          "exception": false,
          "start_time": "2022-06-11T12:25:27.807919",
          "status": "completed"
        },
        "tags": [],
        "id": "c1776784",
        "outputId": "3fd38bcb-fc13-48a2-edb8-f8ea50187453",
        "colab": {
          "base_uri": "https://localhost:8080/",
          "height": 296
        }
      },
      "outputs": [
        {
          "output_type": "execute_result",
          "data": {
            "text/plain": [
              "<matplotlib.axes._subplots.AxesSubplot at 0x7fb56eb2a650>"
            ]
          },
          "metadata": {},
          "execution_count": 13
        },
        {
          "output_type": "display_data",
          "data": {
            "text/plain": [
              "<Figure size 432x288 with 1 Axes>"
            ],
            "image/png": "[encoded data removed]"
          },
          "metadata": {
            "needs_background": "light"
          }
        }
      ],
      "source": [
        "fig = plt.figure(figsize = (6,4))\n",
        "sns.barplot(x = 'quality', y = 'residual sugar', data = drink)"
      ]
    },
    {
      "cell_type": "code",
      "execution_count": 14,
      "id": "76c34574",
      "metadata": {
        "execution": {
          "iopub.execute_input": "2022-06-11T12:25:28.517260Z",
          "iopub.status.busy": "2022-06-11T12:25:28.516964Z",
          "iopub.status.idle": "2022-06-11T12:25:28.519976Z",
          "shell.execute_reply": "2022-06-11T12:25:28.519404Z"
        },
        "papermill": {
          "duration": 0.104616,
          "end_time": "2022-06-11T12:25:28.521562",
          "exception": false,
          "start_time": "2022-06-11T12:25:28.416946",
          "status": "completed"
        },
        "tags": [],
        "id": "76c34574"
      },
      "outputs": [],
      "source": [
        "#it seems no relation between residual sugar and fixed acidity\n",
        "#high variance in quality = 3, 4, 8 and low variance in the middle"
      ]
    },
    {
      "cell_type": "code",
      "execution_count": 15,
      "id": "db508b20",
      "metadata": {
        "execution": {
          "iopub.execute_input": "2022-06-11T12:25:28.718362Z",
          "iopub.status.busy": "2022-06-11T12:25:28.718066Z",
          "iopub.status.idle": "2022-06-11T12:25:29.124440Z",
          "shell.execute_reply": "2022-06-11T12:25:29.123580Z"
        },
        "papermill": {
          "duration": 0.507463,
          "end_time": "2022-06-11T12:25:29.126663",
          "exception": false,
          "start_time": "2022-06-11T12:25:28.619200",
          "status": "completed"
        },
        "tags": [],
        "id": "db508b20",
        "outputId": "3384f077-2958-406c-b0e4-588a41d1529e",
        "colab": {
          "base_uri": "https://localhost:8080/",
          "height": 296
        }
      },
      "outputs": [
        {
          "output_type": "execute_result",
          "data": {
            "text/plain": [
              "<matplotlib.axes._subplots.AxesSubplot at 0x7fb56eb5f090>"
            ]
          },
          "metadata": {},
          "execution_count": 15
        },
        {
          "output_type": "display_data",
          "data": {
            "text/plain": [
              "<Figure size 432x288 with 1 Axes>"
            ],
            "image/png": "[encoded data removed]"
          },
          "metadata": {
            "needs_background": "light"
          }
        }
      ],
      "source": [
        "fig = plt.figure(figsize = (6,4))\n",
        "sns.barplot(x = 'quality', y = 'chlorides', data = drink)"
      ]
    },
    {
      "cell_type": "code",
      "execution_count": 16,
      "id": "982a4594",
      "metadata": {
        "execution": {
          "iopub.execute_input": "2022-06-11T12:25:29.328993Z",
          "iopub.status.busy": "2022-06-11T12:25:29.328690Z",
          "iopub.status.idle": "2022-06-11T12:25:29.332253Z",
          "shell.execute_reply": "2022-06-11T12:25:29.331445Z"
        },
        "papermill": {
          "duration": 0.107988,
          "end_time": "2022-06-11T12:25:29.334208",
          "exception": false,
          "start_time": "2022-06-11T12:25:29.226220",
          "status": "completed"
        },
        "tags": [],
        "id": "982a4594"
      },
      "outputs": [],
      "source": [
        "#by decreasing chlorides we see a increasing pattern in quality\n",
        "#high variance in quality = 3"
      ]
    },
    {
      "cell_type": "code",
      "execution_count": 17,
      "id": "271756d8",
      "metadata": {
        "execution": {
          "iopub.execute_input": "2022-06-11T12:25:29.534984Z",
          "iopub.status.busy": "2022-06-11T12:25:29.534582Z",
          "iopub.status.idle": "2022-06-11T12:25:29.940865Z",
          "shell.execute_reply": "2022-06-11T12:25:29.940217Z"
        },
        "papermill": {
          "duration": 0.508537,
          "end_time": "2022-06-11T12:25:29.942829",
          "exception": false,
          "start_time": "2022-06-11T12:25:29.434292",
          "status": "completed"
        },
        "tags": [],
        "id": "271756d8",
        "outputId": "b74cd9ca-7a92-4685-9236-26bc13121f6b",
        "colab": {
          "base_uri": "https://localhost:8080/",
          "height": 296
        }
      },
      "outputs": [
        {
          "output_type": "execute_result",
          "data": {
            "text/plain": [
              "<matplotlib.axes._subplots.AxesSubplot at 0x7fb56e970fd0>"
            ]
          },
          "metadata": {},
          "execution_count": 17
        },
        {
          "output_type": "display_data",
          "data": {
            "text/plain": [
              "<Figure size 432x288 with 1 Axes>"
            ],
            "image/png": "[encoded data removed]"
          },
          "metadata": {
            "needs_background": "light"
          }
        }
      ],
      "source": [
        "fig = plt.figure(figsize = (6,4))\n",
        "sns.barplot(x = 'quality', y = 'free sulfur dioxide', data = drink)"
      ]
    },
    {
      "cell_type": "code",
      "execution_count": 18,
      "id": "7f4927d6",
      "metadata": {
        "execution": {
          "iopub.execute_input": "2022-06-11T12:25:30.148115Z",
          "iopub.status.busy": "2022-06-11T12:25:30.147679Z",
          "iopub.status.idle": "2022-06-11T12:25:30.151059Z",
          "shell.execute_reply": "2022-06-11T12:25:30.150455Z"
        },
        "papermill": {
          "duration": 0.109067,
          "end_time": "2022-06-11T12:25:30.153049",
          "exception": false,
          "start_time": "2022-06-11T12:25:30.043982",
          "status": "completed"
        },
        "tags": [],
        "id": "7f4927d6"
      },
      "outputs": [],
      "source": [
        "#there is a relation between free sulfur dioxide and quality but its not linear\n",
        "#high variance in quality = 3, 8"
      ]
    },
    {
      "cell_type": "code",
      "execution_count": 19,
      "id": "0ad5aafb",
      "metadata": {
        "execution": {
          "iopub.execute_input": "2022-06-11T12:25:30.359173Z",
          "iopub.status.busy": "2022-06-11T12:25:30.358690Z",
          "iopub.status.idle": "2022-06-11T12:25:30.885122Z",
          "shell.execute_reply": "2022-06-11T12:25:30.884288Z"
        },
        "papermill": {
          "duration": 0.631498,
          "end_time": "2022-06-11T12:25:30.887200",
          "exception": false,
          "start_time": "2022-06-11T12:25:30.255702",
          "status": "completed"
        },
        "tags": [],
        "id": "0ad5aafb",
        "outputId": "41c27450-6628-4f9a-eaa3-1288a81514d9",
        "colab": {
          "base_uri": "https://localhost:8080/",
          "height": 296
        }
      },
      "outputs": [
        {
          "output_type": "execute_result",
          "data": {
            "text/plain": [
              "<matplotlib.axes._subplots.AxesSubplot at 0x7fb56e927fd0>"
            ]
          },
          "metadata": {},
          "execution_count": 19
        },
        {
          "output_type": "display_data",
          "data": {
            "text/plain": [
              "<Figure size 432x288 with 1 Axes>"
            ],
            "image/png": "[encoded data removed]"
          },
          "metadata": {
            "needs_background": "light"
          }
        }
      ],
      "source": [
        "\n",
        "fig = plt.figure(figsize = (6,4))\n",
        "sns.barplot(x = 'quality', y = 'total sulfur dioxide', data = drink)"
      ]
    },
    {
      "cell_type": "code",
      "execution_count": 20,
      "id": "a714a2d3",
      "metadata": {
        "execution": {
          "iopub.execute_input": "2022-06-11T12:25:31.095329Z",
          "iopub.status.busy": "2022-06-11T12:25:31.094814Z",
          "iopub.status.idle": "2022-06-11T12:25:31.097773Z",
          "shell.execute_reply": "2022-06-11T12:25:31.097262Z"
        },
        "papermill": {
          "duration": 0.109802,
          "end_time": "2022-06-11T12:25:31.099589",
          "exception": false,
          "start_time": "2022-06-11T12:25:30.989787",
          "status": "completed"
        },
        "tags": [],
        "id": "a714a2d3"
      },
      "outputs": [],
      "source": [
        "#there is a relation between free sulfur dioxide and quality but its not linear\n",
        "#high variance in quality = 3, 4, 8"
      ]
    },
    {
      "cell_type": "code",
      "execution_count": 21,
      "id": "b56151f2",
      "metadata": {
        "execution": {
          "iopub.execute_input": "2022-06-11T12:25:31.305799Z",
          "iopub.status.busy": "2022-06-11T12:25:31.305316Z",
          "iopub.status.idle": "2022-06-11T12:25:31.693331Z",
          "shell.execute_reply": "2022-06-11T12:25:31.692679Z"
        },
        "papermill": {
          "duration": 0.494393,
          "end_time": "2022-06-11T12:25:31.695464",
          "exception": false,
          "start_time": "2022-06-11T12:25:31.201071",
          "status": "completed"
        },
        "tags": [],
        "id": "b56151f2",
        "outputId": "c5c003a7-3607-4207-e8d1-8deeef820e3f",
        "colab": {
          "base_uri": "https://localhost:8080/",
          "height": 296
        }
      },
      "outputs": [
        {
          "output_type": "execute_result",
          "data": {
            "text/plain": [
              "<matplotlib.axes._subplots.AxesSubplot at 0x7fb56e8612d0>"
            ]
          },
          "metadata": {},
          "execution_count": 21
        },
        {
          "output_type": "display_data",
          "data": {
            "text/plain": [
              "<Figure size 432x288 with 1 Axes>"
            ],
            "image/png": "[encoded data removed]"
          },
          "metadata": {
            "needs_background": "light"
          }
        }
      ],
      "source": [
        "fig = plt.figure(figsize = (6,4))\n",
        "sns.barplot(x = 'quality', y = 'density', data = drink)"
      ]
    },
    {
      "cell_type": "code",
      "execution_count": 22,
      "id": "2d0a6cf1",
      "metadata": {
        "execution": {
          "iopub.execute_input": "2022-06-11T12:25:31.903257Z",
          "iopub.status.busy": "2022-06-11T12:25:31.902757Z",
          "iopub.status.idle": "2022-06-11T12:25:31.916261Z",
          "shell.execute_reply": "2022-06-11T12:25:31.915586Z"
        },
        "papermill": {
          "duration": 0.120205,
          "end_time": "2022-06-11T12:25:31.918185",
          "exception": false,
          "start_time": "2022-06-11T12:25:31.797980",
          "status": "completed"
        },
        "tags": [],
        "id": "2d0a6cf1",
        "outputId": "4b4a5a7a-d9e9-45d3-86f5-c5beb9fd38ae",
        "colab": {
          "base_uri": "https://localhost:8080/",
          "height": 300
        }
      },
      "outputs": [
        {
          "output_type": "execute_result",
          "data": {
            "text/plain": [
              "           density\n",
              "count  1359.000000\n",
              "mean      0.996709\n",
              "std       0.001869\n",
              "min       0.990070\n",
              "25%       0.995600\n",
              "50%       0.996700\n",
              "75%       0.997820\n",
              "max       1.003690"
            ],
            "text/html": [
              "\n",
              "  <div id=\"df-c027271b-116b-46e6-9b0e-09112366f964\">\n",
              "    <div class=\"colab-df-container\">\n",
              "      <div>\n",
              "<style scoped>\n",
              "    .dataframe tbody tr th:only-of-type {\n",
              "        vertical-align: middle;\n",
              "    }\n",
              "\n",
              "    .dataframe tbody tr th {\n",
              "        vertical-align: top;\n",
              "    }\n",
              "\n",
              "    .dataframe thead th {\n",
              "        text-align: right;\n",
              "    }\n",
              "</style>\n",
              "<table border=\"1\" class=\"dataframe\">\n",
              "  <thead>\n",
              "    <tr style=\"text-align: right;\">\n",
              "      <th></th>\n",
              "      <th>density</th>\n",
              "    </tr>\n",
              "  </thead>\n",
              "  <tbody>\n",
              "    <tr>\n",
              "      <th>count</th>\n",
              "      <td>1359.000000</td>\n",
              "    </tr>\n",
              "    <tr>\n",
              "      <th>mean</th>\n",
              "      <td>0.996709</td>\n",
              "    </tr>\n",
              "    <tr>\n",
              "      <th>std</th>\n",
              "      <td>0.001869</td>\n",
              "    </tr>\n",
              "    <tr>\n",
              "      <th>min</th>\n",
              "      <td>0.990070</td>\n",
              "    </tr>\n",
              "    <tr>\n",
              "      <th>25%</th>\n",
              "      <td>0.995600</td>\n",
              "    </tr>\n",
              "    <tr>\n",
              "      <th>50%</th>\n",
              "      <td>0.996700</td>\n",
              "    </tr>\n",
              "    <tr>\n",
              "      <th>75%</th>\n",
              "      <td>0.997820</td>\n",
              "    </tr>\n",
              "    <tr>\n",
              "      <th>max</th>\n",
              "      <td>1.003690</td>\n",
              "    </tr>\n",
              "  </tbody>\n",
              "</table>\n",
              "</div>\n",
              "      <button class=\"colab-df-convert\" onclick=\"convertToInteractive('df-c027271b-116b-46e6-9b0e-09112366f964')\"\n",
              "              title=\"Convert this dataframe to an interactive table.\"\n",
              "              style=\"display:none;\">\n",
              "        \n",
              "  <svg xmlns=\"http://www.w3.org/2000/svg\" height=\"24px\"viewBox=\"0 0 24 24\"\n",
              "       width=\"24px\">\n",
              "    <path d=\"M0 0h24v24H0V0z\" fill=\"none\"/>\n",
              "    <path d=\"M18.56 5.44l.94 2.06.94-2.06 2.06-.94-2.06-.94-.94-2.06-.94 2.06-2.06.94zm-11 1L8.5 8.5l.94-2.06 2.06-.94-2.06-.94L8.5 2.5l-.94 2.06-2.06.94zm10 10l.94 2.06.94-2.06 2.06-.94-2.06-.94-.94-2.06-.94 2.06-2.06.94z\"/><path d=\"M17.41 7.96l-1.37-1.37c-.4-.4-.92-.59-1.43-.59-.52 0-1.04.2-1.43.59L10.3 9.45l-7.72 7.72c-.78.78-.78 2.05 0 2.83L4 21.41c.39.39.9.59 1.41.59.51 0 1.02-.2 1.41-.59l7.78-7.78 2.81-2.81c.8-.78.8-2.07 0-2.86zM5.41 20L4 18.59l7.72-7.72 1.47 1.35L5.41 20z\"/>\n",
              "  </svg>\n",
              "      </button>\n",
              "      \n",
              "  <style>\n",
              "    .colab-df-container {\n",
              "      display:flex;\n",
              "      flex-wrap:wrap;\n",
              "      gap: 12px;\n",
              "    }\n",
              "\n",
              "    .colab-df-convert {\n",
              "      background-color: #E8F0FE;\n",
              "      border: none;\n",
              "      border-radius: 50%;\n",
              "      cursor: pointer;\n",
              "      display: none;\n",
              "      fill: #1967D2;\n",
              "      height: 32px;\n",
              "      padding: 0 0 0 0;\n",
              "      width: 32px;\n",
              "    }\n",
              "\n",
              "    .colab-df-convert:hover {\n",
              "      background-color: #E2EBFA;\n",
              "      box-shadow: 0px 1px 2px rgba(60, 64, 67, 0.3), 0px 1px 3px 1px rgba(60, 64, 67, 0.15);\n",
              "      fill: #174EA6;\n",
              "    }\n",
              "\n",
              "    [theme=dark] .colab-df-convert {\n",
              "      background-color: #3B4455;\n",
              "      fill: #D2E3FC;\n",
              "    }\n",
              "\n",
              "    [theme=dark] .colab-df-convert:hover {\n",
              "      background-color: #434B5C;\n",
              "      box-shadow: 0px 1px 3px 1px rgba(0, 0, 0, 0.15);\n",
              "      filter: drop-shadow(0px 1px 2px rgba(0, 0, 0, 0.3));\n",
              "      fill: #FFFFFF;\n",
              "    }\n",
              "  </style>\n",
              "\n",
              "      <script>\n",
              "        const buttonEl =\n",
              "          document.querySelector('#df-c027271b-116b-46e6-9b0e-09112366f964 button.colab-df-convert');\n",
              "        buttonEl.style.display =\n",
              "          google.colab.kernel.accessAllowed ? 'block' : 'none';\n",
              "\n",
              "        async function convertToInteractive(key) {\n",
              "          const element = document.querySelector('#df-c027271b-116b-46e6-9b0e-09112366f964');\n",
              "          const dataTable =\n",
              "            await google.colab.kernel.invokeFunction('convertToInteractive',\n",
              "                                                     [key], {});\n",
              "          if (!dataTable) return;\n",
              "\n",
              "          const docLinkHtml = 'Like what you see? Visit the ' +\n",
              "            '<a target=\"_blank\" href=https://colab.research.google.com/notebooks/data_table.ipynb>data table notebook</a>'\n",
              "            + ' to learn more about interactive tables.';\n",
              "          element.innerHTML = '';\n",
              "          dataTable['output_type'] = 'display_data';\n",
              "          await google.colab.output.renderOutput(dataTable, element);\n",
              "          const docLink = document.createElement('div');\n",
              "          docLink.innerHTML = docLinkHtml;\n",
              "          element.appendChild(docLink);\n",
              "        }\n",
              "      </script>\n",
              "    </div>\n",
              "  </div>\n",
              "  "
            ]
          },
          "metadata": {},
          "execution_count": 22
        }
      ],
      "source": [
        "drink[[\"density\"]].describe()"
      ]
    },
    {
      "cell_type": "code",
      "execution_count": 23,
      "id": "7d1265ad",
      "metadata": {
        "execution": {
          "iopub.execute_input": "2022-06-11T12:25:32.127351Z",
          "iopub.status.busy": "2022-06-11T12:25:32.126456Z",
          "iopub.status.idle": "2022-06-11T12:25:32.147918Z",
          "shell.execute_reply": "2022-06-11T12:25:32.147310Z"
        },
        "papermill": {
          "duration": 0.128075,
          "end_time": "2022-06-11T12:25:32.149788",
          "exception": false,
          "start_time": "2022-06-11T12:25:32.021713",
          "status": "completed"
        },
        "tags": [],
        "id": "7d1265ad",
        "outputId": "90c6047c-6c36-4c92-fd54-a8448cde347a",
        "colab": {
          "base_uri": "https://localhost:8080/",
          "height": 285
        }
      },
      "outputs": [
        {
          "output_type": "execute_result",
          "data": {
            "text/plain": [
              "   fixed acidity  volatile acidity  citric acid  residual sugar  chlorides  \\\n",
              "0            7.4              0.70         0.00             1.9      0.076   \n",
              "1            7.8              0.88         0.00             2.6      0.098   \n",
              "2            7.8              0.76         0.04             2.3      0.092   \n",
              "3           11.2              0.28         0.56             1.9      0.075   \n",
              "5            7.4              0.66         0.00             1.8      0.075   \n",
              "\n",
              "   free sulfur dioxide  total sulfur dioxide  density    pH  sulphates  \\\n",
              "0                 11.0                  34.0   0.9978  3.51       0.56   \n",
              "1                 25.0                  67.0   0.9968  3.20       0.68   \n",
              "2                 15.0                  54.0   0.9970  3.26       0.65   \n",
              "3                 17.0                  60.0   0.9980  3.16       0.58   \n",
              "5                 13.0                  40.0   0.9978  3.51       0.56   \n",
              "\n",
              "   alcohol  quality  densityComperasion  \n",
              "0      9.4        5                 7.8  \n",
              "1      9.8        5                 6.8  \n",
              "2      9.8        5                 7.0  \n",
              "3      9.8        6                 8.0  \n",
              "5      9.4        5                 7.8  "
            ],
            "text/html": [
              "\n",
              "  <div id=\"df-c911c1a2-b23b-4c2d-94ab-e0b127699fc2\">\n",
              "    <div class=\"colab-df-container\">\n",
              "      <div>\n",
              "<style scoped>\n",
              "    .dataframe tbody tr th:only-of-type {\n",
              "        vertical-align: middle;\n",
              "    }\n",
              "\n",
              "    .dataframe tbody tr th {\n",
              "        vertical-align: top;\n",
              "    }\n",
              "\n",
              "    .dataframe thead th {\n",
              "        text-align: right;\n",
              "    }\n",
              "</style>\n",
              "<table border=\"1\" class=\"dataframe\">\n",
              "  <thead>\n",
              "    <tr style=\"text-align: right;\">\n",
              "      <th></th>\n",
              "      <th>fixed acidity</th>\n",
              "      <th>volatile acidity</th>\n",
              "      <th>citric acid</th>\n",
              "      <th>residual sugar</th>\n",
              "      <th>chlorides</th>\n",
              "      <th>free sulfur dioxide</th>\n",
              "      <th>total sulfur dioxide</th>\n",
              "      <th>density</th>\n",
              "      <th>pH</th>\n",
              "      <th>sulphates</th>\n",
              "      <th>alcohol</th>\n",
              "      <th>quality</th>\n",
              "      <th>densityComperasion</th>\n",
              "    </tr>\n",
              "  </thead>\n",
              "  <tbody>\n",
              "    <tr>\n",
              "      <th>0</th>\n",
              "      <td>7.4</td>\n",
              "      <td>0.70</td>\n",
              "      <td>0.00</td>\n",
              "      <td>1.9</td>\n",
              "      <td>0.076</td>\n",
              "      <td>11.0</td>\n",
              "      <td>34.0</td>\n",
              "      <td>0.9978</td>\n",
              "      <td>3.51</td>\n",
              "      <td>0.56</td>\n",
              "      <td>9.4</td>\n",
              "      <td>5</td>\n",
              "      <td>7.8</td>\n",
              "    </tr>\n",
              "    <tr>\n",
              "      <th>1</th>\n",
              "      <td>7.8</td>\n",
              "      <td>0.88</td>\n",
              "      <td>0.00</td>\n",
              "      <td>2.6</td>\n",
              "      <td>0.098</td>\n",
              "      <td>25.0</td>\n",
              "      <td>67.0</td>\n",
              "      <td>0.9968</td>\n",
              "      <td>3.20</td>\n",
              "      <td>0.68</td>\n",
              "      <td>9.8</td>\n",
              "      <td>5</td>\n",
              "      <td>6.8</td>\n",
              "    </tr>\n",
              "    <tr>\n",
              "      <th>2</th>\n",
              "      <td>7.8</td>\n",
              "      <td>0.76</td>\n",
              "      <td>0.04</td>\n",
              "      <td>2.3</td>\n",
              "      <td>0.092</td>\n",
              "      <td>15.0</td>\n",
              "      <td>54.0</td>\n",
              "      <td>0.9970</td>\n",
              "      <td>3.26</td>\n",
              "      <td>0.65</td>\n",
              "      <td>9.8</td>\n",
              "      <td>5</td>\n",
              "      <td>7.0</td>\n",
              "    </tr>\n",
              "    <tr>\n",
              "      <th>3</th>\n",
              "      <td>11.2</td>\n",
              "      <td>0.28</td>\n",
              "      <td>0.56</td>\n",
              "      <td>1.9</td>\n",
              "      <td>0.075</td>\n",
              "      <td>17.0</td>\n",
              "      <td>60.0</td>\n",
              "      <td>0.9980</td>\n",
              "      <td>3.16</td>\n",
              "      <td>0.58</td>\n",
              "      <td>9.8</td>\n",
              "      <td>6</td>\n",
              "      <td>8.0</td>\n",
              "    </tr>\n",
              "    <tr>\n",
              "      <th>5</th>\n",
              "      <td>7.4</td>\n",
              "      <td>0.66</td>\n",
              "      <td>0.00</td>\n",
              "      <td>1.8</td>\n",
              "      <td>0.075</td>\n",
              "      <td>13.0</td>\n",
              "      <td>40.0</td>\n",
              "      <td>0.9978</td>\n",
              "      <td>3.51</td>\n",
              "      <td>0.56</td>\n",
              "      <td>9.4</td>\n",
              "      <td>5</td>\n",
              "      <td>7.8</td>\n",
              "    </tr>\n",
              "  </tbody>\n",
              "</table>\n",
              "</div>\n",
              "      <button class=\"colab-df-convert\" onclick=\"convertToInteractive('df-c911c1a2-b23b-4c2d-94ab-e0b127699fc2')\"\n",
              "              title=\"Convert this dataframe to an interactive table.\"\n",
              "              style=\"display:none;\">\n",
              "        \n",
              "  <svg xmlns=\"http://www.w3.org/2000/svg\" height=\"24px\"viewBox=\"0 0 24 24\"\n",
              "       width=\"24px\">\n",
              "    <path d=\"M0 0h24v24H0V0z\" fill=\"none\"/>\n",
              "    <path d=\"M18.56 5.44l.94 2.06.94-2.06 2.06-.94-2.06-.94-.94-2.06-.94 2.06-2.06.94zm-11 1L8.5 8.5l.94-2.06 2.06-.94-2.06-.94L8.5 2.5l-.94 2.06-2.06.94zm10 10l.94 2.06.94-2.06 2.06-.94-2.06-.94-.94-2.06-.94 2.06-2.06.94z\"/><path d=\"M17.41 7.96l-1.37-1.37c-.4-.4-.92-.59-1.43-.59-.52 0-1.04.2-1.43.59L10.3 9.45l-7.72 7.72c-.78.78-.78 2.05 0 2.83L4 21.41c.39.39.9.59 1.41.59.51 0 1.02-.2 1.41-.59l7.78-7.78 2.81-2.81c.8-.78.8-2.07 0-2.86zM5.41 20L4 18.59l7.72-7.72 1.47 1.35L5.41 20z\"/>\n",
              "  </svg>\n",
              "      </button>\n",
              "      \n",
              "  <style>\n",
              "    .colab-df-container {\n",
              "      display:flex;\n",
              "      flex-wrap:wrap;\n",
              "      gap: 12px;\n",
              "    }\n",
              "\n",
              "    .colab-df-convert {\n",
              "      background-color: #E8F0FE;\n",
              "      border: none;\n",
              "      border-radius: 50%;\n",
              "      cursor: pointer;\n",
              "      display: none;\n",
              "      fill: #1967D2;\n",
              "      height: 32px;\n",
              "      padding: 0 0 0 0;\n",
              "      width: 32px;\n",
              "    }\n",
              "\n",
              "    .colab-df-convert:hover {\n",
              "      background-color: #E2EBFA;\n",
              "      box-shadow: 0px 1px 2px rgba(60, 64, 67, 0.3), 0px 1px 3px 1px rgba(60, 64, 67, 0.15);\n",
              "      fill: #174EA6;\n",
              "    }\n",
              "\n",
              "    [theme=dark] .colab-df-convert {\n",
              "      background-color: #3B4455;\n",
              "      fill: #D2E3FC;\n",
              "    }\n",
              "\n",
              "    [theme=dark] .colab-df-convert:hover {\n",
              "      background-color: #434B5C;\n",
              "      box-shadow: 0px 1px 3px 1px rgba(0, 0, 0, 0.15);\n",
              "      filter: drop-shadow(0px 1px 2px rgba(0, 0, 0, 0.3));\n",
              "      fill: #FFFFFF;\n",
              "    }\n",
              "  </style>\n",
              "\n",
              "      <script>\n",
              "        const buttonEl =\n",
              "          document.querySelector('#df-c911c1a2-b23b-4c2d-94ab-e0b127699fc2 button.colab-df-convert');\n",
              "        buttonEl.style.display =\n",
              "          google.colab.kernel.accessAllowed ? 'block' : 'none';\n",
              "\n",
              "        async function convertToInteractive(key) {\n",
              "          const element = document.querySelector('#df-c911c1a2-b23b-4c2d-94ab-e0b127699fc2');\n",
              "          const dataTable =\n",
              "            await google.colab.kernel.invokeFunction('convertToInteractive',\n",
              "                                                     [key], {});\n",
              "          if (!dataTable) return;\n",
              "\n",
              "          const docLinkHtml = 'Like what you see? Visit the ' +\n",
              "            '<a target=\"_blank\" href=https://colab.research.google.com/notebooks/data_table.ipynb>data table notebook</a>'\n",
              "            + ' to learn more about interactive tables.';\n",
              "          element.innerHTML = '';\n",
              "          dataTable['output_type'] = 'display_data';\n",
              "          await google.colab.output.renderOutput(dataTable, element);\n",
              "          const docLink = document.createElement('div');\n",
              "          docLink.innerHTML = docLinkHtml;\n",
              "          element.appendChild(docLink);\n",
              "        }\n",
              "      </script>\n",
              "    </div>\n",
              "  </div>\n",
              "  "
            ]
          },
          "metadata": {},
          "execution_count": 23
        }
      ],
      "source": [
        "#density min is 0.99, so we define a new variable like (density-0.99) * 1000\n",
        "drink[\"densityComperasion\"] = (drink[\"density\"]-0.99) * 1000\n",
        "drink.head()"
      ]
    },
    {
      "cell_type": "code",
      "execution_count": 24,
      "id": "b8357dad",
      "metadata": {
        "execution": {
          "iopub.execute_input": "2022-06-11T12:25:32.361656Z",
          "iopub.status.busy": "2022-06-11T12:25:32.361208Z",
          "iopub.status.idle": "2022-06-11T12:25:32.756485Z",
          "shell.execute_reply": "2022-06-11T12:25:32.755613Z"
        },
        "papermill": {
          "duration": 0.503048,
          "end_time": "2022-06-11T12:25:32.758618",
          "exception": false,
          "start_time": "2022-06-11T12:25:32.255570",
          "status": "completed"
        },
        "tags": [],
        "id": "b8357dad",
        "outputId": "bbeb14b4-2bbb-40e9-8422-df2f6ff088ab",
        "colab": {
          "base_uri": "https://localhost:8080/",
          "height": 296
        }
      },
      "outputs": [
        {
          "output_type": "execute_result",
          "data": {
            "text/plain": [
              "<matplotlib.axes._subplots.AxesSubplot at 0x7fb56e77a990>"
            ]
          },
          "metadata": {},
          "execution_count": 24
        },
        {
          "output_type": "display_data",
          "data": {
            "text/plain": [
              "<Figure size 432x288 with 1 Axes>"
            ],
            "image/png": "[encoded data removed]"
          },
          "metadata": {
            "needs_background": "light"
          }
        }
      ],
      "source": [
        "#new column created to comperasion densities\n",
        "fig = plt.figure(figsize = (6,4))\n",
        "sns.barplot(x = 'quality', y = 'densityComperasion', data = drink)"
      ]
    },
    {
      "cell_type": "code",
      "execution_count": 25,
      "id": "af82dc0f",
      "metadata": {
        "execution": {
          "iopub.execute_input": "2022-06-11T12:25:32.974747Z",
          "iopub.status.busy": "2022-06-11T12:25:32.974416Z",
          "iopub.status.idle": "2022-06-11T12:25:32.977913Z",
          "shell.execute_reply": "2022-06-11T12:25:32.977089Z"
        },
        "papermill": {
          "duration": 0.115089,
          "end_time": "2022-06-11T12:25:32.979817",
          "exception": false,
          "start_time": "2022-06-11T12:25:32.864728",
          "status": "completed"
        },
        "tags": [],
        "id": "af82dc0f"
      },
      "outputs": [],
      "source": [
        "#quality and densityComperasion have realtion, increasing densityComperasion can increase quality\n",
        "#high variance in quality = 3, 8"
      ]
    },
    {
      "cell_type": "code",
      "execution_count": 26,
      "id": "97c4a6b2",
      "metadata": {
        "execution": {
          "iopub.execute_input": "2022-06-11T12:25:33.193686Z",
          "iopub.status.busy": "2022-06-11T12:25:33.193396Z",
          "iopub.status.idle": "2022-06-11T12:25:33.604848Z",
          "shell.execute_reply": "2022-06-11T12:25:33.603998Z"
        },
        "papermill": {
          "duration": 0.521109,
          "end_time": "2022-06-11T12:25:33.607162",
          "exception": false,
          "start_time": "2022-06-11T12:25:33.086053",
          "status": "completed"
        },
        "tags": [],
        "id": "97c4a6b2",
        "outputId": "c43735af-3711-44c2-b1f4-8b0bfb4c67b4",
        "colab": {
          "base_uri": "https://localhost:8080/",
          "height": 296
        }
      },
      "outputs": [
        {
          "output_type": "execute_result",
          "data": {
            "text/plain": [
              "<matplotlib.axes._subplots.AxesSubplot at 0x7fb56e79f910>"
            ]
          },
          "metadata": {},
          "execution_count": 26
        },
        {
          "output_type": "display_data",
          "data": {
            "text/plain": [
              "<Figure size 432x288 with 1 Axes>"
            ],
            "image/png": "[encoded data removed]"
          },
          "metadata": {
            "needs_background": "light"
          }
        }
      ],
      "source": [
        "fig = plt.figure(figsize = (6,4))\n",
        "sns.barplot(x = 'quality', y = 'pH', data = drink)"
      ]
    },
    {
      "cell_type": "code",
      "execution_count": 27,
      "id": "bc059d07",
      "metadata": {
        "execution": {
          "iopub.execute_input": "2022-06-11T12:25:33.819584Z",
          "iopub.status.busy": "2022-06-11T12:25:33.819283Z",
          "iopub.status.idle": "2022-06-11T12:25:33.834177Z",
          "shell.execute_reply": "2022-06-11T12:25:33.833611Z"
        },
        "papermill": {
          "duration": 0.123075,
          "end_time": "2022-06-11T12:25:33.835961",
          "exception": false,
          "start_time": "2022-06-11T12:25:33.712886",
          "status": "completed"
        },
        "tags": [],
        "id": "bc059d07",
        "outputId": "fb2a7bb9-ca01-4f40-e3b4-e542ddff7a04",
        "colab": {
          "base_uri": "https://localhost:8080/",
          "height": 300
        }
      },
      "outputs": [
        {
          "output_type": "execute_result",
          "data": {
            "text/plain": [
              "                pH\n",
              "count  1359.000000\n",
              "mean      3.309787\n",
              "std       0.155036\n",
              "min       2.740000\n",
              "25%       3.210000\n",
              "50%       3.310000\n",
              "75%       3.400000\n",
              "max       4.010000"
            ],
            "text/html": [
              "\n",
              "  <div id=\"df-567b2cfb-72f5-4498-b2fd-c9a4832f3bb3\">\n",
              "    <div class=\"colab-df-container\">\n",
              "      <div>\n",
              "<style scoped>\n",
              "    .dataframe tbody tr th:only-of-type {\n",
              "        vertical-align: middle;\n",
              "    }\n",
              "\n",
              "    .dataframe tbody tr th {\n",
              "        vertical-align: top;\n",
              "    }\n",
              "\n",
              "    .dataframe thead th {\n",
              "        text-align: right;\n",
              "    }\n",
              "</style>\n",
              "<table border=\"1\" class=\"dataframe\">\n",
              "  <thead>\n",
              "    <tr style=\"text-align: right;\">\n",
              "      <th></th>\n",
              "      <th>pH</th>\n",
              "    </tr>\n",
              "  </thead>\n",
              "  <tbody>\n",
              "    <tr>\n",
              "      <th>count</th>\n",
              "      <td>1359.000000</td>\n",
              "    </tr>\n",
              "    <tr>\n",
              "      <th>mean</th>\n",
              "      <td>3.309787</td>\n",
              "    </tr>\n",
              "    <tr>\n",
              "      <th>std</th>\n",
              "      <td>0.155036</td>\n",
              "    </tr>\n",
              "    <tr>\n",
              "      <th>min</th>\n",
              "      <td>2.740000</td>\n",
              "    </tr>\n",
              "    <tr>\n",
              "      <th>25%</th>\n",
              "      <td>3.210000</td>\n",
              "    </tr>\n",
              "    <tr>\n",
              "      <th>50%</th>\n",
              "      <td>3.310000</td>\n",
              "    </tr>\n",
              "    <tr>\n",
              "      <th>75%</th>\n",
              "      <td>3.400000</td>\n",
              "    </tr>\n",
              "    <tr>\n",
              "      <th>max</th>\n",
              "      <td>4.010000</td>\n",
              "    </tr>\n",
              "  </tbody>\n",
              "</table>\n",
              "</div>\n",
              "      <button class=\"colab-df-convert\" onclick=\"convertToInteractive('df-567b2cfb-72f5-4498-b2fd-c9a4832f3bb3')\"\n",
              "              title=\"Convert this dataframe to an interactive table.\"\n",
              "              style=\"display:none;\">\n",
              "        \n",
              "  <svg xmlns=\"http://www.w3.org/2000/svg\" height=\"24px\"viewBox=\"0 0 24 24\"\n",
              "       width=\"24px\">\n",
              "    <path d=\"M0 0h24v24H0V0z\" fill=\"none\"/>\n",
              "    <path d=\"M18.56 5.44l.94 2.06.94-2.06 2.06-.94-2.06-.94-.94-2.06-.94 2.06-2.06.94zm-11 1L8.5 8.5l.94-2.06 2.06-.94-2.06-.94L8.5 2.5l-.94 2.06-2.06.94zm10 10l.94 2.06.94-2.06 2.06-.94-2.06-.94-.94-2.06-.94 2.06-2.06.94z\"/><path d=\"M17.41 7.96l-1.37-1.37c-.4-.4-.92-.59-1.43-.59-.52 0-1.04.2-1.43.59L10.3 9.45l-7.72 7.72c-.78.78-.78 2.05 0 2.83L4 21.41c.39.39.9.59 1.41.59.51 0 1.02-.2 1.41-.59l7.78-7.78 2.81-2.81c.8-.78.8-2.07 0-2.86zM5.41 20L4 18.59l7.72-7.72 1.47 1.35L5.41 20z\"/>\n",
              "  </svg>\n",
              "      </button>\n",
              "      \n",
              "  <style>\n",
              "    .colab-df-container {\n",
              "      display:flex;\n",
              "      flex-wrap:wrap;\n",
              "      gap: 12px;\n",
              "    }\n",
              "\n",
              "    .colab-df-convert {\n",
              "      background-color: #E8F0FE;\n",
              "      border: none;\n",
              "      border-radius: 50%;\n",
              "      cursor: pointer;\n",
              "      display: none;\n",
              "      fill: #1967D2;\n",
              "      height: 32px;\n",
              "      padding: 0 0 0 0;\n",
              "      width: 32px;\n",
              "    }\n",
              "\n",
              "    .colab-df-convert:hover {\n",
              "      background-color: #E2EBFA;\n",
              "      box-shadow: 0px 1px 2px rgba(60, 64, 67, 0.3), 0px 1px 3px 1px rgba(60, 64, 67, 0.15);\n",
              "      fill: #174EA6;\n",
              "    }\n",
              "\n",
              "    [theme=dark] .colab-df-convert {\n",
              "      background-color: #3B4455;\n",
              "      fill: #D2E3FC;\n",
              "    }\n",
              "\n",
              "    [theme=dark] .colab-df-convert:hover {\n",
              "      background-color: #434B5C;\n",
              "      box-shadow: 0px 1px 3px 1px rgba(0, 0, 0, 0.15);\n",
              "      filter: drop-shadow(0px 1px 2px rgba(0, 0, 0, 0.3));\n",
              "      fill: #FFFFFF;\n",
              "    }\n",
              "  </style>\n",
              "\n",
              "      <script>\n",
              "        const buttonEl =\n",
              "          document.querySelector('#df-567b2cfb-72f5-4498-b2fd-c9a4832f3bb3 button.colab-df-convert');\n",
              "        buttonEl.style.display =\n",
              "          google.colab.kernel.accessAllowed ? 'block' : 'none';\n",
              "\n",
              "        async function convertToInteractive(key) {\n",
              "          const element = document.querySelector('#df-567b2cfb-72f5-4498-b2fd-c9a4832f3bb3');\n",
              "          const dataTable =\n",
              "            await google.colab.kernel.invokeFunction('convertToInteractive',\n",
              "                                                     [key], {});\n",
              "          if (!dataTable) return;\n",
              "\n",
              "          const docLinkHtml = 'Like what you see? Visit the ' +\n",
              "            '<a target=\"_blank\" href=https://colab.research.google.com/notebooks/data_table.ipynb>data table notebook</a>'\n",
              "            + ' to learn more about interactive tables.';\n",
              "          element.innerHTML = '';\n",
              "          dataTable['output_type'] = 'display_data';\n",
              "          await google.colab.output.renderOutput(dataTable, element);\n",
              "          const docLink = document.createElement('div');\n",
              "          docLink.innerHTML = docLinkHtml;\n",
              "          element.appendChild(docLink);\n",
              "        }\n",
              "      </script>\n",
              "    </div>\n",
              "  </div>\n",
              "  "
            ]
          },
          "metadata": {},
          "execution_count": 27
        }
      ],
      "source": [
        "#lets define a new variable to comperasion ph better\n",
        "drink[[\"pH\"]].describe()"
      ]
    },
    {
      "cell_type": "code",
      "execution_count": 28,
      "id": "ba1adbfc",
      "metadata": {
        "execution": {
          "iopub.execute_input": "2022-06-11T12:25:34.051508Z",
          "iopub.status.busy": "2022-06-11T12:25:34.050754Z",
          "iopub.status.idle": "2022-06-11T12:25:34.072938Z",
          "shell.execute_reply": "2022-06-11T12:25:34.072377Z"
        },
        "papermill": {
          "duration": 0.131502,
          "end_time": "2022-06-11T12:25:34.074695",
          "exception": false,
          "start_time": "2022-06-11T12:25:33.943193",
          "status": "completed"
        },
        "tags": [],
        "id": "ba1adbfc",
        "outputId": "75fe68fc-aca8-496b-c48a-0594bbb34034",
        "colab": {
          "base_uri": "https://localhost:8080/",
          "height": 305
        }
      },
      "outputs": [
        {
          "output_type": "execute_result",
          "data": {
            "text/plain": [
              "   fixed acidity  volatile acidity  citric acid  residual sugar  chlorides  \\\n",
              "0            7.4              0.70         0.00             1.9      0.076   \n",
              "1            7.8              0.88         0.00             2.6      0.098   \n",
              "2            7.8              0.76         0.04             2.3      0.092   \n",
              "3           11.2              0.28         0.56             1.9      0.075   \n",
              "5            7.4              0.66         0.00             1.8      0.075   \n",
              "\n",
              "   free sulfur dioxide  total sulfur dioxide  density    pH  sulphates  \\\n",
              "0                 11.0                  34.0   0.9978  3.51       0.56   \n",
              "1                 25.0                  67.0   0.9968  3.20       0.68   \n",
              "2                 15.0                  54.0   0.9970  3.26       0.65   \n",
              "3                 17.0                  60.0   0.9980  3.16       0.58   \n",
              "5                 13.0                  40.0   0.9978  3.51       0.56   \n",
              "\n",
              "   alcohol  quality  densityComperasion  pHComperasion  \n",
              "0      9.4        5                 7.8            7.7  \n",
              "1      9.8        5                 6.8            4.6  \n",
              "2      9.8        5                 7.0            5.2  \n",
              "3      9.8        6                 8.0            4.2  \n",
              "5      9.4        5                 7.8            7.7  "
            ],
            "text/html": [
              "\n",
              "  <div id=\"df-8d739c1f-73ba-41f7-91b0-74bde44db248\">\n",
              "    <div class=\"colab-df-container\">\n",
              "      <div>\n",
              "<style scoped>\n",
              "    .dataframe tbody tr th:only-of-type {\n",
              "        vertical-align: middle;\n",
              "    }\n",
              "\n",
              "    .dataframe tbody tr th {\n",
              "        vertical-align: top;\n",
              "    }\n",
              "\n",
              "    .dataframe thead th {\n",
              "        text-align: right;\n",
              "    }\n",
              "</style>\n",
              "<table border=\"1\" class=\"dataframe\">\n",
              "  <thead>\n",
              "    <tr style=\"text-align: right;\">\n",
              "      <th></th>\n",
              "      <th>fixed acidity</th>\n",
              "      <th>volatile acidity</th>\n",
              "      <th>citric acid</th>\n",
              "      <th>residual sugar</th>\n",
              "      <th>chlorides</th>\n",
              "      <th>free sulfur dioxide</th>\n",
              "      <th>total sulfur dioxide</th>\n",
              "      <th>density</th>\n",
              "      <th>pH</th>\n",
              "      <th>sulphates</th>\n",
              "      <th>alcohol</th>\n",
              "      <th>quality</th>\n",
              "      <th>densityComperasion</th>\n",
              "      <th>pHComperasion</th>\n",
              "    </tr>\n",
              "  </thead>\n",
              "  <tbody>\n",
              "    <tr>\n",
              "      <th>0</th>\n",
              "      <td>7.4</td>\n",
              "      <td>0.70</td>\n",
              "      <td>0.00</td>\n",
              "      <td>1.9</td>\n",
              "      <td>0.076</td>\n",
              "      <td>11.0</td>\n",
              "      <td>34.0</td>\n",
              "      <td>0.9978</td>\n",
              "      <td>3.51</td>\n",
              "      <td>0.56</td>\n",
              "      <td>9.4</td>\n",
              "      <td>5</td>\n",
              "      <td>7.8</td>\n",
              "      <td>7.7</td>\n",
              "    </tr>\n",
              "    <tr>\n",
              "      <th>1</th>\n",
              "      <td>7.8</td>\n",
              "      <td>0.88</td>\n",
              "      <td>0.00</td>\n",
              "      <td>2.6</td>\n",
              "      <td>0.098</td>\n",
              "      <td>25.0</td>\n",
              "      <td>67.0</td>\n",
              "      <td>0.9968</td>\n",
              "      <td>3.20</td>\n",
              "      <td>0.68</td>\n",
              "      <td>9.8</td>\n",
              "      <td>5</td>\n",
              "      <td>6.8</td>\n",
              "      <td>4.6</td>\n",
              "    </tr>\n",
              "    <tr>\n",
              "      <th>2</th>\n",
              "      <td>7.8</td>\n",
              "      <td>0.76</td>\n",
              "      <td>0.04</td>\n",
              "      <td>2.3</td>\n",
              "      <td>0.092</td>\n",
              "      <td>15.0</td>\n",
              "      <td>54.0</td>\n",
              "      <td>0.9970</td>\n",
              "      <td>3.26</td>\n",
              "      <td>0.65</td>\n",
              "      <td>9.8</td>\n",
              "      <td>5</td>\n",
              "      <td>7.0</td>\n",
              "      <td>5.2</td>\n",
              "    </tr>\n",
              "    <tr>\n",
              "      <th>3</th>\n",
              "      <td>11.2</td>\n",
              "      <td>0.28</td>\n",
              "      <td>0.56</td>\n",
              "      <td>1.9</td>\n",
              "      <td>0.075</td>\n",
              "      <td>17.0</td>\n",
              "      <td>60.0</td>\n",
              "      <td>0.9980</td>\n",
              "      <td>3.16</td>\n",
              "      <td>0.58</td>\n",
              "      <td>9.8</td>\n",
              "      <td>6</td>\n",
              "      <td>8.0</td>\n",
              "      <td>4.2</td>\n",
              "    </tr>\n",
              "    <tr>\n",
              "      <th>5</th>\n",
              "      <td>7.4</td>\n",
              "      <td>0.66</td>\n",
              "      <td>0.00</td>\n",
              "      <td>1.8</td>\n",
              "      <td>0.075</td>\n",
              "      <td>13.0</td>\n",
              "      <td>40.0</td>\n",
              "      <td>0.9978</td>\n",
              "      <td>3.51</td>\n",
              "      <td>0.56</td>\n",
              "      <td>9.4</td>\n",
              "      <td>5</td>\n",
              "      <td>7.8</td>\n",
              "      <td>7.7</td>\n",
              "    </tr>\n",
              "  </tbody>\n",
              "</table>\n",
              "</div>\n",
              "      <button class=\"colab-df-convert\" onclick=\"convertToInteractive('df-8d739c1f-73ba-41f7-91b0-74bde44db248')\"\n",
              "              title=\"Convert this dataframe to an interactive table.\"\n",
              "              style=\"display:none;\">\n",
              "        \n",
              "  <svg xmlns=\"http://www.w3.org/2000/svg\" height=\"24px\"viewBox=\"0 0 24 24\"\n",
              "       width=\"24px\">\n",
              "    <path d=\"M0 0h24v24H0V0z\" fill=\"none\"/>\n",
              "    <path d=\"M18.56 5.44l.94 2.06.94-2.06 2.06-.94-2.06-.94-.94-2.06-.94 2.06-2.06.94zm-11 1L8.5 8.5l.94-2.06 2.06-.94-2.06-.94L8.5 2.5l-.94 2.06-2.06.94zm10 10l.94 2.06.94-2.06 2.06-.94-2.06-.94-.94-2.06-.94 2.06-2.06.94z\"/><path d=\"M17.41 7.96l-1.37-1.37c-.4-.4-.92-.59-1.43-.59-.52 0-1.04.2-1.43.59L10.3 9.45l-7.72 7.72c-.78.78-.78 2.05 0 2.83L4 21.41c.39.39.9.59 1.41.59.51 0 1.02-.2 1.41-.59l7.78-7.78 2.81-2.81c.8-.78.8-2.07 0-2.86zM5.41 20L4 18.59l7.72-7.72 1.47 1.35L5.41 20z\"/>\n",
              "  </svg>\n",
              "      </button>\n",
              "      \n",
              "  <style>\n",
              "    .colab-df-container {\n",
              "      display:flex;\n",
              "      flex-wrap:wrap;\n",
              "      gap: 12px;\n",
              "    }\n",
              "\n",
              "    .colab-df-convert {\n",
              "      background-color: #E8F0FE;\n",
              "      border: none;\n",
              "      border-radius: 50%;\n",
              "      cursor: pointer;\n",
              "      display: none;\n",
              "      fill: #1967D2;\n",
              "      height: 32px;\n",
              "      padding: 0 0 0 0;\n",
              "      width: 32px;\n",
              "    }\n",
              "\n",
              "    .colab-df-convert:hover {\n",
              "      background-color: #E2EBFA;\n",
              "      box-shadow: 0px 1px 2px rgba(60, 64, 67, 0.3), 0px 1px 3px 1px rgba(60, 64, 67, 0.15);\n",
              "      fill: #174EA6;\n",
              "    }\n",
              "\n",
              "    [theme=dark] .colab-df-convert {\n",
              "      background-color: #3B4455;\n",
              "      fill: #D2E3FC;\n",
              "    }\n",
              "\n",
              "    [theme=dark] .colab-df-convert:hover {\n",
              "      background-color: #434B5C;\n",
              "      box-shadow: 0px 1px 3px 1px rgba(0, 0, 0, 0.15);\n",
              "      filter: drop-shadow(0px 1px 2px rgba(0, 0, 0, 0.3));\n",
              "      fill: #FFFFFF;\n",
              "    }\n",
              "  </style>\n",
              "\n",
              "      <script>\n",
              "        const buttonEl =\n",
              "          document.querySelector('#df-8d739c1f-73ba-41f7-91b0-74bde44db248 button.colab-df-convert');\n",
              "        buttonEl.style.display =\n",
              "          google.colab.kernel.accessAllowed ? 'block' : 'none';\n",
              "\n",
              "        async function convertToInteractive(key) {\n",
              "          const element = document.querySelector('#df-8d739c1f-73ba-41f7-91b0-74bde44db248');\n",
              "          const dataTable =\n",
              "            await google.colab.kernel.invokeFunction('convertToInteractive',\n",
              "                                                     [key], {});\n",
              "          if (!dataTable) return;\n",
              "\n",
              "          const docLinkHtml = 'Like what you see? Visit the ' +\n",
              "            '<a target=\"_blank\" href=https://colab.research.google.com/notebooks/data_table.ipynb>data table notebook</a>'\n",
              "            + ' to learn more about interactive tables.';\n",
              "          element.innerHTML = '';\n",
              "          dataTable['output_type'] = 'display_data';\n",
              "          await google.colab.output.renderOutput(dataTable, element);\n",
              "          const docLink = document.createElement('div');\n",
              "          docLink.innerHTML = docLinkHtml;\n",
              "          element.appendChild(docLink);\n",
              "        }\n",
              "      </script>\n",
              "    </div>\n",
              "  </div>\n",
              "  "
            ]
          },
          "metadata": {},
          "execution_count": 28
        }
      ],
      "source": [
        "#min is 2.74, so lets defien a new variable like (ph-2.74)*10\n",
        "drink[\"pHComperasion\"] = (drink[\"pH\"] - 2.74) * 10\n",
        "drink.head()"
      ]
    },
    {
      "cell_type": "code",
      "execution_count": 29,
      "id": "58e02bd2",
      "metadata": {
        "execution": {
          "iopub.execute_input": "2022-06-11T12:25:34.292721Z",
          "iopub.status.busy": "2022-06-11T12:25:34.292174Z",
          "iopub.status.idle": "2022-06-11T12:25:34.688159Z",
          "shell.execute_reply": "2022-06-11T12:25:34.687293Z"
        },
        "papermill": {
          "duration": 0.506118,
          "end_time": "2022-06-11T12:25:34.690292",
          "exception": false,
          "start_time": "2022-06-11T12:25:34.184174",
          "status": "completed"
        },
        "tags": [],
        "id": "58e02bd2",
        "outputId": "7cfc0de1-07c7-43be-f3ef-8eb11244490d",
        "colab": {
          "base_uri": "https://localhost:8080/",
          "height": 296
        }
      },
      "outputs": [
        {
          "output_type": "execute_result",
          "data": {
            "text/plain": [
              "<matplotlib.axes._subplots.AxesSubplot at 0x7fb56e79cfd0>"
            ]
          },
          "metadata": {},
          "execution_count": 29
        },
        {
          "output_type": "display_data",
          "data": {
            "text/plain": [
              "<Figure size 432x288 with 1 Axes>"
            ],
            "image/png": "[encoded data removed]"
          },
          "metadata": {
            "needs_background": "light"
          }
        }
      ],
      "source": [
        "#new column created to comperasion densities\n",
        "fig = plt.figure(figsize = (6,4))\n",
        "sns.barplot(x = 'quality', y = 'pHComperasion', data = drink)"
      ]
    },
    {
      "cell_type": "code",
      "execution_count": 30,
      "id": "b13439f4",
      "metadata": {
        "execution": {
          "iopub.execute_input": "2022-06-11T12:25:34.908718Z",
          "iopub.status.busy": "2022-06-11T12:25:34.908430Z",
          "iopub.status.idle": "2022-06-11T12:25:34.911788Z",
          "shell.execute_reply": "2022-06-11T12:25:34.911133Z"
        },
        "papermill": {
          "duration": 0.114622,
          "end_time": "2022-06-11T12:25:34.913462",
          "exception": false,
          "start_time": "2022-06-11T12:25:34.798840",
          "status": "completed"
        },
        "tags": [],
        "id": "b13439f4"
      },
      "outputs": [],
      "source": [
        "#it seems there is a little downward pattern by pHComperasion\n",
        "#high variance in quality = 3, 8"
      ]
    },
    {
      "cell_type": "code",
      "execution_count": 31,
      "id": "13ed68b7",
      "metadata": {
        "execution": {
          "iopub.execute_input": "2022-06-11T12:25:35.135800Z",
          "iopub.status.busy": "2022-06-11T12:25:35.134890Z",
          "iopub.status.idle": "2022-06-11T12:25:35.536444Z",
          "shell.execute_reply": "2022-06-11T12:25:35.535776Z"
        },
        "papermill": {
          "duration": 0.51359,
          "end_time": "2022-06-11T12:25:35.538346",
          "exception": false,
          "start_time": "2022-06-11T12:25:35.024756",
          "status": "completed"
        },
        "tags": [],
        "id": "13ed68b7",
        "outputId": "c572ecf2-5178-407d-c496-8bab64143ebf",
        "colab": {
          "base_uri": "https://localhost:8080/",
          "height": 296
        }
      },
      "outputs": [
        {
          "output_type": "execute_result",
          "data": {
            "text/plain": [
              "<matplotlib.axes._subplots.AxesSubplot at 0x7fb56e9276d0>"
            ]
          },
          "metadata": {},
          "execution_count": 31
        },
        {
          "output_type": "display_data",
          "data": {
            "text/plain": [
              "<Figure size 432x288 with 1 Axes>"
            ],
            "image/png": "[encoded data removed]"
          },
          "metadata": {
            "needs_background": "light"
          }
        }
      ],
      "source": [
        "fig = plt.figure(figsize = (6,4))\n",
        "sns.barplot(x = 'quality', y = 'sulphates', data = drink)"
      ]
    },
    {
      "cell_type": "code",
      "execution_count": 32,
      "id": "4f36809f",
      "metadata": {
        "execution": {
          "iopub.execute_input": "2022-06-11T12:25:35.758823Z",
          "iopub.status.busy": "2022-06-11T12:25:35.758399Z",
          "iopub.status.idle": "2022-06-11T12:25:35.761281Z",
          "shell.execute_reply": "2022-06-11T12:25:35.760642Z"
        },
        "papermill": {
          "duration": 0.115301,
          "end_time": "2022-06-11T12:25:35.763246",
          "exception": false,
          "start_time": "2022-06-11T12:25:35.647945",
          "status": "completed"
        },
        "tags": [],
        "id": "4f36809f"
      },
      "outputs": [],
      "source": [
        "#by increasing sulphates we see a increasing pattern in quality\n",
        "#high variance in quality = 3, 4, 8"
      ]
    },
    {
      "cell_type": "code",
      "execution_count": 33,
      "id": "5c5e8bdd",
      "metadata": {
        "execution": {
          "iopub.execute_input": "2022-06-11T12:25:35.983891Z",
          "iopub.status.busy": "2022-06-11T12:25:35.983410Z",
          "iopub.status.idle": "2022-06-11T12:25:36.370884Z",
          "shell.execute_reply": "2022-06-11T12:25:36.370302Z"
        },
        "papermill": {
          "duration": 0.500015,
          "end_time": "2022-06-11T12:25:36.372723",
          "exception": false,
          "start_time": "2022-06-11T12:25:35.872708",
          "status": "completed"
        },
        "tags": [],
        "id": "5c5e8bdd",
        "outputId": "627e57f6-cae9-44b5-a0fb-00935f66ddab",
        "colab": {
          "base_uri": "https://localhost:8080/",
          "height": 296
        }
      },
      "outputs": [
        {
          "output_type": "execute_result",
          "data": {
            "text/plain": [
              "<matplotlib.axes._subplots.AxesSubplot at 0x7fb56ea3a650>"
            ]
          },
          "metadata": {},
          "execution_count": 33
        },
        {
          "output_type": "display_data",
          "data": {
            "text/plain": [
              "<Figure size 432x288 with 1 Axes>"
            ],
            "image/png": "[encoded data removed]"
          },
          "metadata": {
            "needs_background": "light"
          }
        }
      ],
      "source": [
        "fig = plt.figure(figsize = (6,4))\n",
        "sns.barplot(x = 'quality', y = 'alcohol', data = drink)"
      ]
    },
    {
      "cell_type": "code",
      "execution_count": 34,
      "id": "f28557c1",
      "metadata": {
        "execution": {
          "iopub.execute_input": "2022-06-11T12:25:36.596670Z",
          "iopub.status.busy": "2022-06-11T12:25:36.596257Z",
          "iopub.status.idle": "2022-06-11T12:25:36.599198Z",
          "shell.execute_reply": "2022-06-11T12:25:36.598584Z"
        },
        "papermill": {
          "duration": 0.117662,
          "end_time": "2022-06-11T12:25:36.601147",
          "exception": false,
          "start_time": "2022-06-11T12:25:36.483485",
          "status": "completed"
        },
        "tags": [],
        "id": "f28557c1"
      },
      "outputs": [],
      "source": [
        "#by increasing alcohol we see a increasing pattern in quality"
      ]
    },
    {
      "cell_type": "code",
      "execution_count": 35,
      "id": "ea2c72f2",
      "metadata": {
        "execution": {
          "iopub.execute_input": "2022-06-11T12:25:36.826945Z",
          "iopub.status.busy": "2022-06-11T12:25:36.826466Z",
          "iopub.status.idle": "2022-06-11T12:25:36.847398Z",
          "shell.execute_reply": "2022-06-11T12:25:36.846736Z"
        },
        "papermill": {
          "duration": 0.135793,
          "end_time": "2022-06-11T12:25:36.849296",
          "exception": false,
          "start_time": "2022-06-11T12:25:36.713503",
          "status": "completed"
        },
        "tags": [],
        "id": "ea2c72f2",
        "outputId": "f2f15409-912d-46fd-b4a7-790152a6e0fa",
        "colab": {
          "base_uri": "https://localhost:8080/",
          "height": 285
        }
      },
      "outputs": [
        {
          "output_type": "execute_result",
          "data": {
            "text/plain": [
              "   fixed acidity  volatile acidity  citric acid  residual sugar  chlorides  \\\n",
              "0            7.4              0.70         0.00             1.9      0.076   \n",
              "1            7.8              0.88         0.00             2.6      0.098   \n",
              "2            7.8              0.76         0.04             2.3      0.092   \n",
              "3           11.2              0.28         0.56             1.9      0.075   \n",
              "5            7.4              0.66         0.00             1.8      0.075   \n",
              "\n",
              "   free sulfur dioxide  total sulfur dioxide  sulphates  alcohol  quality  \\\n",
              "0                 11.0                  34.0       0.56      9.4        5   \n",
              "1                 25.0                  67.0       0.68      9.8        5   \n",
              "2                 15.0                  54.0       0.65      9.8        5   \n",
              "3                 17.0                  60.0       0.58      9.8        6   \n",
              "5                 13.0                  40.0       0.56      9.4        5   \n",
              "\n",
              "   densityComperasion  pHComperasion  \n",
              "0                 7.8            7.7  \n",
              "1                 6.8            4.6  \n",
              "2                 7.0            5.2  \n",
              "3                 8.0            4.2  \n",
              "5                 7.8            7.7  "
            ],
            "text/html": [
              "\n",
              "  <div id=\"df-fca70005-346e-46a0-ba17-2482de28cc75\">\n",
              "    <div class=\"colab-df-container\">\n",
              "      <div>\n",
              "<style scoped>\n",
              "    .dataframe tbody tr th:only-of-type {\n",
              "        vertical-align: middle;\n",
              "    }\n",
              "\n",
              "    .dataframe tbody tr th {\n",
              "        vertical-align: top;\n",
              "    }\n",
              "\n",
              "    .dataframe thead th {\n",
              "        text-align: right;\n",
              "    }\n",
              "</style>\n",
              "<table border=\"1\" class=\"dataframe\">\n",
              "  <thead>\n",
              "    <tr style=\"text-align: right;\">\n",
              "      <th></th>\n",
              "      <th>fixed acidity</th>\n",
              "      <th>volatile acidity</th>\n",
              "      <th>citric acid</th>\n",
              "      <th>residual sugar</th>\n",
              "      <th>chlorides</th>\n",
              "      <th>free sulfur dioxide</th>\n",
              "      <th>total sulfur dioxide</th>\n",
              "      <th>sulphates</th>\n",
              "      <th>alcohol</th>\n",
              "      <th>quality</th>\n",
              "      <th>densityComperasion</th>\n",
              "      <th>pHComperasion</th>\n",
              "    </tr>\n",
              "  </thead>\n",
              "  <tbody>\n",
              "    <tr>\n",
              "      <th>0</th>\n",
              "      <td>7.4</td>\n",
              "      <td>0.70</td>\n",
              "      <td>0.00</td>\n",
              "      <td>1.9</td>\n",
              "      <td>0.076</td>\n",
              "      <td>11.0</td>\n",
              "      <td>34.0</td>\n",
              "      <td>0.56</td>\n",
              "      <td>9.4</td>\n",
              "      <td>5</td>\n",
              "      <td>7.8</td>\n",
              "      <td>7.7</td>\n",
              "    </tr>\n",
              "    <tr>\n",
              "      <th>1</th>\n",
              "      <td>7.8</td>\n",
              "      <td>0.88</td>\n",
              "      <td>0.00</td>\n",
              "      <td>2.6</td>\n",
              "      <td>0.098</td>\n",
              "      <td>25.0</td>\n",
              "      <td>67.0</td>\n",
              "      <td>0.68</td>\n",
              "      <td>9.8</td>\n",
              "      <td>5</td>\n",
              "      <td>6.8</td>\n",
              "      <td>4.6</td>\n",
              "    </tr>\n",
              "    <tr>\n",
              "      <th>2</th>\n",
              "      <td>7.8</td>\n",
              "      <td>0.76</td>\n",
              "      <td>0.04</td>\n",
              "      <td>2.3</td>\n",
              "      <td>0.092</td>\n",
              "      <td>15.0</td>\n",
              "      <td>54.0</td>\n",
              "      <td>0.65</td>\n",
              "      <td>9.8</td>\n",
              "      <td>5</td>\n",
              "      <td>7.0</td>\n",
              "      <td>5.2</td>\n",
              "    </tr>\n",
              "    <tr>\n",
              "      <th>3</th>\n",
              "      <td>11.2</td>\n",
              "      <td>0.28</td>\n",
              "      <td>0.56</td>\n",
              "      <td>1.9</td>\n",
              "      <td>0.075</td>\n",
              "      <td>17.0</td>\n",
              "      <td>60.0</td>\n",
              "      <td>0.58</td>\n",
              "      <td>9.8</td>\n",
              "      <td>6</td>\n",
              "      <td>8.0</td>\n",
              "      <td>4.2</td>\n",
              "    </tr>\n",
              "    <tr>\n",
              "      <th>5</th>\n",
              "      <td>7.4</td>\n",
              "      <td>0.66</td>\n",
              "      <td>0.00</td>\n",
              "      <td>1.8</td>\n",
              "      <td>0.075</td>\n",
              "      <td>13.0</td>\n",
              "      <td>40.0</td>\n",
              "      <td>0.56</td>\n",
              "      <td>9.4</td>\n",
              "      <td>5</td>\n",
              "      <td>7.8</td>\n",
              "      <td>7.7</td>\n",
              "    </tr>\n",
              "  </tbody>\n",
              "</table>\n",
              "</div>\n",
              "      <button class=\"colab-df-convert\" onclick=\"convertToInteractive('df-fca70005-346e-46a0-ba17-2482de28cc75')\"\n",
              "              title=\"Convert this dataframe to an interactive table.\"\n",
              "              style=\"display:none;\">\n",
              "        \n",
              "  <svg xmlns=\"http://www.w3.org/2000/svg\" height=\"24px\"viewBox=\"0 0 24 24\"\n",
              "       width=\"24px\">\n",
              "    <path d=\"M0 0h24v24H0V0z\" fill=\"none\"/>\n",
              "    <path d=\"M18.56 5.44l.94 2.06.94-2.06 2.06-.94-2.06-.94-.94-2.06-.94 2.06-2.06.94zm-11 1L8.5 8.5l.94-2.06 2.06-.94-2.06-.94L8.5 2.5l-.94 2.06-2.06.94zm10 10l.94 2.06.94-2.06 2.06-.94-2.06-.94-.94-2.06-.94 2.06-2.06.94z\"/><path d=\"M17.41 7.96l-1.37-1.37c-.4-.4-.92-.59-1.43-.59-.52 0-1.04.2-1.43.59L10.3 9.45l-7.72 7.72c-.78.78-.78 2.05 0 2.83L4 21.41c.39.39.9.59 1.41.59.51 0 1.02-.2 1.41-.59l7.78-7.78 2.81-2.81c.8-.78.8-2.07 0-2.86zM5.41 20L4 18.59l7.72-7.72 1.47 1.35L5.41 20z\"/>\n",
              "  </svg>\n",
              "      </button>\n",
              "      \n",
              "  <style>\n",
              "    .colab-df-container {\n",
              "      display:flex;\n",
              "      flex-wrap:wrap;\n",
              "      gap: 12px;\n",
              "    }\n",
              "\n",
              "    .colab-df-convert {\n",
              "      background-color: #E8F0FE;\n",
              "      border: none;\n",
              "      border-radius: 50%;\n",
              "      cursor: pointer;\n",
              "      display: none;\n",
              "      fill: #1967D2;\n",
              "      height: 32px;\n",
              "      padding: 0 0 0 0;\n",
              "      width: 32px;\n",
              "    }\n",
              "\n",
              "    .colab-df-convert:hover {\n",
              "      background-color: #E2EBFA;\n",
              "      box-shadow: 0px 1px 2px rgba(60, 64, 67, 0.3), 0px 1px 3px 1px rgba(60, 64, 67, 0.15);\n",
              "      fill: #174EA6;\n",
              "    }\n",
              "\n",
              "    [theme=dark] .colab-df-convert {\n",
              "      background-color: #3B4455;\n",
              "      fill: #D2E3FC;\n",
              "    }\n",
              "\n",
              "    [theme=dark] .colab-df-convert:hover {\n",
              "      background-color: #434B5C;\n",
              "      box-shadow: 0px 1px 3px 1px rgba(0, 0, 0, 0.15);\n",
              "      filter: drop-shadow(0px 1px 2px rgba(0, 0, 0, 0.3));\n",
              "      fill: #FFFFFF;\n",
              "    }\n",
              "  </style>\n",
              "\n",
              "      <script>\n",
              "        const buttonEl =\n",
              "          document.querySelector('#df-fca70005-346e-46a0-ba17-2482de28cc75 button.colab-df-convert');\n",
              "        buttonEl.style.display =\n",
              "          google.colab.kernel.accessAllowed ? 'block' : 'none';\n",
              "\n",
              "        async function convertToInteractive(key) {\n",
              "          const element = document.querySelector('#df-fca70005-346e-46a0-ba17-2482de28cc75');\n",
              "          const dataTable =\n",
              "            await google.colab.kernel.invokeFunction('convertToInteractive',\n",
              "                                                     [key], {});\n",
              "          if (!dataTable) return;\n",
              "\n",
              "          const docLinkHtml = 'Like what you see? Visit the ' +\n",
              "            '<a target=\"_blank\" href=https://colab.research.google.com/notebooks/data_table.ipynb>data table notebook</a>'\n",
              "            + ' to learn more about interactive tables.';\n",
              "          element.innerHTML = '';\n",
              "          dataTable['output_type'] = 'display_data';\n",
              "          await google.colab.output.renderOutput(dataTable, element);\n",
              "          const docLink = document.createElement('div');\n",
              "          docLink.innerHTML = docLinkHtml;\n",
              "          element.appendChild(docLink);\n",
              "        }\n",
              "      </script>\n",
              "    </div>\n",
              "  </div>\n",
              "  "
            ]
          },
          "metadata": {},
          "execution_count": 35
        }
      ],
      "source": [
        "#drop density and pH rows and preparing for training\n",
        "drink1=drink.drop(['density','pH'], axis='columns')\n",
        "drink1.head()"
      ]
    },
    {
      "cell_type": "code",
      "execution_count": 36,
      "id": "362cde32",
      "metadata": {
        "execution": {
          "iopub.execute_input": "2022-06-11T12:25:37.074945Z",
          "iopub.status.busy": "2022-06-11T12:25:37.074541Z",
          "iopub.status.idle": "2022-06-11T12:25:37.096959Z",
          "shell.execute_reply": "2022-06-11T12:25:37.096321Z"
        },
        "papermill": {
          "duration": 0.137915,
          "end_time": "2022-06-11T12:25:37.098750",
          "exception": false,
          "start_time": "2022-06-11T12:25:36.960835",
          "status": "completed"
        },
        "tags": [],
        "id": "362cde32",
        "outputId": "ab6216a3-bf8f-408d-fe6d-b339ae722831",
        "colab": {
          "base_uri": "https://localhost:8080/",
          "height": 285
        }
      },
      "outputs": [
        {
          "output_type": "execute_result",
          "data": {
            "text/plain": [
              "   fixed acidity  volatile acidity  citric acid  residual sugar  chlorides  \\\n",
              "0            7.4              0.70         0.00             1.9      0.076   \n",
              "1            7.8              0.88         0.00             2.6      0.098   \n",
              "2            7.8              0.76         0.04             2.3      0.092   \n",
              "3           11.2              0.28         0.56             1.9      0.075   \n",
              "5            7.4              0.66         0.00             1.8      0.075   \n",
              "\n",
              "   free sulfur dioxide  total sulfur dioxide  sulphates  alcohol quality  \\\n",
              "0                 11.0                  34.0       0.56      9.4     bad   \n",
              "1                 25.0                  67.0       0.68      9.8     bad   \n",
              "2                 15.0                  54.0       0.65      9.8     bad   \n",
              "3                 17.0                  60.0       0.58      9.8    good   \n",
              "5                 13.0                  40.0       0.56      9.4     bad   \n",
              "\n",
              "   densityComperasion  pHComperasion  \n",
              "0                 7.8            7.7  \n",
              "1                 6.8            4.6  \n",
              "2                 7.0            5.2  \n",
              "3                 8.0            4.2  \n",
              "5                 7.8            7.7  "
            ],
            "text/html": [
              "\n",
              "  <div id=\"df-c9735dcd-37be-4fe5-a5fc-5c24a5649b97\">\n",
              "    <div class=\"colab-df-container\">\n",
              "      <div>\n",
              "<style scoped>\n",
              "    .dataframe tbody tr th:only-of-type {\n",
              "        vertical-align: middle;\n",
              "    }\n",
              "\n",
              "    .dataframe tbody tr th {\n",
              "        vertical-align: top;\n",
              "    }\n",
              "\n",
              "    .dataframe thead th {\n",
              "        text-align: right;\n",
              "    }\n",
              "</style>\n",
              "<table border=\"1\" class=\"dataframe\">\n",
              "  <thead>\n",
              "    <tr style=\"text-align: right;\">\n",
              "      <th></th>\n",
              "      <th>fixed acidity</th>\n",
              "      <th>volatile acidity</th>\n",
              "      <th>citric acid</th>\n",
              "      <th>residual sugar</th>\n",
              "      <th>chlorides</th>\n",
              "      <th>free sulfur dioxide</th>\n",
              "      <th>total sulfur dioxide</th>\n",
              "      <th>sulphates</th>\n",
              "      <th>alcohol</th>\n",
              "      <th>quality</th>\n",
              "      <th>densityComperasion</th>\n",
              "      <th>pHComperasion</th>\n",
              "    </tr>\n",
              "  </thead>\n",
              "  <tbody>\n",
              "    <tr>\n",
              "      <th>0</th>\n",
              "      <td>7.4</td>\n",
              "      <td>0.70</td>\n",
              "      <td>0.00</td>\n",
              "      <td>1.9</td>\n",
              "      <td>0.076</td>\n",
              "      <td>11.0</td>\n",
              "      <td>34.0</td>\n",
              "      <td>0.56</td>\n",
              "      <td>9.4</td>\n",
              "      <td>bad</td>\n",
              "      <td>7.8</td>\n",
              "      <td>7.7</td>\n",
              "    </tr>\n",
              "    <tr>\n",
              "      <th>1</th>\n",
              "      <td>7.8</td>\n",
              "      <td>0.88</td>\n",
              "      <td>0.00</td>\n",
              "      <td>2.6</td>\n",
              "      <td>0.098</td>\n",
              "      <td>25.0</td>\n",
              "      <td>67.0</td>\n",
              "      <td>0.68</td>\n",
              "      <td>9.8</td>\n",
              "      <td>bad</td>\n",
              "      <td>6.8</td>\n",
              "      <td>4.6</td>\n",
              "    </tr>\n",
              "    <tr>\n",
              "      <th>2</th>\n",
              "      <td>7.8</td>\n",
              "      <td>0.76</td>\n",
              "      <td>0.04</td>\n",
              "      <td>2.3</td>\n",
              "      <td>0.092</td>\n",
              "      <td>15.0</td>\n",
              "      <td>54.0</td>\n",
              "      <td>0.65</td>\n",
              "      <td>9.8</td>\n",
              "      <td>bad</td>\n",
              "      <td>7.0</td>\n",
              "      <td>5.2</td>\n",
              "    </tr>\n",
              "    <tr>\n",
              "      <th>3</th>\n",
              "      <td>11.2</td>\n",
              "      <td>0.28</td>\n",
              "      <td>0.56</td>\n",
              "      <td>1.9</td>\n",
              "      <td>0.075</td>\n",
              "      <td>17.0</td>\n",
              "      <td>60.0</td>\n",
              "      <td>0.58</td>\n",
              "      <td>9.8</td>\n",
              "      <td>good</td>\n",
              "      <td>8.0</td>\n",
              "      <td>4.2</td>\n",
              "    </tr>\n",
              "    <tr>\n",
              "      <th>5</th>\n",
              "      <td>7.4</td>\n",
              "      <td>0.66</td>\n",
              "      <td>0.00</td>\n",
              "      <td>1.8</td>\n",
              "      <td>0.075</td>\n",
              "      <td>13.0</td>\n",
              "      <td>40.0</td>\n",
              "      <td>0.56</td>\n",
              "      <td>9.4</td>\n",
              "      <td>bad</td>\n",
              "      <td>7.8</td>\n",
              "      <td>7.7</td>\n",
              "    </tr>\n",
              "  </tbody>\n",
              "</table>\n",
              "</div>\n",
              "      <button class=\"colab-df-convert\" onclick=\"convertToInteractive('df-c9735dcd-37be-4fe5-a5fc-5c24a5649b97')\"\n",
              "              title=\"Convert this dataframe to an interactive table.\"\n",
              "              style=\"display:none;\">\n",
              "        \n",
              "  <svg xmlns=\"http://www.w3.org/2000/svg\" height=\"24px\"viewBox=\"0 0 24 24\"\n",
              "       width=\"24px\">\n",
              "    <path d=\"M0 0h24v24H0V0z\" fill=\"none\"/>\n",
              "    <path d=\"M18.56 5.44l.94 2.06.94-2.06 2.06-.94-2.06-.94-.94-2.06-.94 2.06-2.06.94zm-11 1L8.5 8.5l.94-2.06 2.06-.94-2.06-.94L8.5 2.5l-.94 2.06-2.06.94zm10 10l.94 2.06.94-2.06 2.06-.94-2.06-.94-.94-2.06-.94 2.06-2.06.94z\"/><path d=\"M17.41 7.96l-1.37-1.37c-.4-.4-.92-.59-1.43-.59-.52 0-1.04.2-1.43.59L10.3 9.45l-7.72 7.72c-.78.78-.78 2.05 0 2.83L4 21.41c.39.39.9.59 1.41.59.51 0 1.02-.2 1.41-.59l7.78-7.78 2.81-2.81c.8-.78.8-2.07 0-2.86zM5.41 20L4 18.59l7.72-7.72 1.47 1.35L5.41 20z\"/>\n",
              "  </svg>\n",
              "      </button>\n",
              "      \n",
              "  <style>\n",
              "    .colab-df-container {\n",
              "      display:flex;\n",
              "      flex-wrap:wrap;\n",
              "      gap: 12px;\n",
              "    }\n",
              "\n",
              "    .colab-df-convert {\n",
              "      background-color: #E8F0FE;\n",
              "      border: none;\n",
              "      border-radius: 50%;\n",
              "      cursor: pointer;\n",
              "      display: none;\n",
              "      fill: #1967D2;\n",
              "      height: 32px;\n",
              "      padding: 0 0 0 0;\n",
              "      width: 32px;\n",
              "    }\n",
              "\n",
              "    .colab-df-convert:hover {\n",
              "      background-color: #E2EBFA;\n",
              "      box-shadow: 0px 1px 2px rgba(60, 64, 67, 0.3), 0px 1px 3px 1px rgba(60, 64, 67, 0.15);\n",
              "      fill: #174EA6;\n",
              "    }\n",
              "\n",
              "    [theme=dark] .colab-df-convert {\n",
              "      background-color: #3B4455;\n",
              "      fill: #D2E3FC;\n",
              "    }\n",
              "\n",
              "    [theme=dark] .colab-df-convert:hover {\n",
              "      background-color: #434B5C;\n",
              "      box-shadow: 0px 1px 3px 1px rgba(0, 0, 0, 0.15);\n",
              "      filter: drop-shadow(0px 1px 2px rgba(0, 0, 0, 0.3));\n",
              "      fill: #FFFFFF;\n",
              "    }\n",
              "  </style>\n",
              "\n",
              "      <script>\n",
              "        const buttonEl =\n",
              "          document.querySelector('#df-c9735dcd-37be-4fe5-a5fc-5c24a5649b97 button.colab-df-convert');\n",
              "        buttonEl.style.display =\n",
              "          google.colab.kernel.accessAllowed ? 'block' : 'none';\n",
              "\n",
              "        async function convertToInteractive(key) {\n",
              "          const element = document.querySelector('#df-c9735dcd-37be-4fe5-a5fc-5c24a5649b97');\n",
              "          const dataTable =\n",
              "            await google.colab.kernel.invokeFunction('convertToInteractive',\n",
              "                                                     [key], {});\n",
              "          if (!dataTable) return;\n",
              "\n",
              "          const docLinkHtml = 'Like what you see? Visit the ' +\n",
              "            '<a target=\"_blank\" href=https://colab.research.google.com/notebooks/data_table.ipynb>data table notebook</a>'\n",
              "            + ' to learn more about interactive tables.';\n",
              "          element.innerHTML = '';\n",
              "          dataTable['output_type'] = 'display_data';\n",
              "          await google.colab.output.renderOutput(dataTable, element);\n",
              "          const docLink = document.createElement('div');\n",
              "          docLink.innerHTML = docLinkHtml;\n",
              "          element.appendChild(docLink);\n",
              "        }\n",
              "      </script>\n",
              "    </div>\n",
              "  </div>\n",
              "  "
            ]
          },
          "metadata": {},
          "execution_count": 36
        }
      ],
      "source": [
        "bins = (2, 5.5, 8)\n",
        "group_names = ['bad', 'good']\n",
        "drink1['quality'] = pd.cut(drink1['quality'], bins = bins, labels = group_names)\n",
        "drink1.head()"
      ]
    },
    {
      "cell_type": "code",
      "execution_count": 37,
      "id": "08d7889a",
      "metadata": {
        "execution": {
          "iopub.execute_input": "2022-06-11T12:25:37.325555Z",
          "iopub.status.busy": "2022-06-11T12:25:37.325122Z",
          "iopub.status.idle": "2022-06-11T12:25:37.332933Z",
          "shell.execute_reply": "2022-06-11T12:25:37.332279Z"
        },
        "papermill": {
          "duration": 0.1238,
          "end_time": "2022-06-11T12:25:37.334919",
          "exception": false,
          "start_time": "2022-06-11T12:25:37.211119",
          "status": "completed"
        },
        "tags": [],
        "id": "08d7889a",
        "outputId": "f3f8d1d3-d8dc-453d-df40-cf94d9225985",
        "colab": {
          "base_uri": "https://localhost:8080/"
        }
      },
      "outputs": [
        {
          "output_type": "execute_result",
          "data": {
            "text/plain": [
              "1    719\n",
              "0    640\n",
              "Name: quality, dtype: int64"
            ]
          },
          "metadata": {},
          "execution_count": 37
        }
      ],
      "source": [
        "label_quality = LabelEncoder()\n",
        "drink1['quality'] = label_quality.fit_transform(drink1['quality'])\n",
        "drink1['quality'].value_counts()"
      ]
    },
    {
      "cell_type": "code",
      "execution_count": 38,
      "id": "dacfe63e",
      "metadata": {
        "execution": {
          "iopub.execute_input": "2022-06-11T12:25:37.562166Z",
          "iopub.status.busy": "2022-06-11T12:25:37.561726Z",
          "iopub.status.idle": "2022-06-11T12:25:37.568370Z",
          "shell.execute_reply": "2022-06-11T12:25:37.567701Z"
        },
        "papermill": {
          "duration": 0.122631,
          "end_time": "2022-06-11T12:25:37.570306",
          "exception": false,
          "start_time": "2022-06-11T12:25:37.447675",
          "status": "completed"
        },
        "tags": [],
        "id": "dacfe63e"
      },
      "outputs": [],
      "source": [
        "X = drink1.drop('quality', axis = 1)\n",
        "y = drink1['quality']\n",
        "X_train, X_test, y_train, y_test = train_test_split(X, y, test_size = 0.2, random_state = 9)"
      ]
    },
    {
      "cell_type": "code",
      "execution_count": 39,
      "id": "c88535d2",
      "metadata": {
        "execution": {
          "iopub.execute_input": "2022-06-11T12:25:37.796290Z",
          "iopub.status.busy": "2022-06-11T12:25:37.795841Z",
          "iopub.status.idle": "2022-06-11T12:25:37.807691Z",
          "shell.execute_reply": "2022-06-11T12:25:37.806746Z"
        },
        "papermill": {
          "duration": 0.12744,
          "end_time": "2022-06-11T12:25:37.809911",
          "exception": false,
          "start_time": "2022-06-11T12:25:37.682471",
          "status": "completed"
        },
        "tags": [],
        "id": "c88535d2"
      },
      "outputs": [],
      "source": [
        "sc = StandardScaler()\n",
        "X_train = sc.fit_transform(X_train)\n",
        "X_test = sc.fit_transform(X_test)"
      ]
    },
    {
      "cell_type": "code",
      "execution_count": 40,
      "id": "92b7adc0",
      "metadata": {
        "execution": {
          "iopub.execute_input": "2022-06-11T12:25:38.492117Z",
          "iopub.status.busy": "2022-06-11T12:25:38.491813Z",
          "iopub.status.idle": "2022-06-11T12:25:38.523135Z",
          "shell.execute_reply": "2022-06-11T12:25:38.522208Z"
        },
        "papermill": {
          "duration": 0.149254,
          "end_time": "2022-06-11T12:25:38.526385",
          "exception": false,
          "start_time": "2022-06-11T12:25:38.377131",
          "status": "completed"
        },
        "tags": [],
        "id": "92b7adc0",
        "outputId": "6acd5ca6-23f0-416f-9bf9-75344ed40c3d",
        "colab": {
          "base_uri": "https://localhost:8080/"
        }
      },
      "outputs": [
        {
          "output_type": "stream",
          "name": "stdout",
          "text": [
            "Accuracy of logistic regression classifier on test set: 0.77\n"
          ]
        }
      ],
      "source": [
        "logisticRegr = LogisticRegression()\n",
        "logisticRegr.fit(X_train, y_train)\n",
        "#score = logisticRegr.score(X_test, y_test)\n",
        "pred_logres = logisticRegr.predict(X_test)\n",
        "#print(score)\n",
        "#print(classification_report(y_test, pred_logres))\n",
        "\n",
        "y_pred = logisticRegr.predict(X_test)\n",
        "print('Accuracy of logistic regression classifier on test set: {:.2f}'.format(logisticRegr.score(X_test, y_test)))"
      ]
    },
    {
      "cell_type": "code",
      "execution_count": 41,
      "id": "0513192a",
      "metadata": {
        "execution": {
          "iopub.execute_input": "2022-06-11T12:25:38.800977Z",
          "iopub.status.busy": "2022-06-11T12:25:38.800670Z",
          "iopub.status.idle": "2022-06-11T12:25:38.808062Z",
          "shell.execute_reply": "2022-06-11T12:25:38.807486Z"
        },
        "papermill": {
          "duration": 0.122545,
          "end_time": "2022-06-11T12:25:38.809844",
          "exception": false,
          "start_time": "2022-06-11T12:25:38.687299",
          "status": "completed"
        },
        "tags": [],
        "id": "0513192a",
        "outputId": "eee501a0-f734-429b-ebe0-1675c620d583",
        "colab": {
          "base_uri": "https://localhost:8080/",
          "height": 295
        }
      },
      "outputs": [
        {
          "output_type": "display_data",
          "data": {
            "text/plain": [
              "<Figure size 432x288 with 2 Axes>"
            ],
            "image/png": "[encoded data removed]"
          },
          "metadata": {
            "needs_background": "light"
          }
        }
      ],
      "source": [
        "cm = (confusion_matrix(y_test, pred_logres))\n",
        "ax= plt.subplot()\n",
        "sns.heatmap(cm, annot=True, fmt='g', ax=ax);\n",
        "\n",
        "# labels, title and ticks\n",
        "ax.set_xlabel('Predicted labels');\n",
        "ax.set_ylabel('True labels'); \n",
        "ax.set_title('Confusion Matrix'); \n",
        "ax.xaxis.set_ticklabels(['good', 'bad']); \n",
        "ax.yaxis.set_ticklabels(['good', 'bad']);"
      ]
    },
    {
      "cell_type": "code",
      "execution_count": 42,
      "id": "3203e8a2",
      "metadata": {
        "execution": {
          "iopub.execute_input": "2022-06-11T12:25:39.037478Z",
          "iopub.status.busy": "2022-06-11T12:25:39.036946Z",
          "iopub.status.idle": "2022-06-11T12:25:39.042607Z",
          "shell.execute_reply": "2022-06-11T12:25:39.041879Z"
        },
        "papermill": {
          "duration": 0.121167,
          "end_time": "2022-06-11T12:25:39.044331",
          "exception": false,
          "start_time": "2022-06-11T12:25:38.923164",
          "status": "completed"
        },
        "tags": [],
        "id": "3203e8a2",
        "outputId": "a4ae1227-65f9-4db2-fb5b-8741af22f246",
        "colab": {
          "base_uri": "https://localhost:8080/"
        }
      },
      "outputs": [
        {
          "output_type": "stream",
          "name": "stdout",
          "text": [
            "                features      coef\n",
            "8                alcohol  0.978997\n",
            "6   total sulfur dioxide  0.554364\n",
            "1       volatile acidity  0.546115\n",
            "7              sulphates  0.467124\n",
            "2            citric acid  0.230819\n",
            "5    free sulfur dioxide  0.199027\n",
            "4              chlorides  0.163906\n",
            "0          fixed acidity  0.120693\n",
            "10         pHComperasion  0.072380\n",
            "3         residual sugar  0.022965\n",
            "9     densityComperasion  0.015421\n"
          ]
        }
      ],
      "source": [
        "logisticRegr.coef_\n",
        "\n",
        "repReg = pd.DataFrame()\n",
        "repReg.insert(0,\"features\",X.columns)\n",
        "repReg.insert(1,\"coef\",abs(logisticRegr.coef_.flatten()))\n",
        "print(repReg.sort_values(by='coef',ascending=False))"
      ]
    },
    {
      "cell_type": "code",
      "source": [
        "vif_data = pd.DataFrame()\n",
        "vif_data[\"feature\"] = X.columns\n",
        "  \n",
        "# calculating VIF for each feature\n",
        "vif_data[\"VIF\"] = [variance_inflation_factor(X.values, i)\n",
        "                          for i in range(len(X.columns))]\n",
        "  \n",
        "print(vif_data)"
      ],
      "metadata": {
        "colab": {
          "base_uri": "https://localhost:8080/"
        },
        "id": "JMJOm_3yQMDa",
        "outputId": "d427d215-4093-4cc5-8da3-5ba474a8b2f7"
      },
      "id": "JMJOm_3yQMDa",
      "execution_count": 43,
      "outputs": [
        {
          "output_type": "stream",
          "name": "stdout",
          "text": [
            "                 feature         VIF\n",
            "0          fixed acidity  182.128549\n",
            "1       volatile acidity   16.439427\n",
            "2            citric acid    8.866208\n",
            "3         residual sugar    7.141456\n",
            "4              chlorides    5.961549\n",
            "5    free sulfur dioxide    6.469125\n",
            "6   total sulfur dioxide    6.133908\n",
            "7              sulphates   23.312328\n",
            "8                alcohol  192.541000\n",
            "9     densityComperasion   81.566470\n",
            "10         pHComperasion   46.300526\n"
          ]
        }
      ]
    },
    {
      "cell_type": "code",
      "source": [
        "logit_roc_auc = roc_auc_score(y_test, logisticRegr.predict(X_test))\n",
        "fpr, tpr, thresholds = roc_curve(y_test, logisticRegr.predict_proba(X_test)[:,1])\n",
        "plt.figure()\n",
        "plt.plot(fpr, tpr, label='Logistic Regression (area = %0.2f)' % logit_roc_auc)\n",
        "plt.plot([0, 1], [0, 1],'r--')\n",
        "plt.xlim([0.0, 1.0])\n",
        "plt.ylim([0.0, 1.05])\n",
        "plt.xlabel('False Positive Rate')\n",
        "plt.ylabel('True Positive Rate')\n",
        "plt.title('Receiver operating characteristic')\n",
        "plt.legend(loc=\"lower right\")\n",
        "plt.savefig('Log_ROC')\n",
        "plt.show()"
      ],
      "metadata": {
        "colab": {
          "base_uri": "https://localhost:8080/",
          "height": 295
        },
        "id": "HWTuANGpSuhb",
        "outputId": "984e3e66-d29b-4bd6-94c5-c9fcfd016fe6"
      },
      "id": "HWTuANGpSuhb",
      "execution_count": 44,
      "outputs": [
        {
          "output_type": "display_data",
          "data": {
            "text/plain": [
              "<Figure size 432x288 with 1 Axes>"
            ],
            "image/png": "[encoded data removed]"
          },
          "metadata": {
            "needs_background": "light"
          }
        }
      ]
    },
    {
      "cell_type": "code",
      "execution_count": null,
      "id": "f47ccf77",
      "metadata": {
        "execution": {
          "iopub.execute_input": "2022-06-11T12:25:39.613240Z",
          "iopub.status.busy": "2022-06-11T12:25:39.612949Z",
          "iopub.status.idle": "2022-06-11T12:25:40.272105Z",
          "shell.execute_reply": "2022-06-11T12:25:40.271281Z"
        },
        "papermill": {
          "duration": 0.779189,
          "end_time": "2022-06-11T12:25:40.276370",
          "exception": false,
          "start_time": "2022-06-11T12:25:39.497181",
          "status": "completed"
        },
        "tags": [],
        "id": "f47ccf77"
      },
      "outputs": [],
      "source": [
        "scores = cross_val_score(logisticRegr, X, y, cv=10)\n",
        "scores.mean()"
      ]
    },
    {
      "cell_type": "code",
      "execution_count": 46,
      "id": "f6a73469",
      "metadata": {
        "execution": {
          "iopub.execute_input": "2022-06-11T12:25:41.528885Z",
          "iopub.status.busy": "2022-06-11T12:25:41.528245Z",
          "iopub.status.idle": "2022-06-11T12:25:41.560336Z",
          "shell.execute_reply": "2022-06-11T12:25:41.559432Z"
        },
        "papermill": {
          "duration": 0.152901,
          "end_time": "2022-06-11T12:25:41.562569",
          "exception": false,
          "start_time": "2022-06-11T12:25:41.409668",
          "status": "completed"
        },
        "tags": [],
        "id": "f6a73469",
        "outputId": "229b9e6e-4cfa-421b-9dd2-ee08b0832218",
        "colab": {
          "base_uri": "https://localhost:8080/"
        }
      },
      "outputs": [
        {
          "output_type": "stream",
          "name": "stdout",
          "text": [
            "Accuracy of LDA classifier on test set: 0.75\n"
          ]
        }
      ],
      "source": [
        "LDA = LinearDiscriminantAnalysis()\n",
        "LDA.fit(X_train, y_train)\n",
        "pred_lda = LDA.predict(X_test)\n",
        "#print(classification_report(y_test, pred_lda))\n",
        "\n",
        "y_pred = LDA.predict(X_test)\n",
        "print('Accuracy of LDA classifier on test set: {:.2f}'.format(LDA.score(X_test, y_test)))"
      ]
    },
    {
      "cell_type": "code",
      "execution_count": 47,
      "id": "2f0de232",
      "metadata": {
        "execution": {
          "iopub.execute_input": "2022-06-11T12:25:41.796796Z",
          "iopub.status.busy": "2022-06-11T12:25:41.796191Z",
          "iopub.status.idle": "2022-06-11T12:25:41.802638Z",
          "shell.execute_reply": "2022-06-11T12:25:41.801637Z"
        },
        "papermill": {
          "duration": 0.124945,
          "end_time": "2022-06-11T12:25:41.804606",
          "exception": false,
          "start_time": "2022-06-11T12:25:41.679661",
          "status": "completed"
        },
        "tags": [],
        "id": "2f0de232",
        "outputId": "3e6b4282-f0d3-41a1-992a-fc8932c062fe",
        "colab": {
          "base_uri": "https://localhost:8080/",
          "height": 295
        }
      },
      "outputs": [
        {
          "output_type": "display_data",
          "data": {
            "text/plain": [
              "<Figure size 432x288 with 2 Axes>"
            ],
            "image/png": "[encoded data removed]"
          },
          "metadata": {
            "needs_background": "light"
          }
        }
      ],
      "source": [
        "cm = (confusion_matrix(y_test, pred_lda))\n",
        "ax= plt.subplot()\n",
        "sns.heatmap(cm, annot=True, fmt='g', ax=ax);\n",
        "\n",
        "# labels, title and ticks\n",
        "ax.set_xlabel('Predicted labels');\n",
        "ax.set_ylabel('True labels'); \n",
        "ax.set_title('Confusion Matrix'); \n",
        "ax.xaxis.set_ticklabels(['good', 'bad']); \n",
        "ax.yaxis.set_ticklabels(['good', 'bad']);"
      ]
    },
    {
      "cell_type": "code",
      "source": [
        "lda_roc_auc = roc_auc_score(y_test, LDA.predict(X_test))\n",
        "fpr, tpr, thresholds = roc_curve(y_test, LDA.predict_proba(X_test)[:,1])\n",
        "plt.figure()\n",
        "plt.plot(fpr, tpr, label='LDA (area = %0.2f)' % lda_roc_auc)\n",
        "plt.plot([0, 1], [0, 1],'r--')\n",
        "plt.xlim([0.0, 1.0])\n",
        "plt.ylim([0.0, 1.05])\n",
        "plt.xlabel('False Positive Rate')\n",
        "plt.ylabel('True Positive Rate')\n",
        "plt.title('Receiver operating characteristic')\n",
        "plt.legend(loc=\"lower right\")\n",
        "plt.savefig('Log_ROC')\n",
        "plt.show()"
      ],
      "metadata": {
        "colab": {
          "base_uri": "https://localhost:8080/",
          "height": 295
        },
        "id": "F-sjIn0uTVRf",
        "outputId": "a0e1affe-389f-4328-aaaf-585672d1516d"
      },
      "id": "F-sjIn0uTVRf",
      "execution_count": 48,
      "outputs": [
        {
          "output_type": "display_data",
          "data": {
            "text/plain": [
              "<Figure size 432x288 with 1 Axes>"
            ],
            "image/png": "[encoded data removed]"
          },
          "metadata": {
            "needs_background": "light"
          }
        }
      ]
    },
    {
      "cell_type": "code",
      "execution_count": 49,
      "id": "393c7671",
      "metadata": {
        "execution": {
          "iopub.execute_input": "2022-06-11T12:25:42.038539Z",
          "iopub.status.busy": "2022-06-11T12:25:42.038245Z",
          "iopub.status.idle": "2022-06-11T12:25:42.041671Z",
          "shell.execute_reply": "2022-06-11T12:25:42.041013Z"
        },
        "papermill": {
          "duration": 0.122758,
          "end_time": "2022-06-11T12:25:42.043417",
          "exception": false,
          "start_time": "2022-06-11T12:25:41.920659",
          "status": "completed"
        },
        "tags": [],
        "id": "393c7671",
        "colab": {
          "base_uri": "https://localhost:8080/"
        },
        "outputId": "f9ed357e-ce51-4c38-fd2d-425aac1cf41d"
      },
      "outputs": [
        {
          "output_type": "stream",
          "name": "stdout",
          "text": [
            "Accuracy of QDA classifier on test set: 0.73\n"
          ]
        }
      ],
      "source": [
        "QDA = QuadraticDiscriminantAnalysis()\n",
        "QDA.fit(X_train, y_train)\n",
        "pred_qda = QDA.predict(X_test)\n",
        "#print(classification_report(y_test, pred_qda))\n",
        "\n",
        "y_pred = QDA.predict(X_test)\n",
        "print('Accuracy of QDA classifier on test set: {:.2f}'.format(QDA.score(X_test, y_test)))"
      ]
    },
    {
      "cell_type": "code",
      "execution_count": 50,
      "id": "a4eea834",
      "metadata": {
        "execution": {
          "iopub.execute_input": "2022-06-11T12:25:42.276804Z",
          "iopub.status.busy": "2022-06-11T12:25:42.276279Z",
          "iopub.status.idle": "2022-06-11T12:25:42.279398Z",
          "shell.execute_reply": "2022-06-11T12:25:42.278822Z"
        },
        "papermill": {
          "duration": 0.121929,
          "end_time": "2022-06-11T12:25:42.281085",
          "exception": false,
          "start_time": "2022-06-11T12:25:42.159156",
          "status": "completed"
        },
        "tags": [],
        "id": "a4eea834",
        "colab": {
          "base_uri": "https://localhost:8080/",
          "height": 295
        },
        "outputId": "d4cb481a-a0f8-4cbc-a8e7-f49164ebf14c"
      },
      "outputs": [
        {
          "output_type": "display_data",
          "data": {
            "text/plain": [
              "<Figure size 432x288 with 2 Axes>"
            ],
            "image/png": "[encoded data removed]"
          },
          "metadata": {
            "needs_background": "light"
          }
        }
      ],
      "source": [
        "cm = (confusion_matrix(y_test, pred_qda))\n",
        "ax= plt.subplot()\n",
        "sns.heatmap(cm, annot=True, fmt='g', ax=ax);\n",
        "\n",
        "# labels, title and ticks\n",
        "ax.set_xlabel('Predicted labels');\n",
        "ax.set_ylabel('True labels'); \n",
        "ax.set_title('Confusion Matrix'); \n",
        "ax.xaxis.set_ticklabels(['good', 'bad']); \n",
        "ax.yaxis.set_ticklabels(['good', 'bad']);"
      ]
    },
    {
      "cell_type": "code",
      "source": [
        "qda_roc_auc = roc_auc_score(y_test, QDA.predict(X_test))\n",
        "fpr, tpr, thresholds = roc_curve(y_test, QDA.predict_proba(X_test)[:,1])\n",
        "plt.figure()\n",
        "plt.plot(fpr, tpr, label='QDA (area = %0.2f)' % qda_roc_auc)\n",
        "plt.plot([0, 1], [0, 1],'r--')\n",
        "plt.xlim([0.0, 1.0])\n",
        "plt.ylim([0.0, 1.05])\n",
        "plt.xlabel('False Positive Rate')\n",
        "plt.ylabel('True Positive Rate')\n",
        "plt.title('Receiver operating characteristic')\n",
        "plt.legend(loc=\"lower right\")\n",
        "plt.savefig('Log_ROC')\n",
        "plt.show()"
      ],
      "metadata": {
        "colab": {
          "base_uri": "https://localhost:8080/",
          "height": 295
        },
        "id": "B7B_CZamXym8",
        "outputId": "3ad3921a-7c0f-439b-d1ff-aba565c17685"
      },
      "id": "B7B_CZamXym8",
      "execution_count": 51,
      "outputs": [
        {
          "output_type": "display_data",
          "data": {
            "text/plain": [
              "<Figure size 432x288 with 1 Axes>"
            ],
            "image/png": "[encoded data removed]"
          },
          "metadata": {
            "needs_background": "light"
          }
        }
      ]
    },
    {
      "cell_type": "code",
      "execution_count": 52,
      "id": "9eff8895",
      "metadata": {
        "execution": {
          "iopub.execute_input": "2022-06-11T12:25:42.515198Z",
          "iopub.status.busy": "2022-06-11T12:25:42.514613Z",
          "iopub.status.idle": "2022-06-11T12:25:42.540884Z",
          "shell.execute_reply": "2022-06-11T12:25:42.540256Z"
        },
        "papermill": {
          "duration": 0.145326,
          "end_time": "2022-06-11T12:25:42.542964",
          "exception": false,
          "start_time": "2022-06-11T12:25:42.397638",
          "status": "completed"
        },
        "tags": [],
        "id": "9eff8895",
        "outputId": "dd85a018-ca68-45c1-e187-280ab9a8cc99",
        "colab": {
          "base_uri": "https://localhost:8080/",
          "height": 269
        }
      },
      "outputs": [
        {
          "output_type": "display_data",
          "data": {
            "text/plain": [
              "<Figure size 432x288 with 1 Axes>"
            ],
            "image/png": "[encoded data removed]"
          },
          "metadata": {
            "needs_background": "light"
          }
        }
      ],
      "source": [
        "test_accuracyB = [] \n",
        "for k in range (1, 30): \n",
        "    neigh = KNeighborsClassifier(n_neighbors=k) \n",
        "    neigh.fit(X_train, y_train) \n",
        "    pred_knn = neigh.predict(X_test) \n",
        "    test_accuracyB.append(accuracy_score(y_test, pred_knn)) \n",
        " \n",
        "plt.plot(np.array(range(1, 30)) , test_accuracyB, color = \"red\", marker = \"o\", label = \"K\") \n",
        "plt.legend() \n",
        "plt.show()"
      ]
    },
    {
      "cell_type": "code",
      "execution_count": 53,
      "id": "562a1997",
      "metadata": {
        "execution": {
          "iopub.execute_input": "2022-06-11T12:25:43.283857Z",
          "iopub.status.busy": "2022-06-11T12:25:43.283321Z",
          "iopub.status.idle": "2022-06-11T12:25:43.746981Z",
          "shell.execute_reply": "2022-06-11T12:25:43.746121Z"
        },
        "papermill": {
          "duration": 0.585573,
          "end_time": "2022-06-11T12:25:43.749157",
          "exception": false,
          "start_time": "2022-06-11T12:25:43.163584",
          "status": "completed"
        },
        "tags": [],
        "id": "562a1997",
        "outputId": "e0acfaba-331a-46db-869d-e8767cadaef7",
        "colab": {
          "base_uri": "https://localhost:8080/",
          "height": 386
        }
      },
      "outputs": [
        {
          "output_type": "execute_result",
          "data": {
            "text/plain": [
              "<seaborn.axisgrid.FacetGrid at 0x7fb56b938a50>"
            ]
          },
          "metadata": {},
          "execution_count": 53
        },
        {
          "output_type": "display_data",
          "data": {
            "text/plain": [
              "<Figure size 402.375x360 with 1 Axes>"
            ],
            "image/png": "[encoded data removed]"
          },
          "metadata": {
            "needs_background": "light"
          }
        }
      ],
      "source": [
        "#pHComperasion and densityComperasion have low coefficients\n",
        "#we can check relations between this 2 feature and quality in 1 plot\n",
        "sns.displot(data=drink1, x=\"densityComperasion\",y =\"pHComperasion\", hue=\"quality\")"
      ]
    },
    {
      "cell_type": "code",
      "execution_count": 54,
      "id": "03db035c",
      "metadata": {
        "execution": {
          "iopub.execute_input": "2022-06-11T12:25:43.988375Z",
          "iopub.status.busy": "2022-06-11T12:25:43.987431Z",
          "iopub.status.idle": "2022-06-11T12:25:44.012462Z",
          "shell.execute_reply": "2022-06-11T12:25:44.011896Z"
        },
        "papermill": {
          "duration": 0.146751,
          "end_time": "2022-06-11T12:25:44.014336",
          "exception": false,
          "start_time": "2022-06-11T12:25:43.867585",
          "status": "completed"
        },
        "tags": [],
        "id": "03db035c",
        "outputId": "4f575f20-728c-4d7c-9b18-d9bac6a7286e",
        "colab": {
          "base_uri": "https://localhost:8080/",
          "height": 305
        }
      },
      "outputs": [
        {
          "output_type": "execute_result",
          "data": {
            "text/plain": [
              "   fixed acidity  volatile acidity  citric acid  residual sugar  chlorides  \\\n",
              "0            7.4              0.70         0.00             1.9      0.076   \n",
              "1            7.8              0.88         0.00             2.6      0.098   \n",
              "2            7.8              0.76         0.04             2.3      0.092   \n",
              "3           11.2              0.28         0.56             1.9      0.075   \n",
              "5            7.4              0.66         0.00             1.8      0.075   \n",
              "\n",
              "   free sulfur dioxide  total sulfur dioxide  sulphates  alcohol  quality  \\\n",
              "0                 11.0                  34.0       0.56      9.4        0   \n",
              "1                 25.0                  67.0       0.68      9.8        0   \n",
              "2                 15.0                  54.0       0.65      9.8        0   \n",
              "3                 17.0                  60.0       0.58      9.8        1   \n",
              "5                 13.0                  40.0       0.56      9.4        0   \n",
              "\n",
              "   densityComperasion  pHComperasion  extfeature1  extfeature2  \n",
              "0                 7.8            7.7        60.84        59.29  \n",
              "1                 6.8            4.6        46.24        21.16  \n",
              "2                 7.0            5.2        49.00        27.04  \n",
              "3                 8.0            4.2        64.00        17.64  \n",
              "5                 7.8            7.7        60.84        59.29  "
            ],
            "text/html": [
              "\n",
              "  <div id=\"df-d12cb16a-6147-45e0-80f0-4e9a4e86b8ee\">\n",
              "    <div class=\"colab-df-container\">\n",
              "      <div>\n",
              "<style scoped>\n",
              "    .dataframe tbody tr th:only-of-type {\n",
              "        vertical-align: middle;\n",
              "    }\n",
              "\n",
              "    .dataframe tbody tr th {\n",
              "        vertical-align: top;\n",
              "    }\n",
              "\n",
              "    .dataframe thead th {\n",
              "        text-align: right;\n",
              "    }\n",
              "</style>\n",
              "<table border=\"1\" class=\"dataframe\">\n",
              "  <thead>\n",
              "    <tr style=\"text-align: right;\">\n",
              "      <th></th>\n",
              "      <th>fixed acidity</th>\n",
              "      <th>volatile acidity</th>\n",
              "      <th>citric acid</th>\n",
              "      <th>residual sugar</th>\n",
              "      <th>chlorides</th>\n",
              "      <th>free sulfur dioxide</th>\n",
              "      <th>total sulfur dioxide</th>\n",
              "      <th>sulphates</th>\n",
              "      <th>alcohol</th>\n",
              "      <th>quality</th>\n",
              "      <th>densityComperasion</th>\n",
              "      <th>pHComperasion</th>\n",
              "      <th>extfeature1</th>\n",
              "      <th>extfeature2</th>\n",
              "    </tr>\n",
              "  </thead>\n",
              "  <tbody>\n",
              "    <tr>\n",
              "      <th>0</th>\n",
              "      <td>7.4</td>\n",
              "      <td>0.70</td>\n",
              "      <td>0.00</td>\n",
              "      <td>1.9</td>\n",
              "      <td>0.076</td>\n",
              "      <td>11.0</td>\n",
              "      <td>34.0</td>\n",
              "      <td>0.56</td>\n",
              "      <td>9.4</td>\n",
              "      <td>0</td>\n",
              "      <td>7.8</td>\n",
              "      <td>7.7</td>\n",
              "      <td>60.84</td>\n",
              "      <td>59.29</td>\n",
              "    </tr>\n",
              "    <tr>\n",
              "      <th>1</th>\n",
              "      <td>7.8</td>\n",
              "      <td>0.88</td>\n",
              "      <td>0.00</td>\n",
              "      <td>2.6</td>\n",
              "      <td>0.098</td>\n",
              "      <td>25.0</td>\n",
              "      <td>67.0</td>\n",
              "      <td>0.68</td>\n",
              "      <td>9.8</td>\n",
              "      <td>0</td>\n",
              "      <td>6.8</td>\n",
              "      <td>4.6</td>\n",
              "      <td>46.24</td>\n",
              "      <td>21.16</td>\n",
              "    </tr>\n",
              "    <tr>\n",
              "      <th>2</th>\n",
              "      <td>7.8</td>\n",
              "      <td>0.76</td>\n",
              "      <td>0.04</td>\n",
              "      <td>2.3</td>\n",
              "      <td>0.092</td>\n",
              "      <td>15.0</td>\n",
              "      <td>54.0</td>\n",
              "      <td>0.65</td>\n",
              "      <td>9.8</td>\n",
              "      <td>0</td>\n",
              "      <td>7.0</td>\n",
              "      <td>5.2</td>\n",
              "      <td>49.00</td>\n",
              "      <td>27.04</td>\n",
              "    </tr>\n",
              "    <tr>\n",
              "      <th>3</th>\n",
              "      <td>11.2</td>\n",
              "      <td>0.28</td>\n",
              "      <td>0.56</td>\n",
              "      <td>1.9</td>\n",
              "      <td>0.075</td>\n",
              "      <td>17.0</td>\n",
              "      <td>60.0</td>\n",
              "      <td>0.58</td>\n",
              "      <td>9.8</td>\n",
              "      <td>1</td>\n",
              "      <td>8.0</td>\n",
              "      <td>4.2</td>\n",
              "      <td>64.00</td>\n",
              "      <td>17.64</td>\n",
              "    </tr>\n",
              "    <tr>\n",
              "      <th>5</th>\n",
              "      <td>7.4</td>\n",
              "      <td>0.66</td>\n",
              "      <td>0.00</td>\n",
              "      <td>1.8</td>\n",
              "      <td>0.075</td>\n",
              "      <td>13.0</td>\n",
              "      <td>40.0</td>\n",
              "      <td>0.56</td>\n",
              "      <td>9.4</td>\n",
              "      <td>0</td>\n",
              "      <td>7.8</td>\n",
              "      <td>7.7</td>\n",
              "      <td>60.84</td>\n",
              "      <td>59.29</td>\n",
              "    </tr>\n",
              "  </tbody>\n",
              "</table>\n",
              "</div>\n",
              "      <button class=\"colab-df-convert\" onclick=\"convertToInteractive('df-d12cb16a-6147-45e0-80f0-4e9a4e86b8ee')\"\n",
              "              title=\"Convert this dataframe to an interactive table.\"\n",
              "              style=\"display:none;\">\n",
              "        \n",
              "  <svg xmlns=\"http://www.w3.org/2000/svg\" height=\"24px\"viewBox=\"0 0 24 24\"\n",
              "       width=\"24px\">\n",
              "    <path d=\"M0 0h24v24H0V0z\" fill=\"none\"/>\n",
              "    <path d=\"M18.56 5.44l.94 2.06.94-2.06 2.06-.94-2.06-.94-.94-2.06-.94 2.06-2.06.94zm-11 1L8.5 8.5l.94-2.06 2.06-.94-2.06-.94L8.5 2.5l-.94 2.06-2.06.94zm10 10l.94 2.06.94-2.06 2.06-.94-2.06-.94-.94-2.06-.94 2.06-2.06.94z\"/><path d=\"M17.41 7.96l-1.37-1.37c-.4-.4-.92-.59-1.43-.59-.52 0-1.04.2-1.43.59L10.3 9.45l-7.72 7.72c-.78.78-.78 2.05 0 2.83L4 21.41c.39.39.9.59 1.41.59.51 0 1.02-.2 1.41-.59l7.78-7.78 2.81-2.81c.8-.78.8-2.07 0-2.86zM5.41 20L4 18.59l7.72-7.72 1.47 1.35L5.41 20z\"/>\n",
              "  </svg>\n",
              "      </button>\n",
              "      \n",
              "  <style>\n",
              "    .colab-df-container {\n",
              "      display:flex;\n",
              "      flex-wrap:wrap;\n",
              "      gap: 12px;\n",
              "    }\n",
              "\n",
              "    .colab-df-convert {\n",
              "      background-color: #E8F0FE;\n",
              "      border: none;\n",
              "      border-radius: 50%;\n",
              "      cursor: pointer;\n",
              "      display: none;\n",
              "      fill: #1967D2;\n",
              "      height: 32px;\n",
              "      padding: 0 0 0 0;\n",
              "      width: 32px;\n",
              "    }\n",
              "\n",
              "    .colab-df-convert:hover {\n",
              "      background-color: #E2EBFA;\n",
              "      box-shadow: 0px 1px 2px rgba(60, 64, 67, 0.3), 0px 1px 3px 1px rgba(60, 64, 67, 0.15);\n",
              "      fill: #174EA6;\n",
              "    }\n",
              "\n",
              "    [theme=dark] .colab-df-convert {\n",
              "      background-color: #3B4455;\n",
              "      fill: #D2E3FC;\n",
              "    }\n",
              "\n",
              "    [theme=dark] .colab-df-convert:hover {\n",
              "      background-color: #434B5C;\n",
              "      box-shadow: 0px 1px 3px 1px rgba(0, 0, 0, 0.15);\n",
              "      filter: drop-shadow(0px 1px 2px rgba(0, 0, 0, 0.3));\n",
              "      fill: #FFFFFF;\n",
              "    }\n",
              "  </style>\n",
              "\n",
              "      <script>\n",
              "        const buttonEl =\n",
              "          document.querySelector('#df-d12cb16a-6147-45e0-80f0-4e9a4e86b8ee button.colab-df-convert');\n",
              "        buttonEl.style.display =\n",
              "          google.colab.kernel.accessAllowed ? 'block' : 'none';\n",
              "\n",
              "        async function convertToInteractive(key) {\n",
              "          const element = document.querySelector('#df-d12cb16a-6147-45e0-80f0-4e9a4e86b8ee');\n",
              "          const dataTable =\n",
              "            await google.colab.kernel.invokeFunction('convertToInteractive',\n",
              "                                                     [key], {});\n",
              "          if (!dataTable) return;\n",
              "\n",
              "          const docLinkHtml = 'Like what you see? Visit the ' +\n",
              "            '<a target=\"_blank\" href=https://colab.research.google.com/notebooks/data_table.ipynb>data table notebook</a>'\n",
              "            + ' to learn more about interactive tables.';\n",
              "          element.innerHTML = '';\n",
              "          dataTable['output_type'] = 'display_data';\n",
              "          await google.colab.output.renderOutput(dataTable, element);\n",
              "          const docLink = document.createElement('div');\n",
              "          docLink.innerHTML = docLinkHtml;\n",
              "          element.appendChild(docLink);\n",
              "        }\n",
              "      </script>\n",
              "    </div>\n",
              "  </div>\n",
              "  "
            ]
          },
          "metadata": {},
          "execution_count": 54
        }
      ],
      "source": [
        "#it seems we can draw a circle with x=7 and y=6 center, in circle higher chance of quality = 1\n",
        "#so we define a new variable, like z = (x-7)^2 + (y-6)^2, linear relation between z and x, z and y can show themselves\n",
        "#in coefficients of x and y, so we just need to describe 2 new varible like x^2 and y^2\n",
        "drink2 = drink1.copy()\n",
        "drink2[\"extfeature1\"] = drink2[\"densityComperasion\"]**2\n",
        "drink2[\"extfeature2\"] = drink2[\"pHComperasion\"]**2\n",
        "drink2.head()"
      ]
    },
    {
      "cell_type": "code",
      "execution_count": 55,
      "id": "845d983f",
      "metadata": {
        "execution": {
          "iopub.execute_input": "2022-06-11T12:25:44.255700Z",
          "iopub.status.busy": "2022-06-11T12:25:44.254839Z",
          "iopub.status.idle": "2022-06-11T12:25:44.296155Z",
          "shell.execute_reply": "2022-06-11T12:25:44.295275Z"
        },
        "papermill": {
          "duration": 0.165789,
          "end_time": "2022-06-11T12:25:44.299478",
          "exception": false,
          "start_time": "2022-06-11T12:25:44.133689",
          "status": "completed"
        },
        "tags": [],
        "id": "845d983f",
        "outputId": "747ead57-035e-472b-f718-135e72b6dc6c",
        "colab": {
          "base_uri": "https://localhost:8080/"
        }
      },
      "outputs": [
        {
          "output_type": "stream",
          "name": "stdout",
          "text": [
            "Accuracy of logistic regression classifier with new featcures on test set: 0.77\n"
          ]
        }
      ],
      "source": [
        "#lets create a new model and check its score\n",
        "X2 = drink2.drop('quality', axis = 1)\n",
        "y2 = drink2['quality']\n",
        "X2_train, X2_test, y2_train, y2_test = train_test_split(X2, y2, test_size = 0.2, random_state = 9)\n",
        "X2_train = sc.fit_transform(X2_train)\n",
        "X2_test = sc.fit_transform(X2_test)\n",
        "\n",
        "logisticRegr2 = LogisticRegression()\n",
        "logisticRegr2.fit(X2_train, y2_train)\n",
        "pred_logres2 = logisticRegr2.predict(X2_test)\n",
        "\n",
        "#print(classification_report(y2_test, pred_logres2))\n",
        "\n",
        "y_pred = logisticRegr2.predict(X2_test)\n",
        "print('Accuracy of logistic regression classifier with new featcures on test set: {:.2f}'.format(logisticRegr2.score(X2_test, y2_test)))"
      ]
    },
    {
      "cell_type": "code",
      "execution_count": 56,
      "id": "ef191cf9",
      "metadata": {
        "execution": {
          "iopub.execute_input": "2022-06-11T12:25:44.610895Z",
          "iopub.status.busy": "2022-06-11T12:25:44.610604Z",
          "iopub.status.idle": "2022-06-11T12:25:44.615925Z",
          "shell.execute_reply": "2022-06-11T12:25:44.615365Z"
        },
        "papermill": {
          "duration": 0.146508,
          "end_time": "2022-06-11T12:25:44.618129",
          "exception": false,
          "start_time": "2022-06-11T12:25:44.471621",
          "status": "completed"
        },
        "tags": [],
        "id": "ef191cf9",
        "outputId": "e16b6040-27cf-4ff7-897c-28ed4ec40f48",
        "colab": {
          "base_uri": "https://localhost:8080/"
        }
      },
      "outputs": [
        {
          "output_type": "stream",
          "name": "stdout",
          "text": [
            "                features      coef\n",
            "8                alcohol  0.968561\n",
            "6   total sulfur dioxide  0.557041\n",
            "1       volatile acidity  0.536250\n",
            "7              sulphates  0.478142\n",
            "12           extfeature2  0.262656\n",
            "11           extfeature1  0.261802\n",
            "9     densityComperasion  0.248294\n",
            "2            citric acid  0.221128\n",
            "5    free sulfur dioxide  0.196050\n",
            "10         pHComperasion  0.181043\n",
            "4              chlorides  0.161906\n",
            "0          fixed acidity  0.111339\n",
            "3         residual sugar  0.004965\n"
          ]
        }
      ],
      "source": [
        "logisticRegr2.coef_\n",
        "\n",
        "repReg2 = pd.DataFrame()\n",
        "repReg2.insert(0,\"features\",X2.columns)\n",
        "repReg2.insert(1,\"coef\",abs(logisticRegr2.coef_.flatten()))\n",
        "print(repReg2.sort_values(by='coef',ascending=False))"
      ]
    },
    {
      "cell_type": "code",
      "execution_count": 57,
      "id": "b04a59ba",
      "metadata": {
        "execution": {
          "iopub.execute_input": "2022-06-11T12:25:44.862360Z",
          "iopub.status.busy": "2022-06-11T12:25:44.861878Z",
          "iopub.status.idle": "2022-06-11T12:25:44.867803Z",
          "shell.execute_reply": "2022-06-11T12:25:44.866448Z"
        },
        "papermill": {
          "duration": 0.13003,
          "end_time": "2022-06-11T12:25:44.869735",
          "exception": false,
          "start_time": "2022-06-11T12:25:44.739705",
          "status": "completed"
        },
        "tags": [],
        "id": "b04a59ba",
        "outputId": "14febcae-bcd7-4c6b-8666-a877122ba8e9",
        "colab": {
          "base_uri": "https://localhost:8080/",
          "height": 295
        }
      },
      "outputs": [
        {
          "output_type": "display_data",
          "data": {
            "text/plain": [
              "<Figure size 432x288 with 2 Axes>"
            ],
            "image/png": "[encoded data removed]"
          },
          "metadata": {
            "needs_background": "light"
          }
        }
      ],
      "source": [
        "cm = (confusion_matrix(y2_test, pred_logres2))\n",
        "ax= plt.subplot()\n",
        "sns.heatmap(cm, annot=True, fmt='g', ax=ax);\n",
        "\n",
        "# labels, title and ticks\n",
        "ax.set_xlabel('Predicted labels');\n",
        "ax.set_ylabel('True labels'); \n",
        "ax.set_title('Confusion Matrix'); \n",
        "ax.xaxis.set_ticklabels(['good', 'bad']); \n",
        "ax.yaxis.set_ticklabels(['good', 'bad']);"
      ]
    },
    {
      "cell_type": "code",
      "source": [
        "reg2_roc_auc = roc_auc_score(y2_test, logisticRegr2.predict(X2_test))\n",
        "fpr, tpr, thresholds = roc_curve(y2_test, logisticRegr2.predict_proba(X2_test)[:,1])\n",
        "plt.figure()\n",
        "plt.plot(fpr, tpr, label='logistic regression (area = %0.2f)' % reg2_roc_auc)\n",
        "plt.plot([0, 1], [0, 1],'r--')\n",
        "plt.xlim([0.0, 1.0])\n",
        "plt.ylim([0.0, 1.05])\n",
        "plt.xlabel('False Positive Rate')\n",
        "plt.ylabel('True Positive Rate')\n",
        "plt.title('Receiver operating characteristic')\n",
        "plt.legend(loc=\"lower right\")\n",
        "plt.savefig('Log_ROC')\n",
        "plt.show()"
      ],
      "metadata": {
        "colab": {
          "base_uri": "https://localhost:8080/",
          "height": 295
        },
        "id": "DKmZAzcthM10",
        "outputId": "23fa3c44-331d-47e6-a4f2-baa069386251"
      },
      "id": "DKmZAzcthM10",
      "execution_count": 58,
      "outputs": [
        {
          "output_type": "display_data",
          "data": {
            "text/plain": [
              "<Figure size 432x288 with 1 Axes>"
            ],
            "image/png": "[encoded data removed]"
          },
          "metadata": {
            "needs_background": "light"
          }
        }
      ]
    },
    {
      "cell_type": "code",
      "source": [
        "X2.info()"
      ],
      "metadata": {
        "colab": {
          "base_uri": "https://localhost:8080/"
        },
        "id": "itrMLitbvrIt",
        "outputId": "858c9e59-0571-49f0-e436-1c839cbc7998"
      },
      "id": "itrMLitbvrIt",
      "execution_count": 59,
      "outputs": [
        {
          "output_type": "stream",
          "name": "stdout",
          "text": [
            "<class 'pandas.core.frame.DataFrame'>\n",
            "Int64Index: 1359 entries, 0 to 1598\n",
            "Data columns (total 13 columns):\n",
            " #   Column                Non-Null Count  Dtype  \n",
            "---  ------                --------------  -----  \n",
            " 0   fixed acidity         1359 non-null   float64\n",
            " 1   volatile acidity      1359 non-null   float64\n",
            " 2   citric acid           1359 non-null   float64\n",
            " 3   residual sugar        1359 non-null   float64\n",
            " 4   chlorides             1359 non-null   float64\n",
            " 5   free sulfur dioxide   1359 non-null   float64\n",
            " 6   total sulfur dioxide  1359 non-null   float64\n",
            " 7   sulphates             1359 non-null   float64\n",
            " 8   alcohol               1359 non-null   float64\n",
            " 9   densityComperasion    1359 non-null   float64\n",
            " 10  pHComperasion         1359 non-null   float64\n",
            " 11  extfeature1           1359 non-null   float64\n",
            " 12  extfeature2           1359 non-null   float64\n",
            "dtypes: float64(13)\n",
            "memory usage: 180.9 KB\n"
          ]
        }
      ]
    },
    {
      "cell_type": "code",
      "execution_count": 60,
      "id": "73fd00ed",
      "metadata": {
        "execution": {
          "iopub.execute_input": "2022-06-11T12:25:45.370606Z",
          "iopub.status.busy": "2022-06-11T12:25:45.370021Z",
          "iopub.status.idle": "2022-06-11T12:25:45.384155Z",
          "shell.execute_reply": "2022-06-11T12:25:45.383510Z"
        },
        "papermill": {
          "duration": 0.139315,
          "end_time": "2022-06-11T12:25:45.386303",
          "exception": false,
          "start_time": "2022-06-11T12:25:45.246988",
          "status": "completed"
        },
        "tags": [],
        "id": "73fd00ed"
      },
      "outputs": [],
      "source": [
        "#our model accuriacy increased, so we can add some other features, then choose p best of them\n",
        "#start with adding x^2 of features\n",
        "drink3=drink1.copy()\n",
        "drink3[\"fixed acidity^2\"]=drink1[\"fixed acidity\"]**2\n",
        "drink3[\"volatile acidity^2\"]=drink1[\"volatile acidity\"]**2\n",
        "drink3[\"citric acid^2\"]=drink1[\"citric acid\"]**2\n",
        "drink3[\"residual sugar^2\"]=drink1[\"residual sugar\"]**2\n",
        "drink3[\"chlorides^2\"]=drink1[\"chlorides\"]**2\n",
        "drink3[\"free sulfur dioxide^2\"]=drink1[\"free sulfur dioxide\"]**2\n",
        "drink3[\"total sulfur dioxide^2\"]=drink1[\"total sulfur dioxide\"]**2\n",
        "drink3[\"sulphates^2\"]=drink1[\"sulphates\"]**2\n",
        "drink3[\"alcohol^2\"]=drink1[\"alcohol\"]**2\n",
        "drink3[\"densityComperasion^2\"]=drink1[\"densityComperasion\"]**2\n",
        "drink3[\"pHComperasion^2\"]=drink1[\"pHComperasion\"]**2"
      ]
    },
    {
      "cell_type": "code",
      "execution_count": 61,
      "id": "c00855d0",
      "metadata": {
        "execution": {
          "iopub.execute_input": "2022-06-11T12:25:45.633425Z",
          "iopub.status.busy": "2022-06-11T12:25:45.632888Z",
          "iopub.status.idle": "2022-06-11T12:25:45.714251Z",
          "shell.execute_reply": "2022-06-11T12:25:45.713402Z"
        },
        "papermill": {
          "duration": 0.209906,
          "end_time": "2022-06-11T12:25:45.717663",
          "exception": false,
          "start_time": "2022-06-11T12:25:45.507757",
          "status": "completed"
        },
        "tags": [],
        "id": "c00855d0",
        "outputId": "237f4c30-a739-448e-8d6a-86d092c57d9b",
        "colab": {
          "base_uri": "https://localhost:8080/"
        }
      },
      "outputs": [
        {
          "output_type": "stream",
          "name": "stdout",
          "text": [
            "Accuracy of logistic regression classifier with new featcures on test set: 0.77\n"
          ]
        }
      ],
      "source": [
        "#lets create a new model and check its score\n",
        "X3 = drink3.drop('quality', axis = 1)\n",
        "y3 = drink3['quality']\n",
        "X3_train, X3_test, y3_train, y3_test = train_test_split(X3, y3, test_size = 0.2, random_state = 9)\n",
        "X3_train = sc.fit_transform(X3_train)\n",
        "X3_test = sc.fit_transform(X3_test)\n",
        "\n",
        "logisticRegr3 = LogisticRegression()\n",
        "logisticRegr3.fit(X3_train, y3_train)\n",
        "\n",
        "pred_logres3 = logisticRegr3.predict(X3_test)\n",
        "\n",
        "#print(classification_report(y3_test, pred_logres3))\n",
        "\n",
        "y_pred = logisticRegr3.predict(X3_test)\n",
        "print('Accuracy of logistic regression classifier with new featcures on test set: {:.2f}'.format(logisticRegr3.score(X3_test, y3_test)))\n",
        "\n"
      ]
    },
    {
      "cell_type": "code",
      "execution_count": 62,
      "id": "231b68ec",
      "metadata": {
        "execution": {
          "iopub.execute_input": "2022-06-11T12:25:46.011662Z",
          "iopub.status.busy": "2022-06-11T12:25:46.011188Z",
          "iopub.status.idle": "2022-06-11T12:25:46.018167Z",
          "shell.execute_reply": "2022-06-11T12:25:46.017294Z"
        },
        "papermill": {
          "duration": 0.131823,
          "end_time": "2022-06-11T12:25:46.020176",
          "exception": false,
          "start_time": "2022-06-11T12:25:45.888353",
          "status": "completed"
        },
        "tags": [],
        "id": "231b68ec",
        "outputId": "eab4b0a6-d768-4b17-ba8b-8e75b61282c1",
        "colab": {
          "base_uri": "https://localhost:8080/",
          "height": 295
        }
      },
      "outputs": [
        {
          "output_type": "display_data",
          "data": {
            "text/plain": [
              "<Figure size 432x288 with 2 Axes>"
            ],
            "image/png": "[encoded data removed]"
          },
          "metadata": {
            "needs_background": "light"
          }
        }
      ],
      "source": [
        "cm = (confusion_matrix(y3_test, pred_logres3))\n",
        "ax= plt.subplot()\n",
        "sns.heatmap(cm, annot=True, fmt='g', ax=ax);\n",
        "\n",
        "# labels, title and ticks\n",
        "ax.set_xlabel('Predicted labels');\n",
        "ax.set_ylabel('True labels'); \n",
        "ax.set_title('Confusion Matrix'); \n",
        "ax.xaxis.set_ticklabels(['good', 'bad']); \n",
        "ax.yaxis.set_ticklabels(['good', 'bad']);\n",
        "\n",
        "#print(confusion_matrix(y3_test, pred_logres3))"
      ]
    },
    {
      "cell_type": "code",
      "execution_count": 63,
      "id": "6f845b60",
      "metadata": {
        "execution": {
          "iopub.execute_input": "2022-06-11T12:25:46.267318Z",
          "iopub.status.busy": "2022-06-11T12:25:46.266481Z",
          "iopub.status.idle": "2022-06-11T12:25:46.272768Z",
          "shell.execute_reply": "2022-06-11T12:25:46.271805Z"
        },
        "papermill": {
          "duration": 0.131444,
          "end_time": "2022-06-11T12:25:46.274615",
          "exception": false,
          "start_time": "2022-06-11T12:25:46.143171",
          "status": "completed"
        },
        "tags": [],
        "id": "6f845b60",
        "outputId": "f78e7a24-122a-4320-c478-8c4a2ce7ba54",
        "colab": {
          "base_uri": "https://localhost:8080/"
        }
      },
      "outputs": [
        {
          "output_type": "stream",
          "name": "stdout",
          "text": [
            "                features      coef\n",
            "8                alcohol  0.968561\n",
            "6   total sulfur dioxide  0.557041\n",
            "1       volatile acidity  0.536250\n",
            "7              sulphates  0.478142\n",
            "12           extfeature2  0.262656\n",
            "11           extfeature1  0.261802\n",
            "9     densityComperasion  0.248294\n",
            "2            citric acid  0.221128\n",
            "5    free sulfur dioxide  0.196050\n",
            "10         pHComperasion  0.181043\n",
            "4              chlorides  0.161906\n",
            "0          fixed acidity  0.111339\n",
            "3         residual sugar  0.004965\n"
          ]
        }
      ],
      "source": [
        "logisticRegr3.coef_\n",
        "\n",
        "repReg3 = pd.DataFrame()\n",
        "repReg3.insert(0,\"features\",X3.columns)\n",
        "repReg3.insert(1,\"coef\",abs(logisticRegr3.coef_.flatten()))\n",
        "print(repReg2.sort_values(by='coef',ascending=False))"
      ]
    },
    {
      "cell_type": "code",
      "source": [
        "reg3_roc_auc = roc_auc_score(y3_test, logisticRegr3.predict(X3_test))\n",
        "fpr, tpr, thresholds = roc_curve(y3_test, logisticRegr3.predict_proba(X3_test)[:,1])\n",
        "plt.figure()\n",
        "plt.plot(fpr, tpr, label='logistic regression (area = %0.2f)' % reg3_roc_auc)\n",
        "plt.plot([0, 1], [0, 1],'r--')\n",
        "plt.xlim([0.0, 1.0])\n",
        "plt.ylim([0.0, 1.05])\n",
        "plt.xlabel('False Positive Rate')\n",
        "plt.ylabel('True Positive Rate')\n",
        "plt.title('Receiver operating characteristic')\n",
        "plt.legend(loc=\"lower right\")\n",
        "plt.savefig('Log_ROC')\n",
        "plt.show()"
      ],
      "metadata": {
        "colab": {
          "base_uri": "https://localhost:8080/",
          "height": 295
        },
        "id": "DRcaTLpnuNRU",
        "outputId": "8de4318e-018f-44bf-91f8-7387c48b056f"
      },
      "id": "DRcaTLpnuNRU",
      "execution_count": 64,
      "outputs": [
        {
          "output_type": "display_data",
          "data": {
            "text/plain": [
              "<Figure size 432x288 with 1 Axes>"
            ],
            "image/png": "[encoded data removed]"
          },
          "metadata": {
            "needs_background": "light"
          }
        }
      ]
    },
    {
      "cell_type": "code",
      "execution_count": 65,
      "id": "9c728d99",
      "metadata": {
        "execution": {
          "iopub.execute_input": "2022-06-11T12:25:46.523340Z",
          "iopub.status.busy": "2022-06-11T12:25:46.522471Z",
          "iopub.status.idle": "2022-06-11T12:25:46.534289Z",
          "shell.execute_reply": "2022-06-11T12:25:46.533680Z"
        },
        "papermill": {
          "duration": 0.137022,
          "end_time": "2022-06-11T12:25:46.536482",
          "exception": false,
          "start_time": "2022-06-11T12:25:46.399460",
          "status": "completed"
        },
        "tags": [],
        "id": "9c728d99",
        "outputId": "b71f0634-be31-4d46-ff24-0c71e858b5e3",
        "colab": {
          "base_uri": "https://localhost:8080/"
        }
      },
      "outputs": [
        {
          "output_type": "stream",
          "name": "stdout",
          "text": [
            "<class 'pandas.core.frame.DataFrame'>\n",
            "Int64Index: 1359 entries, 0 to 1598\n",
            "Data columns (total 22 columns):\n",
            " #   Column                  Non-Null Count  Dtype  \n",
            "---  ------                  --------------  -----  \n",
            " 0   fixed acidity           1359 non-null   float64\n",
            " 1   volatile acidity        1359 non-null   float64\n",
            " 2   citric acid             1359 non-null   float64\n",
            " 3   residual sugar          1359 non-null   float64\n",
            " 4   chlorides               1359 non-null   float64\n",
            " 5   free sulfur dioxide     1359 non-null   float64\n",
            " 6   total sulfur dioxide    1359 non-null   float64\n",
            " 7   sulphates               1359 non-null   float64\n",
            " 8   alcohol                 1359 non-null   float64\n",
            " 9   densityComperasion      1359 non-null   float64\n",
            " 10  pHComperasion           1359 non-null   float64\n",
            " 11  fixed acidity^2         1359 non-null   float64\n",
            " 12  volatile acidity^2      1359 non-null   float64\n",
            " 13  citric acid^2           1359 non-null   float64\n",
            " 14  residual sugar^2        1359 non-null   float64\n",
            " 15  chlorides^2             1359 non-null   float64\n",
            " 16  free sulfur dioxide^2   1359 non-null   float64\n",
            " 17  total sulfur dioxide^2  1359 non-null   float64\n",
            " 18  sulphates^2             1359 non-null   float64\n",
            " 19  alcohol^2               1359 non-null   float64\n",
            " 20  densityComperasion^2    1359 non-null   float64\n",
            " 21  pHComperasion^2         1359 non-null   float64\n",
            "dtypes: float64(22)\n",
            "memory usage: 276.5 KB\n"
          ]
        }
      ],
      "source": [
        "X3.info()"
      ]
    },
    {
      "cell_type": "code",
      "execution_count": 66,
      "id": "89f17671",
      "metadata": {
        "execution": {
          "iopub.execute_input": "2022-06-11T12:25:46.783829Z",
          "iopub.status.busy": "2022-06-11T12:25:46.783014Z",
          "iopub.status.idle": "2022-06-11T12:25:46.796302Z",
          "shell.execute_reply": "2022-06-11T12:25:46.795308Z"
        },
        "papermill": {
          "duration": 0.139172,
          "end_time": "2022-06-11T12:25:46.798533",
          "exception": false,
          "start_time": "2022-06-11T12:25:46.659361",
          "status": "completed"
        },
        "tags": [],
        "id": "89f17671",
        "outputId": "a3165dc5-7fe0-47ac-cffc-653b0d9b1ad1",
        "colab": {
          "base_uri": "https://localhost:8080/"
        }
      },
      "outputs": [
        {
          "output_type": "execute_result",
          "data": {
            "text/plain": [
              "(1359, 22)"
            ]
          },
          "metadata": {},
          "execution_count": 66
        }
      ],
      "source": [
        "#now lets choose meaningful features with feature selection methods\n",
        "feature_selector=SelectKBest(chi2,k=22)\n",
        "\n",
        "X4 = feature_selector.fit_transform(X3, y3)\n",
        "X4.shape\n"
      ]
    },
    {
      "cell_type": "code",
      "execution_count": 67,
      "id": "1d5efce6",
      "metadata": {
        "execution": {
          "iopub.execute_input": "2022-06-11T12:25:47.046959Z",
          "iopub.status.busy": "2022-06-11T12:25:47.046560Z",
          "iopub.status.idle": "2022-06-11T12:25:47.052801Z",
          "shell.execute_reply": "2022-06-11T12:25:47.051987Z"
        },
        "papermill": {
          "duration": 0.13362,
          "end_time": "2022-06-11T12:25:47.054606",
          "exception": false,
          "start_time": "2022-06-11T12:25:46.920986",
          "status": "completed"
        },
        "tags": [],
        "id": "1d5efce6",
        "outputId": "0d4677a0-4bbe-469d-9231-ae285471f0e4",
        "colab": {
          "base_uri": "https://localhost:8080/"
        }
      },
      "outputs": [
        {
          "output_type": "execute_result",
          "data": {
            "text/plain": [
              "array(['fixed acidity', 'volatile acidity', 'citric acid',\n",
              "       'residual sugar', 'chlorides', 'free sulfur dioxide',\n",
              "       'total sulfur dioxide', 'sulphates', 'alcohol',\n",
              "       'densityComperasion', 'pHComperasion', 'fixed acidity^2',\n",
              "       'volatile acidity^2', 'citric acid^2', 'residual sugar^2',\n",
              "       'chlorides^2', 'free sulfur dioxide^2', 'total sulfur dioxide^2',\n",
              "       'sulphates^2', 'alcohol^2', 'densityComperasion^2',\n",
              "       'pHComperasion^2'], dtype=object)"
            ]
          },
          "metadata": {},
          "execution_count": 67
        }
      ],
      "source": [
        "feature_selector.get_feature_names_out(input_features=None)"
      ]
    },
    {
      "cell_type": "code",
      "execution_count": 68,
      "id": "134385d2",
      "metadata": {
        "execution": {
          "iopub.execute_input": "2022-06-11T12:25:47.303543Z",
          "iopub.status.busy": "2022-06-11T12:25:47.303104Z",
          "iopub.status.idle": "2022-06-11T12:25:47.653724Z",
          "shell.execute_reply": "2022-06-11T12:25:47.652888Z"
        },
        "papermill": {
          "duration": 0.477479,
          "end_time": "2022-06-11T12:25:47.656134",
          "exception": false,
          "start_time": "2022-06-11T12:25:47.178655",
          "status": "completed"
        },
        "tags": [],
        "id": "134385d2",
        "outputId": "65524d99-e297-48a1-d5b8-9e8c5bbfda78",
        "colab": {
          "base_uri": "https://localhost:8080/",
          "height": 465
        }
      },
      "outputs": [
        {
          "output_type": "display_data",
          "data": {
            "text/plain": [
              "<Figure size 1440x432 with 1 Axes>"
            ],
            "image/png": "[encoded data removed]"
          },
          "metadata": {
            "needs_background": "light"
          }
        }
      ],
      "source": [
        "feature_cols=feature_selector.get_feature_names_out(input_features=None)\n",
        "plot_df=pd.DataFrame({'Features':feature_cols,'Importance':feature_selector.scores_}).sort_values('Importance',ascending=False)\n",
        "plt.figure(figsize=(20,6))\n",
        "sns.barplot(data=plot_df,x='Features',y='Importance');\n",
        "plt.xticks(rotation=80);"
      ]
    },
    {
      "cell_type": "code",
      "source": [
        "importance_of_featrues = (feature_selector.get_feature_names_out(input_features=None))[1:15]\n",
        "\n",
        "plot_df=pd.DataFrame({'Features':importance_of_featrues,'Importance':feature_selector.scores_[1:15]}).sort_values('Importance',ascending=False)\n",
        "plt.figure(figsize=(20,6))\n",
        "sns.barplot(data=plot_df,x='Features',y='Importance');\n",
        "plt.xticks(rotation=80);"
      ],
      "metadata": {
        "colab": {
          "base_uri": "https://localhost:8080/",
          "height": 456
        },
        "id": "tZLhteZELypt",
        "outputId": "a169b05f-88db-4683-d490-d3f8bdddef5d"
      },
      "id": "tZLhteZELypt",
      "execution_count": 69,
      "outputs": [
        {
          "output_type": "display_data",
          "data": {
            "text/plain": [
              "<Figure size 1440x432 with 1 Axes>"
            ],
            "image/png": "[encoded data removed]"
          },
          "metadata": {
            "needs_background": "light"
          }
        }
      ]
    },
    {
      "cell_type": "code",
      "execution_count": 70,
      "id": "efaf5f98",
      "metadata": {
        "execution": {
          "iopub.execute_input": "2022-06-11T12:25:47.909267Z",
          "iopub.status.busy": "2022-06-11T12:25:47.908817Z",
          "iopub.status.idle": "2022-06-11T12:25:47.931311Z",
          "shell.execute_reply": "2022-06-11T12:25:47.930469Z"
        },
        "papermill": {
          "duration": 0.152531,
          "end_time": "2022-06-11T12:25:47.933303",
          "exception": false,
          "start_time": "2022-06-11T12:25:47.780772",
          "status": "completed"
        },
        "tags": [],
        "id": "efaf5f98",
        "outputId": "54ef37c2-8746-4b9f-cc03-d1a56874d0e4",
        "colab": {
          "base_uri": "https://localhost:8080/",
          "height": 305
        }
      },
      "outputs": [
        {
          "output_type": "execute_result",
          "data": {
            "text/plain": [
              "   fixed acidity  volatile acidity  citric acid  residual sugar  chlorides  \\\n",
              "0            7.4              0.70         0.00             1.9      0.076   \n",
              "1            7.8              0.88         0.00             2.6      0.098   \n",
              "2            7.8              0.76         0.04             2.3      0.092   \n",
              "3           11.2              0.28         0.56             1.9      0.075   \n",
              "5            7.4              0.66         0.00             1.8      0.075   \n",
              "\n",
              "   free sulfur dioxide  total sulfur dioxide  density    pH  sulphates  \\\n",
              "0                 11.0                  34.0   0.9978  3.51       0.56   \n",
              "1                 25.0                  67.0   0.9968  3.20       0.68   \n",
              "2                 15.0                  54.0   0.9970  3.26       0.65   \n",
              "3                 17.0                  60.0   0.9980  3.16       0.58   \n",
              "5                 13.0                  40.0   0.9978  3.51       0.56   \n",
              "\n",
              "   alcohol  quality  densityComperasion  pHComperasion  \n",
              "0      9.4        5                 7.8            7.7  \n",
              "1      9.8        5                 6.8            4.6  \n",
              "2      9.8        5                 7.0            5.2  \n",
              "3      9.8        6                 8.0            4.2  \n",
              "5      9.4        5                 7.8            7.7  "
            ],
            "text/html": [
              "\n",
              "  <div id=\"df-98fa18f8-3440-4944-a424-f4e0e4d598d8\">\n",
              "    <div class=\"colab-df-container\">\n",
              "      <div>\n",
              "<style scoped>\n",
              "    .dataframe tbody tr th:only-of-type {\n",
              "        vertical-align: middle;\n",
              "    }\n",
              "\n",
              "    .dataframe tbody tr th {\n",
              "        vertical-align: top;\n",
              "    }\n",
              "\n",
              "    .dataframe thead th {\n",
              "        text-align: right;\n",
              "    }\n",
              "</style>\n",
              "<table border=\"1\" class=\"dataframe\">\n",
              "  <thead>\n",
              "    <tr style=\"text-align: right;\">\n",
              "      <th></th>\n",
              "      <th>fixed acidity</th>\n",
              "      <th>volatile acidity</th>\n",
              "      <th>citric acid</th>\n",
              "      <th>residual sugar</th>\n",
              "      <th>chlorides</th>\n",
              "      <th>free sulfur dioxide</th>\n",
              "      <th>total sulfur dioxide</th>\n",
              "      <th>density</th>\n",
              "      <th>pH</th>\n",
              "      <th>sulphates</th>\n",
              "      <th>alcohol</th>\n",
              "      <th>quality</th>\n",
              "      <th>densityComperasion</th>\n",
              "      <th>pHComperasion</th>\n",
              "    </tr>\n",
              "  </thead>\n",
              "  <tbody>\n",
              "    <tr>\n",
              "      <th>0</th>\n",
              "      <td>7.4</td>\n",
              "      <td>0.70</td>\n",
              "      <td>0.00</td>\n",
              "      <td>1.9</td>\n",
              "      <td>0.076</td>\n",
              "      <td>11.0</td>\n",
              "      <td>34.0</td>\n",
              "      <td>0.9978</td>\n",
              "      <td>3.51</td>\n",
              "      <td>0.56</td>\n",
              "      <td>9.4</td>\n",
              "      <td>5</td>\n",
              "      <td>7.8</td>\n",
              "      <td>7.7</td>\n",
              "    </tr>\n",
              "    <tr>\n",
              "      <th>1</th>\n",
              "      <td>7.8</td>\n",
              "      <td>0.88</td>\n",
              "      <td>0.00</td>\n",
              "      <td>2.6</td>\n",
              "      <td>0.098</td>\n",
              "      <td>25.0</td>\n",
              "      <td>67.0</td>\n",
              "      <td>0.9968</td>\n",
              "      <td>3.20</td>\n",
              "      <td>0.68</td>\n",
              "      <td>9.8</td>\n",
              "      <td>5</td>\n",
              "      <td>6.8</td>\n",
              "      <td>4.6</td>\n",
              "    </tr>\n",
              "    <tr>\n",
              "      <th>2</th>\n",
              "      <td>7.8</td>\n",
              "      <td>0.76</td>\n",
              "      <td>0.04</td>\n",
              "      <td>2.3</td>\n",
              "      <td>0.092</td>\n",
              "      <td>15.0</td>\n",
              "      <td>54.0</td>\n",
              "      <td>0.9970</td>\n",
              "      <td>3.26</td>\n",
              "      <td>0.65</td>\n",
              "      <td>9.8</td>\n",
              "      <td>5</td>\n",
              "      <td>7.0</td>\n",
              "      <td>5.2</td>\n",
              "    </tr>\n",
              "    <tr>\n",
              "      <th>3</th>\n",
              "      <td>11.2</td>\n",
              "      <td>0.28</td>\n",
              "      <td>0.56</td>\n",
              "      <td>1.9</td>\n",
              "      <td>0.075</td>\n",
              "      <td>17.0</td>\n",
              "      <td>60.0</td>\n",
              "      <td>0.9980</td>\n",
              "      <td>3.16</td>\n",
              "      <td>0.58</td>\n",
              "      <td>9.8</td>\n",
              "      <td>6</td>\n",
              "      <td>8.0</td>\n",
              "      <td>4.2</td>\n",
              "    </tr>\n",
              "    <tr>\n",
              "      <th>5</th>\n",
              "      <td>7.4</td>\n",
              "      <td>0.66</td>\n",
              "      <td>0.00</td>\n",
              "      <td>1.8</td>\n",
              "      <td>0.075</td>\n",
              "      <td>13.0</td>\n",
              "      <td>40.0</td>\n",
              "      <td>0.9978</td>\n",
              "      <td>3.51</td>\n",
              "      <td>0.56</td>\n",
              "      <td>9.4</td>\n",
              "      <td>5</td>\n",
              "      <td>7.8</td>\n",
              "      <td>7.7</td>\n",
              "    </tr>\n",
              "  </tbody>\n",
              "</table>\n",
              "</div>\n",
              "      <button class=\"colab-df-convert\" onclick=\"convertToInteractive('df-98fa18f8-3440-4944-a424-f4e0e4d598d8')\"\n",
              "              title=\"Convert this dataframe to an interactive table.\"\n",
              "              style=\"display:none;\">\n",
              "        \n",
              "  <svg xmlns=\"http://www.w3.org/2000/svg\" height=\"24px\"viewBox=\"0 0 24 24\"\n",
              "       width=\"24px\">\n",
              "    <path d=\"M0 0h24v24H0V0z\" fill=\"none\"/>\n",
              "    <path d=\"M18.56 5.44l.94 2.06.94-2.06 2.06-.94-2.06-.94-.94-2.06-.94 2.06-2.06.94zm-11 1L8.5 8.5l.94-2.06 2.06-.94-2.06-.94L8.5 2.5l-.94 2.06-2.06.94zm10 10l.94 2.06.94-2.06 2.06-.94-2.06-.94-.94-2.06-.94 2.06-2.06.94z\"/><path d=\"M17.41 7.96l-1.37-1.37c-.4-.4-.92-.59-1.43-.59-.52 0-1.04.2-1.43.59L10.3 9.45l-7.72 7.72c-.78.78-.78 2.05 0 2.83L4 21.41c.39.39.9.59 1.41.59.51 0 1.02-.2 1.41-.59l7.78-7.78 2.81-2.81c.8-.78.8-2.07 0-2.86zM5.41 20L4 18.59l7.72-7.72 1.47 1.35L5.41 20z\"/>\n",
              "  </svg>\n",
              "      </button>\n",
              "      \n",
              "  <style>\n",
              "    .colab-df-container {\n",
              "      display:flex;\n",
              "      flex-wrap:wrap;\n",
              "      gap: 12px;\n",
              "    }\n",
              "\n",
              "    .colab-df-convert {\n",
              "      background-color: #E8F0FE;\n",
              "      border: none;\n",
              "      border-radius: 50%;\n",
              "      cursor: pointer;\n",
              "      display: none;\n",
              "      fill: #1967D2;\n",
              "      height: 32px;\n",
              "      padding: 0 0 0 0;\n",
              "      width: 32px;\n",
              "    }\n",
              "\n",
              "    .colab-df-convert:hover {\n",
              "      background-color: #E2EBFA;\n",
              "      box-shadow: 0px 1px 2px rgba(60, 64, 67, 0.3), 0px 1px 3px 1px rgba(60, 64, 67, 0.15);\n",
              "      fill: #174EA6;\n",
              "    }\n",
              "\n",
              "    [theme=dark] .colab-df-convert {\n",
              "      background-color: #3B4455;\n",
              "      fill: #D2E3FC;\n",
              "    }\n",
              "\n",
              "    [theme=dark] .colab-df-convert:hover {\n",
              "      background-color: #434B5C;\n",
              "      box-shadow: 0px 1px 3px 1px rgba(0, 0, 0, 0.15);\n",
              "      filter: drop-shadow(0px 1px 2px rgba(0, 0, 0, 0.3));\n",
              "      fill: #FFFFFF;\n",
              "    }\n",
              "  </style>\n",
              "\n",
              "      <script>\n",
              "        const buttonEl =\n",
              "          document.querySelector('#df-98fa18f8-3440-4944-a424-f4e0e4d598d8 button.colab-df-convert');\n",
              "        buttonEl.style.display =\n",
              "          google.colab.kernel.accessAllowed ? 'block' : 'none';\n",
              "\n",
              "        async function convertToInteractive(key) {\n",
              "          const element = document.querySelector('#df-98fa18f8-3440-4944-a424-f4e0e4d598d8');\n",
              "          const dataTable =\n",
              "            await google.colab.kernel.invokeFunction('convertToInteractive',\n",
              "                                                     [key], {});\n",
              "          if (!dataTable) return;\n",
              "\n",
              "          const docLinkHtml = 'Like what you see? Visit the ' +\n",
              "            '<a target=\"_blank\" href=https://colab.research.google.com/notebooks/data_table.ipynb>data table notebook</a>'\n",
              "            + ' to learn more about interactive tables.';\n",
              "          element.innerHTML = '';\n",
              "          dataTable['output_type'] = 'display_data';\n",
              "          await google.colab.output.renderOutput(dataTable, element);\n",
              "          const docLink = document.createElement('div');\n",
              "          docLink.innerHTML = docLinkHtml;\n",
              "          element.appendChild(docLink);\n",
              "        }\n",
              "      </script>\n",
              "    </div>\n",
              "  </div>\n",
              "  "
            ]
          },
          "metadata": {},
          "execution_count": 70
        }
      ],
      "source": [
        "drink.head()"
      ]
    },
    {
      "cell_type": "code",
      "execution_count": 71,
      "id": "40b56673",
      "metadata": {
        "execution": {
          "iopub.execute_input": "2022-06-11T12:25:48.188529Z",
          "iopub.status.busy": "2022-06-11T12:25:48.187985Z",
          "iopub.status.idle": "2022-06-11T12:25:48.203288Z",
          "shell.execute_reply": "2022-06-11T12:25:48.202602Z"
        },
        "papermill": {
          "duration": 0.145441,
          "end_time": "2022-06-11T12:25:48.205503",
          "exception": false,
          "start_time": "2022-06-11T12:25:48.060062",
          "status": "completed"
        },
        "tags": [],
        "id": "40b56673"
      },
      "outputs": [],
      "source": [
        "drink4=drink3.copy()\n",
        "drink4[\"alcohol^3\"]=drink4[\"alcohol\"]**3\n",
        "drink4[\"total sulfur dioxide^3\"]=drink4[\"total sulfur dioxide\"]**3\n",
        "drink4[\"alcohol * total sulfur dioxide\"]=drink4[\"alcohol\"] * drink4[\"total sulfur dioxide\"]\n",
        "\n",
        "drink4[\"fixed acidity^3\"]=drink4[\"fixed acidity\"]**3\n",
        "drink4[\"volatile acidity^3\"]=drink4[\"volatile acidity\"]**3\n",
        "drink4[\"citric acid^3\"]=drink4[\"citric acid\"]**3\n",
        "drink4[\"residual sugar^3\"]=drink4[\"residual sugar\"]**3\n",
        "drink4[\"chlorides^3\"]=drink4[\"chlorides\"]**3\n",
        "drink4[\"free sulfur dioxide^3\"]=drink4[\"free sulfur dioxide\"]**3\n",
        "drink4[\"sulphates^3\"]=drink4[\"sulphates\"]**3\n",
        "drink4[\"densityComperasion^3\"]=drink4[\"densityComperasion\"]**3\n",
        "drink4[\"pHComperasion^3\"]=drink4[\"pHComperasion\"]**3\n"
      ]
    },
    {
      "cell_type": "code",
      "execution_count": 72,
      "id": "d4665aa0",
      "metadata": {
        "execution": {
          "iopub.execute_input": "2022-06-11T12:25:48.460281Z",
          "iopub.status.busy": "2022-06-11T12:25:48.459744Z",
          "iopub.status.idle": "2022-06-11T12:25:48.553224Z",
          "shell.execute_reply": "2022-06-11T12:25:48.552297Z"
        },
        "papermill": {
          "duration": 0.22466,
          "end_time": "2022-06-11T12:25:48.556485",
          "exception": false,
          "start_time": "2022-06-11T12:25:48.331825",
          "status": "completed"
        },
        "tags": [],
        "id": "d4665aa0",
        "outputId": "4f99b959-f819-468f-cc4d-eb7ea1c9d696",
        "colab": {
          "base_uri": "https://localhost:8080/"
        }
      },
      "outputs": [
        {
          "output_type": "stream",
          "name": "stdout",
          "text": [
            "Accuracy of logistic regression classifier with new featcures on test set: 0.76\n"
          ]
        }
      ],
      "source": [
        "#lets create a new model and check its score\n",
        "X4 = drink4.drop('quality', axis = 1)\n",
        "y4 = drink4['quality']\n",
        "X4_train, X4_test, y4_train, y4_test = train_test_split(X4, y4, test_size = 0.2, random_state = 9)\n",
        "X4_train = sc.fit_transform(X4_train)\n",
        "X4_test = sc.fit_transform(X4_test)\n",
        "\n",
        "logisticRegr4 = LogisticRegression()\n",
        "logisticRegr4.fit(X4_train, y4_train)\n",
        "\n",
        "pred_logres4 = logisticRegr4.predict(X4_test)\n",
        "\n",
        "#print(classification_report(y4_test, pred_logres4))\n",
        "y_pred = logisticRegr4.predict(X4_test)\n",
        "print('Accuracy of logistic regression classifier with new featcures on test set: {:.2f}'.format(logisticRegr4.score(X4_test, y4_test)))"
      ]
    },
    {
      "cell_type": "code",
      "execution_count": 73,
      "id": "1da594b1",
      "metadata": {
        "execution": {
          "iopub.execute_input": "2022-06-11T12:25:49.123406Z",
          "iopub.status.busy": "2022-06-11T12:25:49.122871Z",
          "iopub.status.idle": "2022-06-11T12:25:49.135907Z",
          "shell.execute_reply": "2022-06-11T12:25:49.135270Z"
        },
        "papermill": {
          "duration": 0.144628,
          "end_time": "2022-06-11T12:25:49.138163",
          "exception": false,
          "start_time": "2022-06-11T12:25:48.993535",
          "status": "completed"
        },
        "tags": [],
        "id": "1da594b1",
        "outputId": "81ab64e8-790c-4d58-dc1d-dcec5c03279d",
        "colab": {
          "base_uri": "https://localhost:8080/"
        }
      },
      "outputs": [
        {
          "output_type": "stream",
          "name": "stdout",
          "text": [
            "<class 'pandas.core.frame.DataFrame'>\n",
            "Int64Index: 1359 entries, 0 to 1598\n",
            "Data columns (total 35 columns):\n",
            " #   Column                          Non-Null Count  Dtype  \n",
            "---  ------                          --------------  -----  \n",
            " 0   fixed acidity                   1359 non-null   float64\n",
            " 1   volatile acidity                1359 non-null   float64\n",
            " 2   citric acid                     1359 non-null   float64\n",
            " 3   residual sugar                  1359 non-null   float64\n",
            " 4   chlorides                       1359 non-null   float64\n",
            " 5   free sulfur dioxide             1359 non-null   float64\n",
            " 6   total sulfur dioxide            1359 non-null   float64\n",
            " 7   sulphates                       1359 non-null   float64\n",
            " 8   alcohol                         1359 non-null   float64\n",
            " 9   quality                         1359 non-null   int64  \n",
            " 10  densityComperasion              1359 non-null   float64\n",
            " 11  pHComperasion                   1359 non-null   float64\n",
            " 12  fixed acidity^2                 1359 non-null   float64\n",
            " 13  volatile acidity^2              1359 non-null   float64\n",
            " 14  citric acid^2                   1359 non-null   float64\n",
            " 15  residual sugar^2                1359 non-null   float64\n",
            " 16  chlorides^2                     1359 non-null   float64\n",
            " 17  free sulfur dioxide^2           1359 non-null   float64\n",
            " 18  total sulfur dioxide^2          1359 non-null   float64\n",
            " 19  sulphates^2                     1359 non-null   float64\n",
            " 20  alcohol^2                       1359 non-null   float64\n",
            " 21  densityComperasion^2            1359 non-null   float64\n",
            " 22  pHComperasion^2                 1359 non-null   float64\n",
            " 23  alcohol^3                       1359 non-null   float64\n",
            " 24  total sulfur dioxide^3          1359 non-null   float64\n",
            " 25  alcohol * total sulfur dioxide  1359 non-null   float64\n",
            " 26  fixed acidity^3                 1359 non-null   float64\n",
            " 27  volatile acidity^3              1359 non-null   float64\n",
            " 28  citric acid^3                   1359 non-null   float64\n",
            " 29  residual sugar^3                1359 non-null   float64\n",
            " 30  chlorides^3                     1359 non-null   float64\n",
            " 31  free sulfur dioxide^3           1359 non-null   float64\n",
            " 32  sulphates^3                     1359 non-null   float64\n",
            " 33  densityComperasion^3            1359 non-null   float64\n",
            " 34  pHComperasion^3                 1359 non-null   float64\n",
            "dtypes: float64(34), int64(1)\n",
            "memory usage: 414.5 KB\n"
          ]
        }
      ],
      "source": [
        "drink4.info()"
      ]
    },
    {
      "cell_type": "code",
      "execution_count": 74,
      "id": "6de10d30",
      "metadata": {
        "execution": {
          "iopub.execute_input": "2022-06-11T12:25:49.661316Z",
          "iopub.status.busy": "2022-06-11T12:25:49.660983Z",
          "iopub.status.idle": "2022-06-11T12:25:49.684014Z",
          "shell.execute_reply": "2022-06-11T12:25:49.683298Z"
        },
        "papermill": {
          "duration": 0.155867,
          "end_time": "2022-06-11T12:25:49.686084",
          "exception": false,
          "start_time": "2022-06-11T12:25:49.530217",
          "status": "completed"
        },
        "tags": [],
        "id": "6de10d30",
        "outputId": "6b96d825-2f88-4b6e-cbfd-139f1e2a2412",
        "colab": {
          "base_uri": "https://localhost:8080/"
        }
      },
      "outputs": [
        {
          "output_type": "stream",
          "name": "stdout",
          "text": [
            "              precision    recall  f1-score   support\n",
            "\n",
            "           0       0.68      0.78      0.73       125\n",
            "           1       0.78      0.69      0.74       147\n",
            "\n",
            "    accuracy                           0.73       272\n",
            "   macro avg       0.73      0.73      0.73       272\n",
            "weighted avg       0.74      0.73      0.73       272\n",
            "\n"
          ]
        }
      ],
      "source": [
        "X5 = pd.DataFrame()\n",
        "X5[\"alcohol\"] = drink1[\"alcohol\"]\n",
        "y5=drink1[\"quality\"]\n",
        "X5_train, X5_test, y5_train, y5_test = train_test_split(X5, y5, test_size = 0.2, random_state = 9)\n",
        "X5_train = sc.fit_transform(X5_train)\n",
        "X5_test = sc.fit_transform(X5_test)\n",
        "\n",
        "logisticRegr5 = LogisticRegression()\n",
        "logisticRegr5.fit(X5_train, y5_train)\n",
        "\n",
        "pred_logres5 = logisticRegr5.predict(X5_test)\n",
        "\n",
        "print(classification_report(y5_test, pred_logres5))"
      ]
    },
    {
      "cell_type": "code",
      "execution_count": 75,
      "id": "f8e9d7d4",
      "metadata": {
        "execution": {
          "iopub.execute_input": "2022-06-11T12:25:49.942528Z",
          "iopub.status.busy": "2022-06-11T12:25:49.941954Z",
          "iopub.status.idle": "2022-06-11T12:25:49.946838Z",
          "shell.execute_reply": "2022-06-11T12:25:49.946297Z"
        },
        "papermill": {
          "duration": 0.135675,
          "end_time": "2022-06-11T12:25:49.948519",
          "exception": false,
          "start_time": "2022-06-11T12:25:49.812844",
          "status": "completed"
        },
        "tags": [],
        "id": "f8e9d7d4",
        "outputId": "539c8da6-1229-4a39-b47d-647d6ce58501",
        "colab": {
          "base_uri": "https://localhost:8080/"
        }
      },
      "outputs": [
        {
          "output_type": "execute_result",
          "data": {
            "text/plain": [
              "array([[1.11860302]])"
            ]
          },
          "metadata": {},
          "execution_count": 75
        }
      ],
      "source": [
        "logisticRegr5.coef_"
      ]
    },
    {
      "cell_type": "code",
      "execution_count": 76,
      "id": "b8faaf57",
      "metadata": {
        "execution": {
          "iopub.execute_input": "2022-06-11T12:25:50.206339Z",
          "iopub.status.busy": "2022-06-11T12:25:50.205779Z",
          "iopub.status.idle": "2022-06-11T12:25:50.232292Z",
          "shell.execute_reply": "2022-06-11T12:25:50.231621Z"
        },
        "papermill": {
          "duration": 0.158834,
          "end_time": "2022-06-11T12:25:50.234441",
          "exception": false,
          "start_time": "2022-06-11T12:25:50.075607",
          "status": "completed"
        },
        "tags": [],
        "id": "b8faaf57",
        "outputId": "9f92ff67-f2ab-4a6c-df25-24eefeb2d62c",
        "colab": {
          "base_uri": "https://localhost:8080/"
        }
      },
      "outputs": [
        {
          "output_type": "stream",
          "name": "stdout",
          "text": [
            "              precision    recall  f1-score   support\n",
            "\n",
            "           0       0.68      0.78      0.73       125\n",
            "           1       0.78      0.69      0.74       147\n",
            "\n",
            "    accuracy                           0.73       272\n",
            "   macro avg       0.73      0.73      0.73       272\n",
            "weighted avg       0.74      0.73      0.73       272\n",
            "\n"
          ]
        }
      ],
      "source": [
        "X6 = pd.DataFrame()\n",
        "X6[\"alcohol\"] = drink1[\"alcohol\"]\n",
        "X6[\"alcohol^2\"] = drink1[\"alcohol\"]**2\n",
        "y6=drink1[\"quality\"]\n",
        "X6_train, X6_test, y6_train, y6_test = train_test_split(X6, y6, test_size = 0.2, random_state = 9)\n",
        "X6_train = sc.fit_transform(X6_train)\n",
        "X6_test = sc.fit_transform(X6_test)\n",
        "\n",
        "logisticRegr6 = LogisticRegression()\n",
        "logisticRegr6.fit(X6_train, y6_train)\n",
        "\n",
        "pred_logres6 = logisticRegr6.predict(X6_test)\n",
        "\n",
        "print(classification_report(y6_test, pred_logres6))"
      ]
    },
    {
      "cell_type": "code",
      "execution_count": 77,
      "id": "8f6741d9",
      "metadata": {
        "execution": {
          "iopub.execute_input": "2022-06-11T12:25:50.500166Z",
          "iopub.status.busy": "2022-06-11T12:25:50.499264Z",
          "iopub.status.idle": "2022-06-11T12:25:50.505094Z",
          "shell.execute_reply": "2022-06-11T12:25:50.504546Z"
        },
        "papermill": {
          "duration": 0.142616,
          "end_time": "2022-06-11T12:25:50.506969",
          "exception": false,
          "start_time": "2022-06-11T12:25:50.364353",
          "status": "completed"
        },
        "tags": [],
        "id": "8f6741d9",
        "outputId": "57dd4e2e-5b18-48bb-ac55-ea26a0d329b4",
        "colab": {
          "base_uri": "https://localhost:8080/"
        }
      },
      "outputs": [
        {
          "output_type": "execute_result",
          "data": {
            "text/plain": [
              "array([[1.09886447, 0.02050402]])"
            ]
          },
          "metadata": {},
          "execution_count": 77
        }
      ],
      "source": [
        "logisticRegr6.coef_"
      ]
    },
    {
      "cell_type": "code",
      "execution_count": 78,
      "id": "659cbe59",
      "metadata": {
        "execution": {
          "iopub.execute_input": "2022-06-11T12:25:50.771683Z",
          "iopub.status.busy": "2022-06-11T12:25:50.771165Z",
          "iopub.status.idle": "2022-06-11T12:25:50.780267Z",
          "shell.execute_reply": "2022-06-11T12:25:50.779311Z"
        },
        "papermill": {
          "duration": 0.145466,
          "end_time": "2022-06-11T12:25:50.782508",
          "exception": false,
          "start_time": "2022-06-11T12:25:50.637042",
          "status": "completed"
        },
        "tags": [],
        "id": "659cbe59",
        "outputId": "79bec453-c101-4853-ea07-331437bf442e",
        "colab": {
          "base_uri": "https://localhost:8080/"
        }
      },
      "outputs": [
        {
          "output_type": "execute_result",
          "data": {
            "text/plain": [
              "array(['1', 'alcohol', 'alcohol^2'], dtype=object)"
            ]
          },
          "metadata": {},
          "execution_count": 78
        }
      ],
      "source": [
        "poly = PolynomialFeatures(2)\n",
        "poly.fit_transform(X5)\n",
        "poly.get_feature_names_out(X5.columns)"
      ]
    },
    {
      "cell_type": "code",
      "execution_count": 79,
      "id": "3f347d3c",
      "metadata": {
        "execution": {
          "iopub.execute_input": "2022-06-11T12:25:51.046061Z",
          "iopub.status.busy": "2022-06-11T12:25:51.045594Z",
          "iopub.status.idle": "2022-06-11T12:25:51.078987Z",
          "shell.execute_reply": "2022-06-11T12:25:51.078403Z"
        },
        "papermill": {
          "duration": 0.167515,
          "end_time": "2022-06-11T12:25:51.080769",
          "exception": false,
          "start_time": "2022-06-11T12:25:50.913254",
          "status": "completed"
        },
        "tags": [],
        "id": "3f347d3c",
        "outputId": "1514a248-b8a0-47f9-d5bf-cfeb6e01aa9f",
        "colab": {
          "base_uri": "https://localhost:8080/",
          "height": 334
        }
      },
      "outputs": [
        {
          "output_type": "execute_result",
          "data": {
            "text/plain": [
              "     1  fixed acidity  volatile acidity  citric acid  residual sugar  \\\n",
              "0  1.0            7.4              0.70         0.00             1.9   \n",
              "1  1.0            7.8              0.88         0.00             2.6   \n",
              "2  1.0            7.8              0.76         0.04             2.3   \n",
              "3  1.0           11.2              0.28         0.56             1.9   \n",
              "4  1.0            7.4              0.66         0.00             1.8   \n",
              "\n",
              "   chlorides  free sulfur dioxide  total sulfur dioxide  sulphates  alcohol  \\\n",
              "0      0.076                 11.0                  34.0       0.56      9.4   \n",
              "1      0.098                 25.0                  67.0       0.68      9.8   \n",
              "2      0.092                 15.0                  54.0       0.65      9.8   \n",
              "3      0.075                 17.0                  60.0       0.58      9.8   \n",
              "4      0.075                 13.0                  40.0       0.56      9.4   \n",
              "\n",
              "   ...  sulphates^2  sulphates alcohol  sulphates densityComperasion  \\\n",
              "0  ...       0.3136              5.264                         4.368   \n",
              "1  ...       0.4624              6.664                         4.624   \n",
              "2  ...       0.4225              6.370                         4.550   \n",
              "3  ...       0.3364              5.684                         4.640   \n",
              "4  ...       0.3136              5.264                         4.368   \n",
              "\n",
              "   sulphates pHComperasion  alcohol^2  alcohol densityComperasion  \\\n",
              "0                    4.312      88.36                       73.32   \n",
              "1                    3.128      96.04                       66.64   \n",
              "2                    3.380      96.04                       68.60   \n",
              "3                    2.436      96.04                       78.40   \n",
              "4                    4.312      88.36                       73.32   \n",
              "\n",
              "   alcohol pHComperasion  densityComperasion^2  \\\n",
              "0                  72.38                 60.84   \n",
              "1                  45.08                 46.24   \n",
              "2                  50.96                 49.00   \n",
              "3                  41.16                 64.00   \n",
              "4                  72.38                 60.84   \n",
              "\n",
              "   densityComperasion pHComperasion  pHComperasion^2  \n",
              "0                             60.06            59.29  \n",
              "1                             31.28            21.16  \n",
              "2                             36.40            27.04  \n",
              "3                             33.60            17.64  \n",
              "4                             60.06            59.29  \n",
              "\n",
              "[5 rows x 78 columns]"
            ],
            "text/html": [
              "\n",
              "  <div id=\"df-d05ee10f-76ef-4983-9256-7d40345deb62\">\n",
              "    <div class=\"colab-df-container\">\n",
              "      <div>\n",
              "<style scoped>\n",
              "    .dataframe tbody tr th:only-of-type {\n",
              "        vertical-align: middle;\n",
              "    }\n",
              "\n",
              "    .dataframe tbody tr th {\n",
              "        vertical-align: top;\n",
              "    }\n",
              "\n",
              "    .dataframe thead th {\n",
              "        text-align: right;\n",
              "    }\n",
              "</style>\n",
              "<table border=\"1\" class=\"dataframe\">\n",
              "  <thead>\n",
              "    <tr style=\"text-align: right;\">\n",
              "      <th></th>\n",
              "      <th>1</th>\n",
              "      <th>fixed acidity</th>\n",
              "      <th>volatile acidity</th>\n",
              "      <th>citric acid</th>\n",
              "      <th>residual sugar</th>\n",
              "      <th>chlorides</th>\n",
              "      <th>free sulfur dioxide</th>\n",
              "      <th>total sulfur dioxide</th>\n",
              "      <th>sulphates</th>\n",
              "      <th>alcohol</th>\n",
              "      <th>...</th>\n",
              "      <th>sulphates^2</th>\n",
              "      <th>sulphates alcohol</th>\n",
              "      <th>sulphates densityComperasion</th>\n",
              "      <th>sulphates pHComperasion</th>\n",
              "      <th>alcohol^2</th>\n",
              "      <th>alcohol densityComperasion</th>\n",
              "      <th>alcohol pHComperasion</th>\n",
              "      <th>densityComperasion^2</th>\n",
              "      <th>densityComperasion pHComperasion</th>\n",
              "      <th>pHComperasion^2</th>\n",
              "    </tr>\n",
              "  </thead>\n",
              "  <tbody>\n",
              "    <tr>\n",
              "      <th>0</th>\n",
              "      <td>1.0</td>\n",
              "      <td>7.4</td>\n",
              "      <td>0.70</td>\n",
              "      <td>0.00</td>\n",
              "      <td>1.9</td>\n",
              "      <td>0.076</td>\n",
              "      <td>11.0</td>\n",
              "      <td>34.0</td>\n",
              "      <td>0.56</td>\n",
              "      <td>9.4</td>\n",
              "      <td>...</td>\n",
              "      <td>0.3136</td>\n",
              "      <td>5.264</td>\n",
              "      <td>4.368</td>\n",
              "      <td>4.312</td>\n",
              "      <td>88.36</td>\n",
              "      <td>73.32</td>\n",
              "      <td>72.38</td>\n",
              "      <td>60.84</td>\n",
              "      <td>60.06</td>\n",
              "      <td>59.29</td>\n",
              "    </tr>\n",
              "    <tr>\n",
              "      <th>1</th>\n",
              "      <td>1.0</td>\n",
              "      <td>7.8</td>\n",
              "      <td>0.88</td>\n",
              "      <td>0.00</td>\n",
              "      <td>2.6</td>\n",
              "      <td>0.098</td>\n",
              "      <td>25.0</td>\n",
              "      <td>67.0</td>\n",
              "      <td>0.68</td>\n",
              "      <td>9.8</td>\n",
              "      <td>...</td>\n",
              "      <td>0.4624</td>\n",
              "      <td>6.664</td>\n",
              "      <td>4.624</td>\n",
              "      <td>3.128</td>\n",
              "      <td>96.04</td>\n",
              "      <td>66.64</td>\n",
              "      <td>45.08</td>\n",
              "      <td>46.24</td>\n",
              "      <td>31.28</td>\n",
              "      <td>21.16</td>\n",
              "    </tr>\n",
              "    <tr>\n",
              "      <th>2</th>\n",
              "      <td>1.0</td>\n",
              "      <td>7.8</td>\n",
              "      <td>0.76</td>\n",
              "      <td>0.04</td>\n",
              "      <td>2.3</td>\n",
              "      <td>0.092</td>\n",
              "      <td>15.0</td>\n",
              "      <td>54.0</td>\n",
              "      <td>0.65</td>\n",
              "      <td>9.8</td>\n",
              "      <td>...</td>\n",
              "      <td>0.4225</td>\n",
              "      <td>6.370</td>\n",
              "      <td>4.550</td>\n",
              "      <td>3.380</td>\n",
              "      <td>96.04</td>\n",
              "      <td>68.60</td>\n",
              "      <td>50.96</td>\n",
              "      <td>49.00</td>\n",
              "      <td>36.40</td>\n",
              "      <td>27.04</td>\n",
              "    </tr>\n",
              "    <tr>\n",
              "      <th>3</th>\n",
              "      <td>1.0</td>\n",
              "      <td>11.2</td>\n",
              "      <td>0.28</td>\n",
              "      <td>0.56</td>\n",
              "      <td>1.9</td>\n",
              "      <td>0.075</td>\n",
              "      <td>17.0</td>\n",
              "      <td>60.0</td>\n",
              "      <td>0.58</td>\n",
              "      <td>9.8</td>\n",
              "      <td>...</td>\n",
              "      <td>0.3364</td>\n",
              "      <td>5.684</td>\n",
              "      <td>4.640</td>\n",
              "      <td>2.436</td>\n",
              "      <td>96.04</td>\n",
              "      <td>78.40</td>\n",
              "      <td>41.16</td>\n",
              "      <td>64.00</td>\n",
              "      <td>33.60</td>\n",
              "      <td>17.64</td>\n",
              "    </tr>\n",
              "    <tr>\n",
              "      <th>4</th>\n",
              "      <td>1.0</td>\n",
              "      <td>7.4</td>\n",
              "      <td>0.66</td>\n",
              "      <td>0.00</td>\n",
              "      <td>1.8</td>\n",
              "      <td>0.075</td>\n",
              "      <td>13.0</td>\n",
              "      <td>40.0</td>\n",
              "      <td>0.56</td>\n",
              "      <td>9.4</td>\n",
              "      <td>...</td>\n",
              "      <td>0.3136</td>\n",
              "      <td>5.264</td>\n",
              "      <td>4.368</td>\n",
              "      <td>4.312</td>\n",
              "      <td>88.36</td>\n",
              "      <td>73.32</td>\n",
              "      <td>72.38</td>\n",
              "      <td>60.84</td>\n",
              "      <td>60.06</td>\n",
              "      <td>59.29</td>\n",
              "    </tr>\n",
              "  </tbody>\n",
              "</table>\n",
              "<p>5 rows × 78 columns</p>\n",
              "</div>\n",
              "      <button class=\"colab-df-convert\" onclick=\"convertToInteractive('df-d05ee10f-76ef-4983-9256-7d40345deb62')\"\n",
              "              title=\"Convert this dataframe to an interactive table.\"\n",
              "              style=\"display:none;\">\n",
              "        \n",
              "  <svg xmlns=\"http://www.w3.org/2000/svg\" height=\"24px\"viewBox=\"0 0 24 24\"\n",
              "       width=\"24px\">\n",
              "    <path d=\"M0 0h24v24H0V0z\" fill=\"none\"/>\n",
              "    <path d=\"M18.56 5.44l.94 2.06.94-2.06 2.06-.94-2.06-.94-.94-2.06-.94 2.06-2.06.94zm-11 1L8.5 8.5l.94-2.06 2.06-.94-2.06-.94L8.5 2.5l-.94 2.06-2.06.94zm10 10l.94 2.06.94-2.06 2.06-.94-2.06-.94-.94-2.06-.94 2.06-2.06.94z\"/><path d=\"M17.41 7.96l-1.37-1.37c-.4-.4-.92-.59-1.43-.59-.52 0-1.04.2-1.43.59L10.3 9.45l-7.72 7.72c-.78.78-.78 2.05 0 2.83L4 21.41c.39.39.9.59 1.41.59.51 0 1.02-.2 1.41-.59l7.78-7.78 2.81-2.81c.8-.78.8-2.07 0-2.86zM5.41 20L4 18.59l7.72-7.72 1.47 1.35L5.41 20z\"/>\n",
              "  </svg>\n",
              "      </button>\n",
              "      \n",
              "  <style>\n",
              "    .colab-df-container {\n",
              "      display:flex;\n",
              "      flex-wrap:wrap;\n",
              "      gap: 12px;\n",
              "    }\n",
              "\n",
              "    .colab-df-convert {\n",
              "      background-color: #E8F0FE;\n",
              "      border: none;\n",
              "      border-radius: 50%;\n",
              "      cursor: pointer;\n",
              "      display: none;\n",
              "      fill: #1967D2;\n",
              "      height: 32px;\n",
              "      padding: 0 0 0 0;\n",
              "      width: 32px;\n",
              "    }\n",
              "\n",
              "    .colab-df-convert:hover {\n",
              "      background-color: #E2EBFA;\n",
              "      box-shadow: 0px 1px 2px rgba(60, 64, 67, 0.3), 0px 1px 3px 1px rgba(60, 64, 67, 0.15);\n",
              "      fill: #174EA6;\n",
              "    }\n",
              "\n",
              "    [theme=dark] .colab-df-convert {\n",
              "      background-color: #3B4455;\n",
              "      fill: #D2E3FC;\n",
              "    }\n",
              "\n",
              "    [theme=dark] .colab-df-convert:hover {\n",
              "      background-color: #434B5C;\n",
              "      box-shadow: 0px 1px 3px 1px rgba(0, 0, 0, 0.15);\n",
              "      filter: drop-shadow(0px 1px 2px rgba(0, 0, 0, 0.3));\n",
              "      fill: #FFFFFF;\n",
              "    }\n",
              "  </style>\n",
              "\n",
              "      <script>\n",
              "        const buttonEl =\n",
              "          document.querySelector('#df-d05ee10f-76ef-4983-9256-7d40345deb62 button.colab-df-convert');\n",
              "        buttonEl.style.display =\n",
              "          google.colab.kernel.accessAllowed ? 'block' : 'none';\n",
              "\n",
              "        async function convertToInteractive(key) {\n",
              "          const element = document.querySelector('#df-d05ee10f-76ef-4983-9256-7d40345deb62');\n",
              "          const dataTable =\n",
              "            await google.colab.kernel.invokeFunction('convertToInteractive',\n",
              "                                                     [key], {});\n",
              "          if (!dataTable) return;\n",
              "\n",
              "          const docLinkHtml = 'Like what you see? Visit the ' +\n",
              "            '<a target=\"_blank\" href=https://colab.research.google.com/notebooks/data_table.ipynb>data table notebook</a>'\n",
              "            + ' to learn more about interactive tables.';\n",
              "          element.innerHTML = '';\n",
              "          dataTable['output_type'] = 'display_data';\n",
              "          await google.colab.output.renderOutput(dataTable, element);\n",
              "          const docLink = document.createElement('div');\n",
              "          docLink.innerHTML = docLinkHtml;\n",
              "          element.appendChild(docLink);\n",
              "        }\n",
              "      </script>\n",
              "    </div>\n",
              "  </div>\n",
              "  "
            ]
          },
          "metadata": {},
          "execution_count": 79
        }
      ],
      "source": [
        "poly = PolynomialFeatures(2)\n",
        "X6 = pd.DataFrame(poly.fit_transform(X), columns = poly.get_feature_names_out(X.columns))\n",
        "X6.head()"
      ]
    },
    {
      "cell_type": "code",
      "execution_count": 80,
      "id": "7611b07f",
      "metadata": {
        "execution": {
          "iopub.execute_input": "2022-06-11T12:25:52.028963Z",
          "iopub.status.busy": "2022-06-11T12:25:52.028406Z",
          "iopub.status.idle": "2022-06-11T12:25:52.044377Z",
          "shell.execute_reply": "2022-06-11T12:25:52.043718Z"
        },
        "papermill": {
          "duration": 0.153574,
          "end_time": "2022-06-11T12:25:52.046600",
          "exception": false,
          "start_time": "2022-06-11T12:25:51.893026",
          "status": "completed"
        },
        "tags": [],
        "id": "7611b07f",
        "outputId": "47dcb320-d400-4240-d818-4dd12dcafccd",
        "colab": {
          "base_uri": "https://localhost:8080/"
        }
      },
      "outputs": [
        {
          "output_type": "stream",
          "name": "stdout",
          "text": [
            "<class 'pandas.core.frame.DataFrame'>\n",
            "RangeIndex: 1359 entries, 0 to 1358\n",
            "Data columns (total 78 columns):\n",
            " #   Column                                    Non-Null Count  Dtype  \n",
            "---  ------                                    --------------  -----  \n",
            " 0   1                                         1359 non-null   float64\n",
            " 1   fixed acidity                             1359 non-null   float64\n",
            " 2   volatile acidity                          1359 non-null   float64\n",
            " 3   citric acid                               1359 non-null   float64\n",
            " 4   residual sugar                            1359 non-null   float64\n",
            " 5   chlorides                                 1359 non-null   float64\n",
            " 6   free sulfur dioxide                       1359 non-null   float64\n",
            " 7   total sulfur dioxide                      1359 non-null   float64\n",
            " 8   sulphates                                 1359 non-null   float64\n",
            " 9   alcohol                                   1359 non-null   float64\n",
            " 10  densityComperasion                        1359 non-null   float64\n",
            " 11  pHComperasion                             1359 non-null   float64\n",
            " 12  fixed acidity^2                           1359 non-null   float64\n",
            " 13  fixed acidity volatile acidity            1359 non-null   float64\n",
            " 14  fixed acidity citric acid                 1359 non-null   float64\n",
            " 15  fixed acidity residual sugar              1359 non-null   float64\n",
            " 16  fixed acidity chlorides                   1359 non-null   float64\n",
            " 17  fixed acidity free sulfur dioxide         1359 non-null   float64\n",
            " 18  fixed acidity total sulfur dioxide        1359 non-null   float64\n",
            " 19  fixed acidity sulphates                   1359 non-null   float64\n",
            " 20  fixed acidity alcohol                     1359 non-null   float64\n",
            " 21  fixed acidity densityComperasion          1359 non-null   float64\n",
            " 22  fixed acidity pHComperasion               1359 non-null   float64\n",
            " 23  volatile acidity^2                        1359 non-null   float64\n",
            " 24  volatile acidity citric acid              1359 non-null   float64\n",
            " 25  volatile acidity residual sugar           1359 non-null   float64\n",
            " 26  volatile acidity chlorides                1359 non-null   float64\n",
            " 27  volatile acidity free sulfur dioxide      1359 non-null   float64\n",
            " 28  volatile acidity total sulfur dioxide     1359 non-null   float64\n",
            " 29  volatile acidity sulphates                1359 non-null   float64\n",
            " 30  volatile acidity alcohol                  1359 non-null   float64\n",
            " 31  volatile acidity densityComperasion       1359 non-null   float64\n",
            " 32  volatile acidity pHComperasion            1359 non-null   float64\n",
            " 33  citric acid^2                             1359 non-null   float64\n",
            " 34  citric acid residual sugar                1359 non-null   float64\n",
            " 35  citric acid chlorides                     1359 non-null   float64\n",
            " 36  citric acid free sulfur dioxide           1359 non-null   float64\n",
            " 37  citric acid total sulfur dioxide          1359 non-null   float64\n",
            " 38  citric acid sulphates                     1359 non-null   float64\n",
            " 39  citric acid alcohol                       1359 non-null   float64\n",
            " 40  citric acid densityComperasion            1359 non-null   float64\n",
            " 41  citric acid pHComperasion                 1359 non-null   float64\n",
            " 42  residual sugar^2                          1359 non-null   float64\n",
            " 43  residual sugar chlorides                  1359 non-null   float64\n",
            " 44  residual sugar free sulfur dioxide        1359 non-null   float64\n",
            " 45  residual sugar total sulfur dioxide       1359 non-null   float64\n",
            " 46  residual sugar sulphates                  1359 non-null   float64\n",
            " 47  residual sugar alcohol                    1359 non-null   float64\n",
            " 48  residual sugar densityComperasion         1359 non-null   float64\n",
            " 49  residual sugar pHComperasion              1359 non-null   float64\n",
            " 50  chlorides^2                               1359 non-null   float64\n",
            " 51  chlorides free sulfur dioxide             1359 non-null   float64\n",
            " 52  chlorides total sulfur dioxide            1359 non-null   float64\n",
            " 53  chlorides sulphates                       1359 non-null   float64\n",
            " 54  chlorides alcohol                         1359 non-null   float64\n",
            " 55  chlorides densityComperasion              1359 non-null   float64\n",
            " 56  chlorides pHComperasion                   1359 non-null   float64\n",
            " 57  free sulfur dioxide^2                     1359 non-null   float64\n",
            " 58  free sulfur dioxide total sulfur dioxide  1359 non-null   float64\n",
            " 59  free sulfur dioxide sulphates             1359 non-null   float64\n",
            " 60  free sulfur dioxide alcohol               1359 non-null   float64\n",
            " 61  free sulfur dioxide densityComperasion    1359 non-null   float64\n",
            " 62  free sulfur dioxide pHComperasion         1359 non-null   float64\n",
            " 63  total sulfur dioxide^2                    1359 non-null   float64\n",
            " 64  total sulfur dioxide sulphates            1359 non-null   float64\n",
            " 65  total sulfur dioxide alcohol              1359 non-null   float64\n",
            " 66  total sulfur dioxide densityComperasion   1359 non-null   float64\n",
            " 67  total sulfur dioxide pHComperasion        1359 non-null   float64\n",
            " 68  sulphates^2                               1359 non-null   float64\n",
            " 69  sulphates alcohol                         1359 non-null   float64\n",
            " 70  sulphates densityComperasion              1359 non-null   float64\n",
            " 71  sulphates pHComperasion                   1359 non-null   float64\n",
            " 72  alcohol^2                                 1359 non-null   float64\n",
            " 73  alcohol densityComperasion                1359 non-null   float64\n",
            " 74  alcohol pHComperasion                     1359 non-null   float64\n",
            " 75  densityComperasion^2                      1359 non-null   float64\n",
            " 76  densityComperasion pHComperasion          1359 non-null   float64\n",
            " 77  pHComperasion^2                           1359 non-null   float64\n",
            "dtypes: float64(78)\n",
            "memory usage: 828.3 KB\n"
          ]
        }
      ],
      "source": [
        "X6.info()"
      ]
    },
    {
      "cell_type": "code",
      "execution_count": null,
      "id": "b2c56dc6",
      "metadata": {
        "_kg_hide-output": true,
        "execution": {
          "iopub.execute_input": "2022-06-11T12:25:52.869512Z",
          "iopub.status.busy": "2022-06-11T12:25:52.869201Z",
          "iopub.status.idle": "2022-06-11T12:26:14.342858Z",
          "shell.execute_reply": "2022-06-11T12:26:14.342136Z"
        },
        "papermill": {
          "duration": 21.609684,
          "end_time": "2022-06-11T12:26:14.345220",
          "exception": false,
          "start_time": "2022-06-11T12:25:52.735536",
          "status": "completed"
        },
        "tags": [],
        "id": "b2c56dc6"
      },
      "outputs": [],
      "source": [
        "sfs_forward = SequentialFeatureSelector(\n",
        "    logisticRegr6, n_features_to_select=5, direction=\"forward\"\n",
        ").fit(X6, y6)"
      ]
    },
    {
      "cell_type": "code",
      "execution_count": 83,
      "id": "e724fa39",
      "metadata": {
        "execution": {
          "iopub.execute_input": "2022-06-11T12:26:14.615552Z",
          "iopub.status.busy": "2022-06-11T12:26:14.614816Z",
          "iopub.status.idle": "2022-06-11T12:26:14.620098Z",
          "shell.execute_reply": "2022-06-11T12:26:14.619513Z"
        },
        "papermill": {
          "duration": 0.142456,
          "end_time": "2022-06-11T12:26:14.621844",
          "exception": false,
          "start_time": "2022-06-11T12:26:14.479388",
          "status": "completed"
        },
        "tags": [],
        "id": "e724fa39",
        "outputId": "55b502bd-29f0-4dc3-b097-297855267f0e",
        "colab": {
          "base_uri": "https://localhost:8080/"
        }
      },
      "outputs": [
        {
          "output_type": "execute_result",
          "data": {
            "text/plain": [
              "array(['volatile acidity sulphates',\n",
              "       'volatile acidity densityComperasion', 'chlorides alcohol',\n",
              "       'sulphates^2', 'sulphates alcohol'], dtype=object)"
            ]
          },
          "metadata": {},
          "execution_count": 83
        }
      ],
      "source": [
        "sfs_forward.get_feature_names_out()"
      ]
    },
    {
      "cell_type": "code",
      "execution_count": 84,
      "id": "ab3b07e1",
      "metadata": {
        "execution": {
          "iopub.execute_input": "2022-06-11T12:26:14.893662Z",
          "iopub.status.busy": "2022-06-11T12:26:14.893121Z",
          "iopub.status.idle": "2022-06-11T12:26:14.902470Z",
          "shell.execute_reply": "2022-06-11T12:26:14.901744Z"
        },
        "papermill": {
          "duration": 0.146667,
          "end_time": "2022-06-11T12:26:14.904550",
          "exception": false,
          "start_time": "2022-06-11T12:26:14.757883",
          "status": "completed"
        },
        "tags": [],
        "id": "ab3b07e1"
      },
      "outputs": [],
      "source": [
        "X7 = pd.DataFrame()\n",
        "X8 = sfs_forward.transform(X6)\n",
        "X7 = pd.DataFrame(sfs_forward.transform(X6), columns = sfs_forward.get_feature_names_out())\n",
        "#X8=X8.drop('1',axis='1')"
      ]
    },
    {
      "cell_type": "code",
      "execution_count": 85,
      "id": "20ef0146",
      "metadata": {
        "execution": {
          "iopub.execute_input": "2022-06-11T12:26:15.180181Z",
          "iopub.status.busy": "2022-06-11T12:26:15.179676Z",
          "iopub.status.idle": "2022-06-11T12:26:15.203318Z",
          "shell.execute_reply": "2022-06-11T12:26:15.202698Z"
        },
        "papermill": {
          "duration": 0.163406,
          "end_time": "2022-06-11T12:26:15.205186",
          "exception": false,
          "start_time": "2022-06-11T12:26:15.041780",
          "status": "completed"
        },
        "tags": [],
        "id": "20ef0146",
        "outputId": "49a65c13-72c4-4801-e930-9f4e1cce8814",
        "colab": {
          "base_uri": "https://localhost:8080/"
        }
      },
      "outputs": [
        {
          "output_type": "stream",
          "name": "stdout",
          "text": [
            "              precision    recall  f1-score   support\n",
            "\n",
            "           0       0.69      0.82      0.75       125\n",
            "           1       0.81      0.69      0.75       147\n",
            "\n",
            "    accuracy                           0.75       272\n",
            "   macro avg       0.75      0.75      0.75       272\n",
            "weighted avg       0.76      0.75      0.75       272\n",
            "\n"
          ]
        }
      ],
      "source": [
        "y7 = y6.copy()\n",
        "X7_train, X7_test, y7_train, y7_test = train_test_split(X7, y7, test_size = 0.2, random_state = 9)\n",
        "X7_train = sc.fit_transform(X7_train)\n",
        "X7_test = sc.fit_transform(X7_test)\n",
        "\n",
        "logisticRegr7 = LogisticRegression()\n",
        "logisticRegr7.fit(X7_train, y7_train)\n",
        "\n",
        "pred_logres7 = logisticRegr7.predict(X7_test)\n",
        "\n",
        "print(classification_report(y7_test, pred_logres7))"
      ]
    },
    {
      "cell_type": "code",
      "execution_count": 86,
      "id": "89d0377b",
      "metadata": {
        "execution": {
          "iopub.execute_input": "2022-06-11T12:26:15.476739Z",
          "iopub.status.busy": "2022-06-11T12:26:15.476241Z",
          "iopub.status.idle": "2022-06-11T12:26:15.481409Z",
          "shell.execute_reply": "2022-06-11T12:26:15.480868Z"
        },
        "papermill": {
          "duration": 0.143615,
          "end_time": "2022-06-11T12:26:15.483390",
          "exception": false,
          "start_time": "2022-06-11T12:26:15.339775",
          "status": "completed"
        },
        "tags": [],
        "id": "89d0377b",
        "outputId": "ee9fbfb8-4985-4b6a-fe8d-3ec3d5286db4",
        "colab": {
          "base_uri": "https://localhost:8080/"
        }
      },
      "outputs": [
        {
          "output_type": "stream",
          "name": "stdout",
          "text": [
            "[[102  23]\n",
            " [ 46 101]]\n"
          ]
        }
      ],
      "source": [
        "print(confusion_matrix(y7_test, pred_logres7))"
      ]
    },
    {
      "cell_type": "code",
      "execution_count": 87,
      "id": "7513d658",
      "metadata": {
        "execution": {
          "iopub.execute_input": "2022-06-11T12:26:15.757417Z",
          "iopub.status.busy": "2022-06-11T12:26:15.757104Z",
          "iopub.status.idle": "2022-06-11T12:26:15.847932Z",
          "shell.execute_reply": "2022-06-11T12:26:15.847021Z"
        },
        "papermill": {
          "duration": 0.230271,
          "end_time": "2022-06-11T12:26:15.850075",
          "exception": false,
          "start_time": "2022-06-11T12:26:15.619804",
          "status": "completed"
        },
        "tags": [],
        "id": "7513d658",
        "outputId": "c5f3fe30-4be2-4566-96c9-807f650e204b",
        "colab": {
          "base_uri": "https://localhost:8080/"
        }
      },
      "outputs": [
        {
          "output_type": "execute_result",
          "data": {
            "text/plain": [
              "0.7461336010418927"
            ]
          },
          "metadata": {},
          "execution_count": 87
        }
      ],
      "source": [
        "scores = cross_val_score(logisticRegr7, X7, y7, cv=5)\n",
        "scores.mean()"
      ]
    },
    {
      "cell_type": "code",
      "execution_count": null,
      "id": "cc642348",
      "metadata": {
        "execution": {
          "iopub.execute_input": "2022-06-11T12:26:16.126910Z",
          "iopub.status.busy": "2022-06-11T12:26:16.126638Z",
          "iopub.status.idle": "2022-06-11T12:26:16.451373Z",
          "shell.execute_reply": "2022-06-11T12:26:16.450462Z"
        },
        "papermill": {
          "duration": 0.467156,
          "end_time": "2022-06-11T12:26:16.455077",
          "exception": false,
          "start_time": "2022-06-11T12:26:15.987921",
          "status": "completed"
        },
        "tags": [],
        "id": "cc642348"
      },
      "outputs": [],
      "source": [
        "scores2 = cross_val_score(logisticRegr2, X2, y2, cv=5)\n",
        "scores2.mean()"
      ]
    },
    {
      "cell_type": "code",
      "execution_count": 89,
      "id": "cefb4cd8",
      "metadata": {
        "execution": {
          "iopub.execute_input": "2022-06-11T12:26:16.784976Z",
          "iopub.status.busy": "2022-06-11T12:26:16.784702Z",
          "iopub.status.idle": "2022-06-11T12:26:16.799966Z",
          "shell.execute_reply": "2022-06-11T12:26:16.799162Z"
        },
        "papermill": {
          "duration": 0.156416,
          "end_time": "2022-06-11T12:26:16.801850",
          "exception": false,
          "start_time": "2022-06-11T12:26:16.645434",
          "status": "completed"
        },
        "tags": [],
        "id": "cefb4cd8",
        "outputId": "3c62b24b-95fa-49b6-dcb5-dbcef550cbeb",
        "colab": {
          "base_uri": "https://localhost:8080/"
        }
      },
      "outputs": [
        {
          "output_type": "stream",
          "name": "stdout",
          "text": [
            "                               feature        VIF\n",
            "0           volatile acidity sulphates  25.401374\n",
            "1  volatile acidity densityComperasion  12.856046\n",
            "2                    chlorides alcohol   5.780141\n",
            "3                          sulphates^2   9.946207\n",
            "4                    sulphates alcohol  15.325321\n"
          ]
        }
      ],
      "source": [
        "vif_data = pd.DataFrame()\n",
        "vif_data[\"feature\"] = X7.columns\n",
        "  \n",
        "# calculating VIF for each feature\n",
        "vif_data[\"VIF\"] = [variance_inflation_factor(X7.values, i)\n",
        "                          for i in range(len(X7.columns))]\n",
        "  \n",
        "print(vif_data)"
      ]
    },
    {
      "cell_type": "code",
      "source": [
        "test_accuracy_tree = [] \n",
        "for k in range (1, 30): \n",
        "    tree_clf = tree.DecisionTreeClassifier(max_depth = k)\n",
        "    tree_clf = tree_clf.fit(X_train, y_train)\n",
        "    pred_tree = tree_clf.predict(X_test)\n",
        "    test_accuracy_tree.append(accuracy_score(y_test, pred_tree)) \n",
        " \n",
        "plt.plot(np.array(range(1, 30)) , test_accuracy_tree, color = \"red\", marker = \"o\", label = \"K\") \n",
        "plt.legend() \n",
        "plt.show()"
      ],
      "metadata": {
        "colab": {
          "base_uri": "https://localhost:8080/",
          "height": 265
        },
        "id": "cra1xsIZYNse",
        "outputId": "b845c93c-fb96-4eb3-ef79-b6758154c32a"
      },
      "id": "cra1xsIZYNse",
      "execution_count": 108,
      "outputs": [
        {
          "output_type": "display_data",
          "data": {
            "text/plain": [
              "<Figure size 432x288 with 1 Axes>"
            ],
            "image/png": "[encoded data removed]"
          },
          "metadata": {
            "needs_background": "light"
          }
        }
      ]
    },
    {
      "cell_type": "code",
      "source": [
        "# plotting decision tree with lenght 5\n",
        "tree_clf = tree.DecisionTreeClassifier(max_depth = 5)\n",
        "tree_clf = tree_clf.fit(X_train, y_train)\n",
        "pred_tree = tree_clf.predict(X_test)\n",
        "tree.plot_tree(tree_clf)\n",
        "plt.rcParams[\"figure.figsize\"] = (20,20)\n",
        "plt.show()"
      ],
      "metadata": {
        "colab": {
          "base_uri": "https://localhost:8080/",
          "height": 563
        },
        "id": "6ONjLvOtiATu",
        "outputId": "7a41271c-dce5-4e54-c4e5-0b55e865ed05"
      },
      "id": "6ONjLvOtiATu",
      "execution_count": 123,
      "outputs": [
        {
          "output_type": "display_data",
          "data": {
            "text/plain": [
              "<Figure size 2880x1440 with 1 Axes>"
            ],
            "image/png": "[encoded data removed]"
          },
          "metadata": {
            "needs_background": "light"
          }
        }
      ]
    },
    {
      "cell_type": "code",
      "source": [
        "cm = (confusion_matrix(y_test, pred_tree))\n",
        "plt.rcParams[\"figure.figsize\"] = (6,4)\n",
        "ax= plt.subplot()\n",
        "sns.heatmap(cm, annot=True, fmt='g', ax=ax);\n",
        "\n",
        "# labels, title and ticks\n",
        "ax.set_xlabel('Predicted labels');\n",
        "ax.set_ylabel('True labels'); \n",
        "ax.set_title('Confusion Matrix'); \n",
        "ax.xaxis.set_ticklabels(['good', 'bad']); \n",
        "ax.yaxis.set_ticklabels(['good', 'bad']);"
      ],
      "metadata": {
        "colab": {
          "base_uri": "https://localhost:8080/",
          "height": 295
        },
        "id": "UTiGLh7skscD",
        "outputId": "610e6754-1eb8-4782-be2e-bf39812472bf"
      },
      "id": "UTiGLh7skscD",
      "execution_count": 127,
      "outputs": [
        {
          "output_type": "display_data",
          "data": {
            "text/plain": [
              "<Figure size 432x288 with 2 Axes>"
            ],
            "image/png": "[encoded data removed]"
          },
          "metadata": {
            "needs_background": "light"
          }
        }
      ]
    },
    {
      "cell_type": "code",
      "source": [
        "tree_roc_auc = roc_auc_score(y_test, tree_clf.predict(X_test))\n",
        "fpr, tpr, thresholds = roc_curve(y_test, tree_clf.predict_proba(X_test)[:,1])\n",
        "plt.figure()\n",
        "plt.plot(fpr, tpr, label='decision tree (area = %0.2f)' % tree_roc_auc)\n",
        "plt.plot([0, 1], [0, 1],'r--')\n",
        "plt.xlim([0.0, 1.0])\n",
        "plt.ylim([0.0, 1.05])\n",
        "plt.xlabel('False Positive Rate')\n",
        "plt.ylabel('True Positive Rate')\n",
        "plt.title('Receiver operating characteristic')\n",
        "plt.legend(loc=\"lower right\")\n",
        "plt.savefig('Log_ROC')\n",
        "plt.show()"
      ],
      "metadata": {
        "colab": {
          "base_uri": "https://localhost:8080/",
          "height": 295
        },
        "id": "7NQ4ZqbTlQgS",
        "outputId": "3037c6fe-ceb0-4ee2-a588-c4c9f0fc0bbe"
      },
      "id": "7NQ4ZqbTlQgS",
      "execution_count": 128,
      "outputs": [
        {
          "output_type": "display_data",
          "data": {
            "text/plain": [
              "<Figure size 432x288 with 1 Axes>"
            ],
            "image/png": "[encoded data removed]"
          },
          "metadata": {
            "needs_background": "light"
          }
        }
      ]
    },
    {
      "cell_type": "code",
      "source": [
        "random_forest_clf = RandomForestClassifier(max_depth = 3)\n",
        "random_forest_clf = random_forest_clf.fit(X_train, y_train)\n",
        "pred_random_forest = random_forest_clf.predict(X_test)\n",
        "\n",
        "print(classification_report(y_test, pred_random_forest))"
      ],
      "metadata": {
        "colab": {
          "base_uri": "https://localhost:8080/"
        },
        "id": "0TPlUDLbvFBq",
        "outputId": "e48a230e-99d7-473c-d14f-73bfdb67f2d0"
      },
      "id": "0TPlUDLbvFBq",
      "execution_count": 139,
      "outputs": [
        {
          "output_type": "stream",
          "name": "stdout",
          "text": [
            "              precision    recall  f1-score   support\n",
            "\n",
            "           0       0.72      0.78      0.75       125\n",
            "           1       0.80      0.74      0.77       147\n",
            "\n",
            "    accuracy                           0.76       272\n",
            "   macro avg       0.76      0.76      0.76       272\n",
            "weighted avg       0.76      0.76      0.76       272\n",
            "\n"
          ]
        }
      ]
    },
    {
      "cell_type": "code",
      "source": [
        "cm = (confusion_matrix(y_test, pred_random_forest))\n",
        "plt.rcParams[\"figure.figsize\"] = (6,4)\n",
        "ax= plt.subplot()\n",
        "sns.heatmap(cm, annot=True, fmt='g', ax=ax);\n",
        "\n",
        "# labels, title and ticks\n",
        "ax.set_xlabel('Predicted labels');\n",
        "ax.set_ylabel('True labels'); \n",
        "ax.set_title('Confusion Matrix'); \n",
        "ax.xaxis.set_ticklabels(['good', 'bad']); \n",
        "ax.yaxis.set_ticklabels(['good', 'bad']);"
      ],
      "metadata": {
        "colab": {
          "base_uri": "https://localhost:8080/",
          "height": 295
        },
        "id": "yOlyAFwlzg-e",
        "outputId": "98304991-e120-4eee-a0f2-8283e4048ee2"
      },
      "id": "yOlyAFwlzg-e",
      "execution_count": 140,
      "outputs": [
        {
          "output_type": "display_data",
          "data": {
            "text/plain": [
              "<Figure size 432x288 with 2 Axes>"
            ],
            "image/png": "[encoded data removed]"
          },
          "metadata": {
            "needs_background": "light"
          }
        }
      ]
    },
    {
      "cell_type": "code",
      "source": [
        "random_forest_roc_auc = roc_auc_score(y_test, random_forest_clf.predict(X_test))\n",
        "fpr, tpr, thresholds = roc_curve(y_test, random_forest_clf.predict_proba(X_test)[:,1])\n",
        "plt.figure()\n",
        "plt.plot(fpr, tpr, label='random forest (area = %0.2f)' % random_forest_roc_auc)\n",
        "plt.plot([0, 1], [0, 1],'r--')\n",
        "plt.xlim([0.0, 1.0])\n",
        "plt.ylim([0.0, 1.05])\n",
        "plt.xlabel('False Positive Rate')\n",
        "plt.ylabel('True Positive Rate')\n",
        "plt.title('Receiver operating characteristic')\n",
        "plt.legend(loc=\"lower right\")\n",
        "plt.savefig('Log_ROC')\n",
        "plt.show()"
      ],
      "metadata": {
        "colab": {
          "base_uri": "https://localhost:8080/",
          "height": 295
        },
        "id": "QMhLtuia0IlC",
        "outputId": "674495c9-2bb7-4264-de6b-b90c67a48c66"
      },
      "id": "QMhLtuia0IlC",
      "execution_count": 141,
      "outputs": [
        {
          "output_type": "display_data",
          "data": {
            "text/plain": [
              "<Figure size 432x288 with 1 Axes>"
            ],
            "image/png": "[encoded data removed]"
          },
          "metadata": {
            "needs_background": "light"
          }
        }
      ]
    },
    {
      "cell_type": "code",
      "source": [
        "svm_clf_linear = svm.SVC(kernel='linear')\n",
        "svm_clf_linear = svm_clf_linear.fit(X_train, y_train)\n",
        "pred_svm_linear = svm_clf_linear.predict(X_test)\n",
        "\n",
        "print(classification_report(y_test, pred_svm_linear))"
      ],
      "metadata": {
        "colab": {
          "base_uri": "https://localhost:8080/"
        },
        "id": "2qz1pBHM0m6o",
        "outputId": "bc59658b-b090-4b36-c855-2a67a50efab9"
      },
      "id": "2qz1pBHM0m6o",
      "execution_count": 148,
      "outputs": [
        {
          "output_type": "stream",
          "name": "stdout",
          "text": [
            "              precision    recall  f1-score   support\n",
            "\n",
            "           0       0.70      0.83      0.76       125\n",
            "           1       0.83      0.70      0.76       147\n",
            "\n",
            "    accuracy                           0.76       272\n",
            "   macro avg       0.77      0.77      0.76       272\n",
            "weighted avg       0.77      0.76      0.76       272\n",
            "\n"
          ]
        }
      ]
    },
    {
      "cell_type": "code",
      "source": [
        "cm = (confusion_matrix(y_test, pred_svm_linear))\n",
        "plt.rcParams[\"figure.figsize\"] = (6,4)\n",
        "ax= plt.subplot()\n",
        "sns.heatmap(cm, annot=True, fmt='g', ax=ax);\n",
        "\n",
        "# labels, title and ticks\n",
        "ax.set_xlabel('Predicted labels');\n",
        "ax.set_ylabel('True labels'); \n",
        "ax.set_title('Confusion Matrix'); \n",
        "ax.xaxis.set_ticklabels(['good', 'bad']); \n",
        "ax.yaxis.set_ticklabels(['good', 'bad']);"
      ],
      "metadata": {
        "colab": {
          "base_uri": "https://localhost:8080/",
          "height": 295
        },
        "id": "vefX-iSB2qv9",
        "outputId": "e8458211-cd97-4b15-c909-79055f45c9f4"
      },
      "id": "vefX-iSB2qv9",
      "execution_count": 149,
      "outputs": [
        {
          "output_type": "display_data",
          "data": {
            "text/plain": [
              "<Figure size 432x288 with 2 Axes>"
            ],
            "image/png": "[encoded data removed]"
          },
          "metadata": {
            "needs_background": "light"
          }
        }
      ]
    },
    {
      "cell_type": "code",
      "source": [
        "svm_clf_poly = svm.SVC(kernel='poly')\n",
        "svm_clf_poly = svm_clf_poly.fit(X_train, y_train)\n",
        "pred_svm_poly = svm_clf_poly.predict(X_test)\n",
        "\n",
        "print(classification_report(y_test, pred_svm_poly))"
      ],
      "metadata": {
        "colab": {
          "base_uri": "https://localhost:8080/"
        },
        "id": "TbUksugPB04R",
        "outputId": "ffe1ecaf-bcc7-430f-b16e-dcd83c5850e6"
      },
      "id": "TbUksugPB04R",
      "execution_count": 150,
      "outputs": [
        {
          "output_type": "stream",
          "name": "stdout",
          "text": [
            "              precision    recall  f1-score   support\n",
            "\n",
            "           0       0.75      0.78      0.76       125\n",
            "           1       0.80      0.78      0.79       147\n",
            "\n",
            "    accuracy                           0.78       272\n",
            "   macro avg       0.78      0.78      0.78       272\n",
            "weighted avg       0.78      0.78      0.78       272\n",
            "\n"
          ]
        }
      ]
    },
    {
      "cell_type": "code",
      "source": [
        "cm = (confusion_matrix(y_test, pred_svm_poly))\n",
        "plt.rcParams[\"figure.figsize\"] = (6,4)\n",
        "ax= plt.subplot()\n",
        "sns.heatmap(cm, annot=True, fmt='g', ax=ax);\n",
        "\n",
        "# labels, title and ticks\n",
        "ax.set_xlabel('Predicted labels');\n",
        "ax.set_ylabel('True labels'); \n",
        "ax.set_title('Confusion Matrix'); \n",
        "ax.xaxis.set_ticklabels(['good', 'bad']); \n",
        "ax.yaxis.set_ticklabels(['good', 'bad']);"
      ],
      "metadata": {
        "colab": {
          "base_uri": "https://localhost:8080/",
          "height": 295
        },
        "id": "EuYIsJZTCirp",
        "outputId": "63a0f0be-a36b-4136-88bb-a6717d07a939"
      },
      "id": "EuYIsJZTCirp",
      "execution_count": 151,
      "outputs": [
        {
          "output_type": "display_data",
          "data": {
            "text/plain": [
              "<Figure size 432x288 with 2 Axes>"
            ],
            "image/png": "[encoded data removed]"
          },
          "metadata": {
            "needs_background": "light"
          }
        }
      ]
    },
    {
      "cell_type": "code",
      "source": [
        "svm_clf_rbf = svm.SVC(kernel='rbf')\n",
        "svm_clf_rbf = svm_clf_rbf.fit(X_train, y_train)\n",
        "pred_svm_rbf = svm_clf_rbf.predict(X_test)\n",
        "\n",
        "print(classification_report(y_test, pred_svm_rbf))"
      ],
      "metadata": {
        "colab": {
          "base_uri": "https://localhost:8080/"
        },
        "id": "v_oNnl6bCy5Y",
        "outputId": "23cb0302-0c44-440d-8700-2be7eb26e15f"
      },
      "id": "v_oNnl6bCy5Y",
      "execution_count": 152,
      "outputs": [
        {
          "output_type": "stream",
          "name": "stdout",
          "text": [
            "              precision    recall  f1-score   support\n",
            "\n",
            "           0       0.73      0.79      0.76       125\n",
            "           1       0.81      0.76      0.78       147\n",
            "\n",
            "    accuracy                           0.77       272\n",
            "   macro avg       0.77      0.77      0.77       272\n",
            "weighted avg       0.77      0.77      0.77       272\n",
            "\n"
          ]
        }
      ]
    },
    {
      "cell_type": "code",
      "source": [
        "cm = (confusion_matrix(y_test, pred_svm_rbf))\n",
        "plt.rcParams[\"figure.figsize\"] = (6,4)\n",
        "ax= plt.subplot()\n",
        "sns.heatmap(cm, annot=True, fmt='g', ax=ax);\n",
        "\n",
        "# labels, title and ticks\n",
        "ax.set_xlabel('Predicted labels');\n",
        "ax.set_ylabel('True labels'); \n",
        "ax.set_title('Confusion Matrix'); \n",
        "ax.xaxis.set_ticklabels(['good', 'bad']); \n",
        "ax.yaxis.set_ticklabels(['good', 'bad']);"
      ],
      "metadata": {
        "colab": {
          "base_uri": "https://localhost:8080/",
          "height": 295
        },
        "id": "86WXJyDTDUG8",
        "outputId": "1d969a63-083e-4f5a-d478-373b77a53482"
      },
      "id": "86WXJyDTDUG8",
      "execution_count": 153,
      "outputs": [
        {
          "output_type": "display_data",
          "data": {
            "text/plain": [
              "<Figure size 432x288 with 2 Axes>"
            ],
            "image/png": "[encoded data removed]"
          },
          "metadata": {
            "needs_background": "light"
          }
        }
      ]
    }
  ],
  "metadata": {
    "kernelspec": {
      "display_name": "Python 3",
      "language": "python",
      "name": "python3"
    },
    "language_info": {
      "codemirror_mode": {
        "name": "ipython",
        "version": 3
      },
      "file_extension": ".py",
      "mimetype": "text/x-python",
      "name": "python",
      "nbconvert_exporter": "python",
      "pygments_lexer": "ipython3",
      "version": "3.7.12"
    },
    "papermill": {
      "default_parameters": {},
      "duration": 65.184139,
      "end_time": "2022-06-11T12:26:17.760146",
      "environment_variables": {},
      "exception": null,
      "input_path": "__notebook__.ipynb",
      "output_path": "__notebook__.ipynb",
      "parameters": {},
      "start_time": "2022-06-11T12:25:12.576007",
      "version": "2.3.4"
    },
    "colab": {
      "name": "Drink_Quality_Predictor.ipynb",
      "provenance": [],
      "collapsed_sections": []
    }
  },
  "nbformat": 4,
  "nbformat_minor": 5
}